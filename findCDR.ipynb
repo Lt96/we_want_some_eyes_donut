{
 "cells": [
  {
   "cell_type": "code",
   "execution_count": null,
   "metadata": {},
   "outputs": [],
   "source": [
    "import numpy as np\n",
    "import pandas as pd\n",
    "import glob\n",
    "import cv2\n",
    "from ActiveContourDisc import activecontour\n",
    "from ROI_from_excel import getROI\n",
    "from ROI_from_excel import ShowResizedIm\n",
    "from gutDWT import dwtopticdiscfinder\n",
    "from cupB_eval import find_cup\n",
    "import pandas as pd\n",
    "from pandas import ExcelWriter\n",
    "from pandas import ExcelFile"
   ]
  },
  {
   "cell_type": "code",
   "execution_count": null,
   "metadata": {
    "scrolled": true
   },
   "outputs": [],
   "source": [
    "def getCDR(img,ROI_size):\n",
    "    canvas = img.copy()\n",
    "    #1 img -> preprocess\n",
    "    #2 proprocess -> coordinate\n",
    "    xODC,yODC = dwtopticdiscfinder(img)\n",
    "    xODC = int(xODC)\n",
    "    yODC = int(yODC)\n",
    "    #3 coordinate -> ROI\n",
    "    ROI_image,x_ROI1,y_ROI1,x_ROI2,y_ROI2 = getROI(img,xODC,yODC,ROI_size)\n",
    "    #4 disc\n",
    "    canvas,__,top_OD,__,bot_OD,snake = activecontour(canvas,ROI_image,xODC,\n",
    "                                               yODC,ROI_size,radius=250,B=90,WL=0.123,WE=6.5)\n",
    "    ROI_imageL,x_ROI1,y_ROI1,x_ROI2,y_ROI2 = getROI(canvas,xODC,yODC,ROI_size)\n",
    "    \n",
    "    OD_size = round(bot_OD-top_OD,0)\n",
    "    print(OD_size)\n",
    "    #5 cup\n",
    "    \n",
    "    center, radious, area, error, image_result = find_cup(ROI_image,ROI_imageL)\n",
    "    cv2.circle(canvas,(int(center[0]+x_ROI1),int(center[1]+y_ROI1)), radious,(0,255,0),2)\n",
    "    OC_size = round(radious*2,0)\n",
    "    #6 CDR\n",
    "    CDR = round(OC_size/OD_size,2)\n",
    "    cv2.line(canvas, (xODC+20, yODC), (xODC-20, yODC), (0, 0, 255), 3) \n",
    "    cv2.line(canvas, (xODC, yODC+20), (xODC, yODC-20), (0, 0, 255), 3) \n",
    "    return canvas,OD_size,OC_size,CDR"
   ]
  },
  {
   "cell_type": "code",
   "execution_count": 10,
   "metadata": {},
   "outputs": [
    {
     "name": "stdout",
     "output_type": "stream",
     "text": [
      "263.0\n",
      "(500, 500)\n",
      "(500, 500)\n",
      "235.0\n",
      "(500, 500)\n",
      "(500, 500)\n",
      "296.0\n",
      "(500, 500)\n",
      "(500, 500)\n",
      "228.0\n",
      "(500, 500)\n",
      "(500, 500)\n",
      "306.0\n",
      "(500, 500)\n",
      "(500, 500)\n",
      "249.0\n",
      "(500, 500)\n",
      "(500, 500)\n",
      "247.0\n",
      "(500, 500)\n",
      "(500, 500)\n",
      "302.0\n",
      "(500, 500)\n",
      "(500, 500)\n",
      "252.0\n",
      "(500, 500)\n",
      "(500, 500)\n",
      "253.0\n",
      "(500, 500)\n",
      "(500, 500)\n",
      "170.0\n",
      "(500, 500)\n",
      "(500, 500)\n",
      "280.0\n",
      "(500, 500)\n",
      "(500, 500)\n",
      "273.0\n",
      "(500, 500)\n",
      "(500, 500)\n",
      "269.0\n",
      "(500, 500)\n",
      "(500, 500)\n",
      "261.0\n",
      "(500, 500)\n",
      "(500, 500)\n",
      "279.0\n"
     ]
    },
    {
     "ename": "IndexError",
     "evalue": "index 281 is out of bounds for axis 0 with size 281",
     "output_type": "error",
     "traceback": [
      "\u001b[1;31m---------------------------------------------------------------------------\u001b[0m",
      "\u001b[1;31mIndexError\u001b[0m                                Traceback (most recent call last)",
      "\u001b[1;32m<ipython-input-10-c9f12747369a>\u001b[0m in \u001b[0;36m<module>\u001b[1;34m\u001b[0m\n\u001b[0;32m     14\u001b[0m \u001b[1;32mfor\u001b[0m \u001b[0mi\u001b[0m \u001b[1;32min\u001b[0m \u001b[0mimage_list\u001b[0m\u001b[1;33m:\u001b[0m\u001b[1;33m\u001b[0m\u001b[1;33m\u001b[0m\u001b[0m\n\u001b[0;32m     15\u001b[0m     \u001b[0mimg\u001b[0m \u001b[1;33m=\u001b[0m \u001b[0mcv2\u001b[0m\u001b[1;33m.\u001b[0m\u001b[0mimread\u001b[0m\u001b[1;33m(\u001b[0m\u001b[0mi\u001b[0m\u001b[1;33m)\u001b[0m \u001b[1;31m#import image\u001b[0m\u001b[1;33m\u001b[0m\u001b[1;33m\u001b[0m\u001b[0m\n\u001b[1;32m---> 16\u001b[1;33m     \u001b[0moutput\u001b[0m\u001b[1;33m,\u001b[0m\u001b[0mOD_size\u001b[0m\u001b[1;33m,\u001b[0m\u001b[0mOC_size\u001b[0m\u001b[1;33m,\u001b[0m\u001b[0mCDR\u001b[0m \u001b[1;33m=\u001b[0m \u001b[0mgetCDR\u001b[0m\u001b[1;33m(\u001b[0m\u001b[0mimg\u001b[0m\u001b[1;33m,\u001b[0m\u001b[0mcrop_size\u001b[0m\u001b[1;33m)\u001b[0m\u001b[1;33m\u001b[0m\u001b[1;33m\u001b[0m\u001b[0m\n\u001b[0m\u001b[0;32m     17\u001b[0m     \u001b[0mname_list\u001b[0m\u001b[1;33m.\u001b[0m\u001b[0mappend\u001b[0m\u001b[1;33m(\u001b[0m\u001b[0mi\u001b[0m\u001b[1;33m)\u001b[0m\u001b[1;33m\u001b[0m\u001b[1;33m\u001b[0m\u001b[0m\n\u001b[0;32m     18\u001b[0m     \u001b[0mOD_size_list\u001b[0m\u001b[1;33m.\u001b[0m\u001b[0mappend\u001b[0m\u001b[1;33m(\u001b[0m\u001b[0mOD_size\u001b[0m\u001b[1;33m)\u001b[0m\u001b[1;33m\u001b[0m\u001b[1;33m\u001b[0m\u001b[0m\n",
      "\u001b[1;32m<ipython-input-3-ed12fd74d961>\u001b[0m in \u001b[0;36mgetCDR\u001b[1;34m(img, ROI_size)\u001b[0m\n\u001b[0;32m     17\u001b[0m     \u001b[1;31m#5 cup\u001b[0m\u001b[1;33m\u001b[0m\u001b[1;33m\u001b[0m\u001b[1;33m\u001b[0m\u001b[0m\n\u001b[0;32m     18\u001b[0m \u001b[1;33m\u001b[0m\u001b[0m\n\u001b[1;32m---> 19\u001b[1;33m     \u001b[0mcenter\u001b[0m\u001b[1;33m,\u001b[0m \u001b[0mradious\u001b[0m\u001b[1;33m,\u001b[0m \u001b[0marea\u001b[0m\u001b[1;33m,\u001b[0m \u001b[0merror\u001b[0m\u001b[1;33m,\u001b[0m \u001b[0mimage_result\u001b[0m \u001b[1;33m=\u001b[0m \u001b[0mfind_cup\u001b[0m\u001b[1;33m(\u001b[0m\u001b[0mROI_image\u001b[0m\u001b[1;33m,\u001b[0m\u001b[0mROI_imageL\u001b[0m\u001b[1;33m)\u001b[0m\u001b[1;33m\u001b[0m\u001b[1;33m\u001b[0m\u001b[0m\n\u001b[0m\u001b[0;32m     20\u001b[0m     \u001b[0mcv2\u001b[0m\u001b[1;33m.\u001b[0m\u001b[0mcircle\u001b[0m\u001b[1;33m(\u001b[0m\u001b[0mcanvas\u001b[0m\u001b[1;33m,\u001b[0m\u001b[1;33m(\u001b[0m\u001b[0mint\u001b[0m\u001b[1;33m(\u001b[0m\u001b[0mcenter\u001b[0m\u001b[1;33m[\u001b[0m\u001b[1;36m0\u001b[0m\u001b[1;33m]\u001b[0m\u001b[1;33m+\u001b[0m\u001b[0mx_ROI1\u001b[0m\u001b[1;33m)\u001b[0m\u001b[1;33m,\u001b[0m\u001b[0mint\u001b[0m\u001b[1;33m(\u001b[0m\u001b[0mcenter\u001b[0m\u001b[1;33m[\u001b[0m\u001b[1;36m1\u001b[0m\u001b[1;33m]\u001b[0m\u001b[1;33m+\u001b[0m\u001b[0my_ROI1\u001b[0m\u001b[1;33m)\u001b[0m\u001b[1;33m)\u001b[0m\u001b[1;33m,\u001b[0m \u001b[0mradious\u001b[0m\u001b[1;33m,\u001b[0m\u001b[1;33m(\u001b[0m\u001b[1;36m0\u001b[0m\u001b[1;33m,\u001b[0m\u001b[1;36m255\u001b[0m\u001b[1;33m,\u001b[0m\u001b[1;36m0\u001b[0m\u001b[1;33m)\u001b[0m\u001b[1;33m,\u001b[0m\u001b[1;36m2\u001b[0m\u001b[1;33m)\u001b[0m\u001b[1;33m\u001b[0m\u001b[1;33m\u001b[0m\u001b[0m\n\u001b[0;32m     21\u001b[0m     \u001b[0mOC_size\u001b[0m \u001b[1;33m=\u001b[0m \u001b[0mround\u001b[0m\u001b[1;33m(\u001b[0m\u001b[0mradious\u001b[0m\u001b[1;33m*\u001b[0m\u001b[1;36m2\u001b[0m\u001b[1;33m,\u001b[0m\u001b[1;36m0\u001b[0m\u001b[1;33m)\u001b[0m\u001b[1;33m\u001b[0m\u001b[1;33m\u001b[0m\u001b[0m\n",
      "\u001b[1;32m~\\Sunny storage\\work\\glaucoma\\program\\we_want_some_eyes_donut\\cupB_eval.py\u001b[0m in \u001b[0;36mfind_cup\u001b[1;34m(img_ROI, img_ROIL)\u001b[0m\n\u001b[0;32m    215\u001b[0m             \u001b[0mx\u001b[0m\u001b[1;33m,\u001b[0m\u001b[0my\u001b[0m \u001b[1;33m=\u001b[0m \u001b[0mrotate\u001b[0m\u001b[1;33m(\u001b[0m\u001b[0mcenter\u001b[0m\u001b[1;33m,\u001b[0m \u001b[0msampling_posO\u001b[0m\u001b[1;33m,\u001b[0m \u001b[0mtheta\u001b[0m\u001b[1;33m)\u001b[0m\u001b[1;33m\u001b[0m\u001b[1;33m\u001b[0m\u001b[0m\n\u001b[0;32m    216\u001b[0m             \u001b[0msampling_pos\u001b[0m \u001b[1;33m=\u001b[0m \u001b[1;33m[\u001b[0m\u001b[0mround\u001b[0m\u001b[1;33m(\u001b[0m\u001b[0my\u001b[0m\u001b[1;33m)\u001b[0m\u001b[1;33m,\u001b[0m\u001b[0mround\u001b[0m\u001b[1;33m(\u001b[0m\u001b[0mx\u001b[0m\u001b[1;33m)\u001b[0m\u001b[1;33m]\u001b[0m\u001b[1;33m\u001b[0m\u001b[1;33m\u001b[0m\u001b[0m\n\u001b[1;32m--> 217\u001b[1;33m             \u001b[0msampling\u001b[0m\u001b[1;33m[\u001b[0m\u001b[0msampling_pos\u001b[0m\u001b[1;33m[\u001b[0m\u001b[1;36m0\u001b[0m\u001b[1;33m]\u001b[0m\u001b[1;33m,\u001b[0m\u001b[0msampling_pos\u001b[0m\u001b[1;33m[\u001b[0m\u001b[1;36m1\u001b[0m\u001b[1;33m]\u001b[0m\u001b[1;33m]\u001b[0m \u001b[1;33m=\u001b[0m \u001b[1;36m255\u001b[0m\u001b[1;33m\u001b[0m\u001b[1;33m\u001b[0m\u001b[0m\n\u001b[0m\u001b[0;32m    218\u001b[0m         \u001b[0mi\u001b[0m\u001b[1;33m+=\u001b[0m\u001b[1;36m5\u001b[0m\u001b[1;33m\u001b[0m\u001b[1;33m\u001b[0m\u001b[0m\n\u001b[0;32m    219\u001b[0m \u001b[1;33m\u001b[0m\u001b[0m\n",
      "\u001b[1;31mIndexError\u001b[0m: index 281 is out of bounds for axis 0 with size 281"
     ]
    },
    {
     "data": {
      "text/plain": [
       "<Figure size 432x288 with 0 Axes>"
      ]
     },
     "metadata": {},
     "output_type": "display_data"
    }
   ],
   "source": [
    "#=============USER INPUT=============\n",
    "\n",
    "crop_size = 500\n",
    "\n",
    "#=============USER END=============\n",
    "path = 'RAW_FUNDUS_INPUT/*.jpg'\n",
    "image_list = []\n",
    "for filename in glob.glob(path):\n",
    "    image_list.append(filename)\n",
    "name_list = []\n",
    "OD_size_list = []\n",
    "OC_size_list = []\n",
    "CDR_list = []\n",
    "for i in image_list:\n",
    "    img = cv2.imread(i) #import image\n",
    "    output,OD_size,OC_size,CDR = getCDR(img,crop_size)\n",
    "    name_list.append(i)\n",
    "    OD_size_list.append(OD_size)\n",
    "    OC_size_list.append(OC_size)\n",
    "    CDR_list.append(CDR)\n",
    "\n",
    "    #ShowResizedIm(output,\"image_result\",2)\n",
    "    #cv2.waitKey(0)\n",
    "    #cv2.destroyAllWindows()\n",
    "df = pd.DataFrame({'file name':name_list,\n",
    "                       'OD_size':OD_size_list,\n",
    "                       'OC_size':OC_size_list,\n",
    "                       'CDR':CDR_list\n",
    "                      })\n",
    "writer = ExcelWriter('CDR.xlsx')\n",
    "df.to_excel(writer,'Sheet1',index=False)\n",
    "writer.save()"
   ]
  },
  {
   "cell_type": "code",
   "execution_count": null,
   "metadata": {},
   "outputs": [],
   "source": [
    "from tkinter import *\n",
    "from tkinter import filedialog\n",
    "from PIL import ImageTk,Image\n",
    "import cv2"
   ]
  },
  {
   "cell_type": "code",
   "execution_count": 12,
   "metadata": {
    "scrolled": true
   },
   "outputs": [
    {
     "name": "stdout",
     "output_type": "stream",
     "text": [
      "C:/Users/SUNNY/Sunny storage/work/glaucoma/program/we_want_some_eyes_donut/RAW_FUNDUS_INPUT/271_086.jpg\n",
      "247.0\n",
      "(500, 500)\n",
      "(500, 500)\n",
      "C:/Users/SUNNY/Sunny storage/work/glaucoma/program/we_want_some_eyes_donut/RAW_FUNDUS_INPUT/267_008.jpg\n",
      "296.0\n",
      "(500, 500)\n",
      "(500, 500)\n"
     ]
    },
    {
     "data": {
      "text/plain": [
       "<Figure size 432x288 with 0 Axes>"
      ]
     },
     "metadata": {},
     "output_type": "display_data"
    }
   ],
   "source": [
    "#=============USER INPUT=============\n",
    "\n",
    "crop_size = 500\n",
    "image_show_size = 4\n",
    "#=============USER END=============\n",
    "window = Tk()\n",
    "window.geometry(\"1300x700\") #Width x Height\n",
    "window.title('CDR finder')\n",
    "top_text_frame = Frame(window)\n",
    "top_text_frame.pack()\n",
    "\n",
    "image_frame = Frame(window)\n",
    "image_frame.pack()\n",
    "\n",
    "bot_result_frame = Frame(window)\n",
    "bot_result_frame.pack()\n",
    "\n",
    "label = Label(top_text_frame,text='WELCOME TO CDR FINDER alpha0.01')\n",
    "label.pack()\n",
    "\n",
    "label_OD = Label(bot_result_frame,text=\"OD = \")\n",
    "label_OD.pack()\n",
    "label_OC = Label(bot_result_frame,text=\"OC = \")\n",
    "label_OC.pack()\n",
    "label_CDR = Label(bot_result_frame,text=\"CDR = \")\n",
    "label_CDR.pack()\n",
    "label_NP = Label(bot_result_frame,text=\"\")\n",
    "label_NP.pack()\n",
    "global image_path \n",
    "global imgout\n",
    "def getPathBtn():\n",
    "    image_path = \"\"\n",
    "    window.filename =  filedialog.askopenfilename(initialdir = \"/\",\n",
    "                                                  title = \"Select file\",filetypes = ((\"jpeg files\",\"*.jpg\"),(\"all files\",\"*.*\")))\n",
    "    image_path = window.filename\n",
    "    if image_path is not '':\n",
    "        print(image_path)        \n",
    "        img = cv2.imread(image_path)\n",
    "        \n",
    "        output,OD_size,OC_size,CDR = getCDR(img,crop_size)\n",
    "        \n",
    "        img_H,img_W = img.shape[:2]\n",
    "        img = cv2.cvtColor(img,cv2.COLOR_BGR2RGB)\n",
    "        output = cv2.cvtColor(output,cv2.COLOR_BGR2RGB)\n",
    "        img_resized = cv2.resize(img, (int(img_W/image_show_size),int(img_H/image_show_size)), interpolation = cv2.INTER_AREA)\n",
    "        out_resized = cv2.resize(output, (int(img_W/image_show_size),int(img_H/image_show_size)), interpolation = cv2.INTER_AREA)\n",
    "        img_Tk = ImageTk.PhotoImage(image = Image.fromarray(img_resized))\n",
    "        out_Tk = ImageTk.PhotoImage(image = Image.fromarray(out_resized))\n",
    "        label_img = Label(image_frame,image=img_Tk)\n",
    "        label_out = Label(image_frame,image=out_Tk)\n",
    "        label_img.image = img_Tk # keep a reference!\n",
    "        label_out.image = out_Tk # keep a reference!\n",
    "        label_img.grid(row=0,column=1, sticky=\"en\")\n",
    "        label_out.grid(row=0,column=2, sticky=\"en\")\n",
    "        \n",
    "        label_OD.config(text=\"OD = \"+str(OD_size)+\" pixels\")\n",
    "        label_OC.config(text=\"OC = \"+str(OC_size)+\"50 pixels\")\n",
    "        label_CDR.config(text=\"CDR = \"+str(CDR))\n",
    "        if CDR < 0.6:\n",
    "            label_NP.config(text=\"Negative(-)\")\n",
    "        else:\n",
    "            label_NP.config(text=\"Positive(+)\")\n",
    "\n",
    "    \n",
    "btn_browse = Button(top_text_frame , text = 'browse',command = getPathBtn)\n",
    "btn_browse.pack()\n",
    "\n",
    "\n",
    "window.mainloop()"
   ]
  },
  {
   "cell_type": "code",
   "execution_count": null,
   "metadata": {},
   "outputs": [],
   "source": []
  }
 ],
 "metadata": {
  "kernelspec": {
   "display_name": "Python 3",
   "language": "python",
   "name": "python3"
  },
  "language_info": {
   "codemirror_mode": {
    "name": "ipython",
    "version": 3
   },
   "file_extension": ".py",
   "mimetype": "text/x-python",
   "name": "python",
   "nbconvert_exporter": "python",
   "pygments_lexer": "ipython3",
   "version": "3.7.4"
  }
 },
 "nbformat": 4,
 "nbformat_minor": 2
}
