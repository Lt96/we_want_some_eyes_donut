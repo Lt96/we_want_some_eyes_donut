{
 "cells": [
  {
   "cell_type": "code",
   "execution_count": 12,
   "metadata": {},
   "outputs": [],
   "source": [
    "import cv2\n",
    "import numpy as np\n",
    "import os\n",
    "import csv\n",
    "import matplotlib.pyplot as plt\n",
    "from scipy import ndimage\n",
    "\n",
    "def bogieBV(img):\n",
    "    b,g,r = cv2.split(img)\n",
    "    clahe = cv2.createCLAHE(clipLimit=2.0, tileGridSize=(8,8))\n",
    "    contrast_enhanced_green_fundus = clahe.apply(g)\n",
    "\n",
    "     # applying alternate sequential filtering (3 times closing opening)\n",
    "    r1 = cv2.morphologyEx(contrast_enhanced_green_fundus, cv2.MORPH_OPEN, cv2.getStructuringElement(cv2.MORPH_ELLIPSE,(5,5)), iterations = 1)\n",
    "    R1 = cv2.morphologyEx(r1, cv2.MORPH_CLOSE, cv2.getStructuringElement(cv2.MORPH_ELLIPSE,(5,5)), iterations = 1)\n",
    "    r2 = cv2.morphologyEx(R1, cv2.MORPH_OPEN, cv2.getStructuringElement(cv2.MORPH_ELLIPSE,(11,11)), iterations = 1)\n",
    "    R2 = cv2.morphologyEx(r2, cv2.MORPH_CLOSE, cv2.getStructuringElement(cv2.MORPH_ELLIPSE,(11,11)), iterations = 1)\n",
    "    r3 = cv2.morphologyEx(R2, cv2.MORPH_OPEN, cv2.getStructuringElement(cv2.MORPH_ELLIPSE,(23,23)), iterations = 1)\n",
    "    R3 = cv2.morphologyEx(r3, cv2.MORPH_CLOSE, cv2.getStructuringElement(cv2.MORPH_ELLIPSE,(23,23)), iterations = 1) \n",
    "    f4 = cv2.subtract(R3,contrast_enhanced_green_fundus)\n",
    "    f5 = clahe.apply(f4)\n",
    "\n",
    "    kernel = np.ones((3,3),np.uint8)\n",
    "    dilation = cv2.dilate(f5,kernel,iterations = 1)\n",
    "    blur = cv2.GaussianBlur(dilation,(3,3),0)\n",
    "    kernels = np.ones((5,5),np.uint8)\n",
    "    opening = cv2.morphologyEx(blur, cv2.MORPH_OPEN, kernel)\n",
    "    blur1 = cv2.GaussianBlur(opening,(5,5),0)\n",
    "    full = cv2.morphologyEx(blur1, cv2.MORPH_OPEN, kernel)\n",
    "    erosion_img = cv2.erode(full,kernel,iterations = 1)\n",
    "    dilation_img = cv2.dilate(erosion_img,kernel,iterations = 1)\n",
    "    erosion_img1 = cv2.erode(dilation_img,kernels,iterations = 1)\n",
    "    closing = cv2.morphologyEx(erosion_img1, cv2.MORPH_CLOSE, kernel)\n",
    "    ret,thresh2 = cv2.threshold(closing,25,255,cv2.THRESH_BINARY_INV)\n",
    "    final =255-thresh2\n",
    "\n",
    "\n",
    "    #plt.imshow(final,cmap ='gray')\n",
    "    #plt.show()\n",
    "    #cv2.imwrite('bogie5.jpg',final)\n",
    "    return final"
   ]
  },
  {
   "cell_type": "code",
   "execution_count": 10,
   "metadata": {},
   "outputs": [],
   "source": [
    "import glob\n",
    "#=========USER START================\n",
    "#folder path\n",
    "path = 'RAW_FUNDUS_INPUT/*.jpg'\n",
    "save_path = 'bv image bogie/'\n",
    "#=========USER END=================="
   ]
  },
  {
   "cell_type": "code",
   "execution_count": 13,
   "metadata": {},
   "outputs": [],
   "source": [
    "image_list = []\n",
    "for filename in glob.glob(path):\n",
    "    image_list.append(filename)\n",
    "for i in image_list:\n",
    "    c = cv2.imread(i)\n",
    "    #=========PUT YOUR CODE HERE==========\n",
    "    \n",
    "    \n",
    "    x = bogieBV(c)\n",
    "\n",
    "    cv2.imwrite(save_path+ i.replace(path.replace(\"/*.jpg\",\"\")+\"\\\\\",\"\"),x)"
   ]
  }
 ],
 "metadata": {
  "kernelspec": {
   "display_name": "Python 3",
   "language": "python",
   "name": "python3"
  },
  "language_info": {
   "codemirror_mode": {
    "name": "ipython",
    "version": 3
   },
   "file_extension": ".py",
   "mimetype": "text/x-python",
   "name": "python",
   "nbconvert_exporter": "python",
   "pygments_lexer": "ipython3",
   "version": "3.7.4"
  }
 },
 "nbformat": 4,
 "nbformat_minor": 2
}
