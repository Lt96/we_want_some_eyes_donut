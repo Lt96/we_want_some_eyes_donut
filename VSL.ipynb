{
 "cells": [
  {
   "cell_type": "code",
   "execution_count": 1,
   "metadata": {},
   "outputs": [],
   "source": [
    "import numpy as np\n",
    "import cv2\n",
    "import glob\n",
    "import math"
   ]
  },
  {
   "cell_type": "code",
   "execution_count": 2,
   "metadata": {},
   "outputs": [],
   "source": [
    "def ShowResizedIm(img,windowname,scale):\n",
    "    \"\"\"\n",
    "    opencv imshow resized image on a new window\n",
    "    Parameters:\n",
    "        -img: image\n",
    "        -window: window name\n",
    "        -scale: size of the display image will be divided by this value(ex. scale=2 will make image 2 time smaller)\n",
    "    \"\"\"\n",
    "    cv2.namedWindow(windowname, cv2.WINDOW_NORMAL)        # Create window with freedom of dimensions\n",
    "    height, width = img.shape[:2]   #get image dimension\n",
    "    cv2.resizeWindow(windowname,int(width/scale) ,int(height/scale))                    # Resize image\n",
    "    cv2.imshow(windowname, img)                            # Show image"
   ]
  },
  {
   "cell_type": "code",
   "execution_count": 3,
   "metadata": {},
   "outputs": [],
   "source": [
    "def findLineCoordinate(cY, cX, canv_H, canv_W,theta):\n",
    "    \"\"\"\n",
    "    Find coordinates of both ends of a line from theta and a single point\n",
    "\n",
    "    Parameters:\n",
    "        -cY: an int of vertical coordinate of the single point\n",
    "        -cX: an int of horizontal coordinate of the single point\n",
    "        -canv_H: an int of hight of a canvas\n",
    "        -canv_W: an int of width of a canvas\n",
    "        -theta: a size of angle in degree measured form right-handed horizontal line of the point \n",
    "\n",
    "    Returns:\n",
    "        -v1,u1,v2,u2: coordinate of both end of the line(v is vertical, u is horizontal)\n",
    "    \"\"\"\n",
    "    if theta < 90:\n",
    "        #find first coordinate of the line\n",
    "        u1 = int(cY-(math.tan(math.radians(theta))*(canv_W-cX)))\n",
    "        #clip of some part of the line that extend out of the image\n",
    "        if u1 < 0:\n",
    "            v1 = int(canv_W-1+(u1/math.tan(math.radians(theta))))\n",
    "            u1 = 0\n",
    "        else:\n",
    "            v1 = canv_W-1\n",
    "        #find second coordinate of the line\n",
    "        u2 = int(cY+(math.tan(math.radians(theta))*cX))\n",
    "        #clip of some part of the line that extend out of the image\n",
    "        if u2 > canv_H-1:\n",
    "            v2 = int((u2-canv_H-1)/math.tan(math.radians(theta)))\n",
    "            u2 = canv_H-1\n",
    "        else:\n",
    "            v2 = 0\n",
    "    elif theta == 90:\n",
    "        #find first coordinate of the line\n",
    "        u1 = 0\n",
    "        v1 = cX\n",
    "        #find second coordinate of the line\n",
    "        u2 = canv_H\n",
    "        v2 = cX\n",
    "    else:\n",
    "        #find first coordinate of the line\n",
    "        u1 = int(cY+(math.tan(math.radians(theta))*(canv_W-1-cX)*(-1)))\n",
    "        #clip of some part of the line that extend out of the image\n",
    "        if u1 < 0:\n",
    "            v1 = int(u1/math.tan(math.radians(theta)))\n",
    "            u1 = 0\n",
    "        else:\n",
    "            v1 = canv_W-1\n",
    "        #find second coordinate of the line\n",
    "        u2 = int(cY-(math.tan(math.radians(theta))*cX*(-1)))\n",
    "        #clip of some part of the line that extend out of the image\n",
    "        if u2 > canv_H-1:\n",
    "            v2 = int(canv_W-1+(u2-canv_H-1)/math.tan(math.radians(theta)))\n",
    "            u2 = canv_H-1\n",
    "        else:\n",
    "            v2 = 0\n",
    "    return v1,u1,v2,u2"
   ]
  },
  {
   "cell_type": "code",
   "execution_count": 4,
   "metadata": {},
   "outputs": [],
   "source": [
    "def createLineIterator(P1, P2, img):\n",
    "    \"\"\"\n",
    "    Produces and array that consists of the coordinates and intensities of each pixel in a line between two points\n",
    "\n",
    "    Parameters:\n",
    "        -P1: a numpy array that consists of the coordinate of the first point (x,y)\n",
    "        -P2: a numpy array that consists of the coordinate of the second point (x,y)\n",
    "        -img: the image being processed\n",
    "\n",
    "    Returns:\n",
    "        -it: a numpy array that consists of the coordinates and intensities of each pixel in the radii (shape: [numPixels, 3], row = [x,y,intensity])     \n",
    "    \"\"\"\n",
    "    #define local variables for readability\n",
    "    imageH = img.shape[0]\n",
    "    imageW = img.shape[1]\n",
    "    P1X = P1[0]\n",
    "    P1Y = P1[1]\n",
    "    P2X = P2[0]\n",
    "    P2Y = P2[1]\n",
    "\n",
    "    #difference and absolute difference between points\n",
    "    #used to calculate slope and relative location between points\n",
    "    dX = P2X - P1X\n",
    "    dY = P2Y - P1Y\n",
    "    dXa = np.abs(dX)\n",
    "    dYa = np.abs(dY)\n",
    "\n",
    "    #predefine numpy array for output based on distance between points\n",
    "    itbuffer = np.empty(shape=(np.maximum(int(dYa),int(dXa)),3),dtype=np.float32)\n",
    "    itbuffer.fill(np.nan)\n",
    "\n",
    "    #Obtain coordinates along the line using a form of Bresenham's algorithm\n",
    "    negY = P1Y > P2Y\n",
    "    negX = P1X > P2X\n",
    "    if P1X == P2X: #vertical line segment\n",
    "        itbuffer[:,0] = P1X\n",
    "        if negY:\n",
    "            itbuffer[:,1] = np.arange(P1Y - 1,P1Y - dYa - 1,-1)\n",
    "        else:\n",
    "            itbuffer[:,1] = np.arange(P1Y+1,P1Y+dYa+1)              \n",
    "    elif P1Y == P2Y: #horizontal line segment\n",
    "        itbuffer[:,1] = P1Y\n",
    "        if negX:\n",
    "            itbuffer[:,0] = np.arange(P1X-1,P1X-dXa-1,-1)\n",
    "        else:\n",
    "            itbuffer[:,0] = np.arange(P1X+1,P1X+dXa+1)\n",
    "    else: #diagonal line segment\n",
    "        steepSlope = dYa > dXa\n",
    "        if steepSlope:\n",
    "            slope = dX.astype(np.float32)/dY.astype(np.float32)\n",
    "            if negY:\n",
    "                itbuffer[:,1] = np.arange(P1Y-1,P1Y-dYa-1,-1)\n",
    "            else:\n",
    "                itbuffer[:,1] = np.arange(P1Y+1,P1Y+dYa+1)\n",
    "            itbuffer[:,0] = (slope*(itbuffer[:,1]-P1Y)).astype(np.int) + P1X\n",
    "        else:\n",
    "            slope = dY.astype(np.float32)/dX.astype(np.float32)\n",
    "            if negX:\n",
    "                itbuffer[:,0] = np.arange(P1X-1,P1X-dXa-1,-1)\n",
    "            else:\n",
    "                itbuffer[:,0] = np.arange(P1X+1,P1X+dXa+1)\n",
    "            itbuffer[:,1] = (slope*(itbuffer[:,0]-P1X)).astype(np.int) + P1Y\n",
    "\n",
    "    #Remove points outside of image\n",
    "    colX = itbuffer[:,0]\n",
    "    colY = itbuffer[:,1]\n",
    "    itbuffer = itbuffer[(colX >= 0) & (colY >=0) & (colX<imageW) & (colY<imageH)]\n",
    "\n",
    "    #Get intensities from img ndarray\n",
    "    itbuffer[:,2] = img[itbuffer[:,1].astype(np.uint),itbuffer[:,0].astype(np.uint)]\n",
    "\n",
    "    return itbuffer"
   ]
  },
  {
   "cell_type": "code",
   "execution_count": 118,
   "metadata": {},
   "outputs": [
    {
     "name": "stdout",
     "output_type": "stream",
     "text": [
      "2061.5528128088304\n"
     ]
    }
   ],
   "source": [
    "#http://www.gregbugaj.com/?p=524\n",
    "class Point(object):\n",
    "    def __init__(self, x, y):\n",
    "        self.x = x\n",
    "        self.y = y\n",
    "\n",
    "    def euclidean_distance(self, other):\n",
    "        p1 = (other.x - self.x) ** 2\n",
    "        p2 = (other.y - self.y) ** 2\n",
    "        vd = (p1 + p2) ** 0.5\n",
    "        return vd\n",
    "\n",
    "\n",
    "class PointList(list):\n",
    "    fraction = .7\n",
    "\n",
    "    def hausdorffPHD(self, other):\n",
    "        max_distance = 0\n",
    "        ranking = []\n",
    "        for i, a in enumerate(self):\n",
    "            min_distance = float('inf')\n",
    "\n",
    "            for j, b in enumerate(other):\n",
    "                ed = a.euclidean_distance(b)\n",
    "\n",
    "                if ed < min_distance:\n",
    "                    min_distance = ed\n",
    "\n",
    "            ranking.append(min_distance)\n",
    "        ranking = sorted(ranking)\n",
    "        k = int(len(self) * self.fraction)-1\n",
    "        return ranking[k]\n",
    "\n",
    "\n",
    "def hausdorff(seta, setb):\n",
    "    habPHD = seta.hausdorffPHD(setb)\n",
    "    hbaPHD = setb.hausdorffPHD(seta)\n",
    "    distancePHD = max(habPHD, hbaPHD)\n",
    "    #print(f'hd = {distancePHD:.4f}\\t {habPHD:.4f}\\t {hbaPHD:.4f}')\n",
    "    return distancePHD\n",
    "\n",
    "\n",
    "def main():\n",
    "    seta = PointList()\n",
    "    setb = PointList()\n",
    "\n",
    "    seta.append(Point(100,1000))\n",
    "    seta.append(Point(10,500))\n",
    "    seta.append(Point(500,1000))\n",
    "    setb.append(Point(-400,-1000))\n",
    "\n",
    "    val = hausdorff(seta, setb)\n",
    "    print(val)\n",
    "\n",
    "if __name__ == '__main__':\n",
    "    main()"
   ]
  },
  {
   "cell_type": "code",
   "execution_count": 158,
   "metadata": {
    "scrolled": true
   },
   "outputs": [],
   "source": [
    "#find Vessel symmetry line degree\n",
    "def findVSL(edges,showVSL = 1):\n",
    "    degree_step = 5\n",
    "    canv_H,canv_W = edges.shape[:2]\n",
    "    #create mask to preview spining line\n",
    "    mask = np.zeros((canv_H,canv_W), dtype=np.uint8)#test\n",
    "    #Store VSL value for each line\n",
    "    VSL = {}\n",
    "    for theta in range(0,180,degree_step):\n",
    "        #find line coordinate from theta\n",
    "        mask_line_v1,mask_line_u1,mask_line_v2,mask_line_u2 = findLineCoordinate(cY, cX, canv_H, canv_W,theta)\n",
    "        cv2.line(mask,(mask_line_v1,mask_line_u1),(mask_line_v2,mask_line_u2),(255,255,255),1)#test\n",
    "        #find all pixels on the line\n",
    "        line = createLineIterator(np.array((mask_line_v1,mask_line_u1)),np.array((mask_line_v2,mask_line_u2)), mask)\n",
    "        #create mask to preview subline on the line\n",
    "        submask = np.zeros((canv_H,canv_W), dtype=np.uint8)\n",
    "        #find new theta for orthogonal subline which is in range 0-179\n",
    "        if theta < 90:\n",
    "            theta2 = theta+90\n",
    "        else:  \n",
    "            theta2 = theta-90\n",
    "        #Store PHD output for each subline\n",
    "        PHD_val = []\n",
    "        mask_test = np.zeros((canv_H,canv_W), dtype=np.uint8)#test\n",
    "        cv2.line(mask_test,(mask_line_v1,mask_line_u1),(mask_line_v2,mask_line_u2),(255,255,255),1)#test\n",
    "        for pixel in line:\n",
    "            #pixel[0] is x, pixel[1] is y\n",
    "            sub_line_v1,sub_line_u1,sub_line_v2,sub_line_u2 = findLineCoordinate(pixel[1], pixel[0], canv_H, canv_W,theta2)\n",
    "            cv2.line(submask,(sub_line_v1,sub_line_u1),(sub_line_v2,sub_line_u2),(255,255,255),1)      \n",
    "            #crate set1 pm\n",
    "            set1 = PointList()\n",
    "            #crate list of pixels on a line contaied coordinate and value\n",
    "            subline = createLineIterator(np.array((sub_line_v1,sub_line_u1)),np.array((pixel[0],pixel[1])), edges)\n",
    "            #run through all pixel on subline\n",
    "            if np.any(subline[:,2]):\n",
    "                for subpixel in subline:\n",
    "                    if subpixel[2] == 255:\n",
    "                        #add vector of subpixel to set1\n",
    "                        set1.append(Point(abs(pixel[0] - subpixel[0]),abs(pixel[1] - subpixel[1])))\n",
    "                        mask_test[int(subpixel[1])][int(subpixel[0])] = 255#test\n",
    "            #crate set2 pm\n",
    "            set2 = PointList()\n",
    "            #crate list of pixels on a line contaied coordinate and value\n",
    "            subline = createLineIterator(np.array((sub_line_v2,sub_line_u2)),np.array((pixel[0],pixel[1])), edges)\n",
    "            #run through all pixel on subline\n",
    "            if np.any(subline[:,2]):\n",
    "                for subpixel in subline:\n",
    "                    if subpixel[2] == 255:\n",
    "                        #add vector of subpixel to set2\n",
    "                        set2.append(Point(abs(pixel[0] - subpixel[0]),abs(pixel[1] - subpixel[1])))\n",
    "                        mask_test[int(subpixel[1])][int(subpixel[0])] = 255#test\n",
    "            #find PHD\n",
    "            if len(set1) and len(set2):\n",
    "                distance = hausdorff(set1, set2)\n",
    "                PHD_val.append(distance)\n",
    "\n",
    "                if theta == 1000:\n",
    "                    print(distance)\n",
    "                    ShowResizedIm(np.hstack([mask_test,]),\"mark\",2)#test\n",
    "                    cv2.waitKey(0)#test\n",
    "                    cv2.destroyAllWindows()#test\n",
    "\n",
    "        #find VSL\n",
    "        if len(PHD_val):\n",
    "            VSL[theta]= sum(PHD_val)/len(line)\n",
    "        else:\n",
    "            VSL[theta] = 0\n",
    "        if showVSL:\n",
    "            print(VSL[theta])\n",
    "    #find the symetry line\n",
    "    return min(VSL, key=VSL.get)\n"
   ]
  },
  {
   "cell_type": "code",
   "execution_count": 6,
   "metadata": {},
   "outputs": [],
   "source": [
    "#=========USER START================\n",
    "#folder path\n",
    "path = 'bv image/*.jpg' \n",
    "\n",
    "\n",
    "#=========USER END================"
   ]
  },
  {
   "cell_type": "code",
   "execution_count": 63,
   "metadata": {},
   "outputs": [],
   "source": [
    "image_list = []\n",
    "for filename in glob.glob(path):\n",
    "    image_list.append(filename)\n",
    "\n",
    "name_list = []"
   ]
  },
  {
   "cell_type": "code",
   "execution_count": 125,
   "metadata": {},
   "outputs": [],
   "source": [
    "img = cv2.imread(image_list[2])\n",
    "ShowResizedIm(np.hstack([img,]),\"mark\",2)\n",
    "cv2.waitKey(0)\n",
    "cv2.destroyAllWindows()"
   ]
  },
  {
   "cell_type": "code",
   "execution_count": 126,
   "metadata": {},
   "outputs": [],
   "source": [
    "edges = cv2.Canny(img,100,200)\n",
    "ShowResizedIm(np.hstack([edges,]),\"mark\",2)\n",
    "cv2.waitKey(0)\n",
    "cv2.destroyAllWindows()"
   ]
  },
  {
   "cell_type": "code",
   "execution_count": 79,
   "metadata": {},
   "outputs": [
    {
     "data": {
      "text/plain": [
       "True"
      ]
     },
     "execution_count": 79,
     "metadata": {},
     "output_type": "execute_result"
    }
   ],
   "source": [
    "cv2.imwrite(\"temp image/fungi edges.jpg\",edges)"
   ]
  },
  {
   "cell_type": "code",
   "execution_count": 127,
   "metadata": {},
   "outputs": [],
   "source": [
    "canvas = edges.copy()\n",
    "# calculate moments of binary image\n",
    "M = cv2.moments(edges)\n",
    " \n",
    "# calculate x,y coordinate of center\n",
    "cX = int(M[\"m10\"] / M[\"m00\"])\n",
    "cY = int(M[\"m01\"] / M[\"m00\"])\n",
    " \n",
    "# put text and highlight the center\n",
    "cv2.circle(canvas , (cX, cY), 5, (255, 255, 255), -1)\n",
    "cv2.putText(canvas , \"centroid\", (cX - 25, cY - 25),cv2.FONT_HERSHEY_SIMPLEX, 0.5, (255, 255, 255), 2)\n",
    "ShowResizedIm(np.hstack([canvas,]),\"mark\",2)\n",
    "cv2.waitKey(0)\n",
    "cv2.destroyAllWindows()"
   ]
  },
  {
   "cell_type": "code",
   "execution_count": 159,
   "metadata": {
    "scrolled": true
   },
   "outputs": [
    {
     "name": "stdout",
     "output_type": "stream",
     "text": [
      "72.19034428175702\n",
      "90.88087886308904\n",
      "111.11031677443462\n",
      "108.61239693803999\n",
      "105.81813324531146\n",
      "106.51041510491835\n",
      "101.59293490060834\n",
      "89.24192047208385\n",
      "95.26700776798472\n",
      "105.4286354330406\n",
      "121.03029521157568\n",
      "132.10502798982498\n",
      "135.90882180638314\n",
      "136.38851260174658\n",
      "142.02823205302613\n",
      "143.72693936904867\n",
      "132.77752485533742\n",
      "147.59161310750395\n",
      "146.1891472868217\n",
      "141.9288892895202\n",
      "133.13455115136838\n",
      "121.27713592178262\n",
      "128.74627879577199\n",
      "114.96747653753943\n",
      "97.6168986629709\n",
      "100.96035121534923\n",
      "88.03893259628349\n",
      "72.45313450659535\n",
      "57.41826091312491\n",
      "65.363368179656\n",
      "70.97130794342053\n",
      "68.34838129725979\n",
      "72.8953056317973\n",
      "71.02364163131193\n",
      "75.58786189346115\n",
      "68.7002395476111\n"
     ]
    }
   ],
   "source": [
    "VSL = findVSL(edges,showVSL = 0)"
   ]
  },
  {
   "cell_type": "code",
   "execution_count": 138,
   "metadata": {},
   "outputs": [],
   "source": [
    "sum1 = cv2.bitwise_or(canvas,canvas,mask = mask)\n",
    "ShowResizedIm(np.hstack([canvas+mask,]),\"mark\",2)\n",
    "cv2.waitKey(0)\n",
    "cv2.destroyAllWindows()"
   ]
  },
  {
   "cell_type": "code",
   "execution_count": 160,
   "metadata": {},
   "outputs": [
    {
     "data": {
      "text/plain": [
       "140"
      ]
     },
     "execution_count": 160,
     "metadata": {},
     "output_type": "execute_result"
    }
   ],
   "source": [
    "VSL\n"
   ]
  },
  {
   "cell_type": "code",
   "execution_count": 152,
   "metadata": {},
   "outputs": [
    {
     "data": {
      "text/plain": [
       "140"
      ]
     },
     "execution_count": 152,
     "metadata": {},
     "output_type": "execute_result"
    }
   ],
   "source": []
  },
  {
   "cell_type": "code",
   "execution_count": 38,
   "metadata": {},
   "outputs": [
    {
     "data": {
      "text/plain": [
       "1103"
      ]
     },
     "execution_count": 38,
     "metadata": {},
     "output_type": "execute_result"
    }
   ],
   "source": [
    "len(PHD_val)"
   ]
  },
  {
   "cell_type": "code",
   "execution_count": 40,
   "metadata": {},
   "outputs": [
    {
     "data": {
      "text/plain": [
       "True"
      ]
     },
     "execution_count": 40,
     "metadata": {},
     "output_type": "execute_result"
    }
   ],
   "source": [
    "cv2.imwrite(\"temp image/canvas.jpg\",canvas)"
   ]
  },
  {
   "cell_type": "code",
   "execution_count": 12,
   "metadata": {
    "scrolled": true
   },
   "outputs": [
    {
     "data": {
      "text/plain": [
       "True"
      ]
     },
     "execution_count": 12,
     "metadata": {},
     "output_type": "execute_result"
    }
   ],
   "source": [
    "cv2.imwrite(\"temp image/line mask.jpg\",mask)"
   ]
  }
 ],
 "metadata": {
  "kernelspec": {
   "display_name": "Python 3",
   "language": "python",
   "name": "python3"
  },
  "language_info": {
   "codemirror_mode": {
    "name": "ipython",
    "version": 3
   },
   "file_extension": ".py",
   "mimetype": "text/x-python",
   "name": "python",
   "nbconvert_exporter": "python",
   "pygments_lexer": "ipython3",
   "version": "3.7.4"
  }
 },
 "nbformat": 4,
 "nbformat_minor": 2
}
