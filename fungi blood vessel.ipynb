{
 "cells": [
  {
   "cell_type": "code",
   "execution_count": 24,
   "metadata": {},
   "outputs": [],
   "source": [
    "import numpy as np\n",
    "import cv2\n",
    "import glob\n",
    "from hessian import Hessian2D\n",
    "from frangiFilter2D import eig2image,FrangiFilter2D"
   ]
  },
  {
   "cell_type": "code",
   "execution_count": 25,
   "metadata": {},
   "outputs": [],
   "source": [
    "def ShowResizedIm(img,windowname,scale):\n",
    "    cv2.namedWindow(windowname, cv2.WINDOW_NORMAL)        # Create window with freedom of dimensions\n",
    "    height, width = img.shape[:2]   #get image dimension\n",
    "    cv2.resizeWindow(windowname,int(width/scale) ,int(height/scale))                    # Resize image\n",
    "    cv2.imshow(windowname, img)                            # Show image"
   ]
  },
  {
   "cell_type": "code",
   "execution_count": 26,
   "metadata": {},
   "outputs": [],
   "source": [
    "#=========USER START================\n",
    "#folder path\n",
    "path = 'raw image/*.jpg' \n",
    "\n",
    "\n",
    "#=========USER END================"
   ]
  },
  {
   "cell_type": "code",
   "execution_count": 27,
   "metadata": {},
   "outputs": [],
   "source": [
    "image_list = []\n",
    "for filename in glob.glob(path):\n",
    "    image_list.append(filename)\n",
    "\n",
    "name_list = []"
   ]
  },
  {
   "cell_type": "code",
   "execution_count": 28,
   "metadata": {},
   "outputs": [],
   "source": [
    "img = cv2.imread(image_list[50])\n",
    "ShowResizedIm(np.hstack([img,]),\"mark\",2)\n",
    "cv2.waitKey(0)\n",
    "cv2.destroyAllWindows()"
   ]
  },
  {
   "cell_type": "code",
   "execution_count": 29,
   "metadata": {},
   "outputs": [
    {
     "name": "stdout",
     "output_type": "stream",
     "text": [
      "Current Frangi Filter Sigma:  5\n",
      "Current Frangi Filter Sigma:  7\n",
      "Current Frangi Filter Sigma:  9\n"
     ]
    }
   ],
   "source": [
    "b,g,r = cv2.split(img)\n",
    "blood = cv2.normalize(g.astype('double'), None, 0.0, 1.0, cv2.NORM_MINMAX) # Convert to normalized floating point\n",
    "outIm, whatScale, direction = FrangiFilter2D(blood,FrangiScaleRange=np.array([5, 10]), FrangiScaleRatio=2,\n",
    "                   FrangiBetaOne=0.5, FrangiBetaTwo=15, verbose=True, BlackWhite=True)\n",
    "ShowResizedIm(np.hstack([outIm,]),\"out\",2)\n",
    "cv2.waitKey(0)\n",
    "cv2.destroyAllWindows()"
   ]
  },
  {
   "cell_type": "code",
   "execution_count": 38,
   "metadata": {},
   "outputs": [],
   "source": [
    "test = outIm.copy()*10000000\n",
    "_,thresh = cv2.threshold(test,0.1,255,0)\n",
    "kernel1 = np.ones((11,11),np.uint8)\n",
    "kernel2 = np.ones((5,5),np.uint8)\n",
    "opening = cv2.morphologyEx(thresh, cv2.MORPH_OPEN, kernel2)\n",
    "closing = cv2.morphologyEx(opening, cv2.MORPH_CLOSE, kernel1)\n",
    "ShowResizedIm(np.hstack([thresh,closing,opening]),\"out\",2)\n",
    "cv2.waitKey(0)\n",
    "cv2.destroyAllWindows()\n"
   ]
  },
  {
   "cell_type": "code",
   "execution_count": 40,
   "metadata": {},
   "outputs": [
    {
     "data": {
      "text/plain": [
       "True"
      ]
     },
     "execution_count": 40,
     "metadata": {},
     "output_type": "execute_result"
    }
   ],
   "source": [
    "cv2.imwrite(\"temp image/fungi.jpg\",thresh)"
   ]
  }
 ],
 "metadata": {
  "kernelspec": {
   "display_name": "Python 3",
   "language": "python",
   "name": "python3"
  },
  "language_info": {
   "codemirror_mode": {
    "name": "ipython",
    "version": 3
   },
   "file_extension": ".py",
   "mimetype": "text/x-python",
   "name": "python",
   "nbconvert_exporter": "python",
   "pygments_lexer": "ipython3",
   "version": "3.7.4"
  }
 },
 "nbformat": 4,
 "nbformat_minor": 2
}
