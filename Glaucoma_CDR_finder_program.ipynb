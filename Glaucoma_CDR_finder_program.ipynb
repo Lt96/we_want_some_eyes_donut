{
 "cells": [
  {
   "cell_type": "code",
   "execution_count": 1,
   "metadata": {},
   "outputs": [],
   "source": [
    "from tkinter import *\n",
    "from tkinter import filedialog\n",
    "from PIL import ImageTk,Image\n",
    "import cv2\n",
    "from findCDR import getCDR"
   ]
  },
  {
   "cell_type": "code",
   "execution_count": 4,
   "metadata": {},
   "outputs": [
    {
     "name": "stdout",
     "output_type": "stream",
     "text": [
      "C:/Users/SUNNY/Desktop/Glaucoma group/RAW_FUNDUS_INPUT/267_087.jpg\n"
     ]
    },
    {
     "data": {
      "text/plain": [
       "<Figure size 432x288 with 0 Axes>"
      ]
     },
     "metadata": {},
     "output_type": "display_data"
    }
   ],
   "source": [
    "#=============USER INPUT=============\n",
    "\n",
    "crop_size = 500\n",
    "image_show_size = 4\n",
    "#=============USER END=============\n",
    "window = Tk()\n",
    "window.geometry(\"1300x700\") #Width x Height\n",
    "window.title('CDR finder')\n",
    "top_text_frame = Frame(window)\n",
    "top_text_frame.pack()\n",
    "\n",
    "image_frame = Frame(window)\n",
    "image_frame.pack()\n",
    "\n",
    "bot_result_frame = Frame(window)\n",
    "bot_result_frame.pack()\n",
    "\n",
    "label = Label(top_text_frame,text='WELCOME TO CDR FINDER alpha0.01')\n",
    "label.pack()\n",
    "\n",
    "label_OD = Label(bot_result_frame,text=\"OD = \")\n",
    "label_OD.pack()\n",
    "label_OC = Label(bot_result_frame,text=\"OC = \")\n",
    "label_OC.pack()\n",
    "label_CDR = Label(bot_result_frame,text=\"CDR = \")\n",
    "label_CDR.pack()\n",
    "label_NP = Label(bot_result_frame,text=\"\")\n",
    "label_NP.pack()\n",
    "global image_path \n",
    "global imgout\n",
    "def getPathBtn():\n",
    "    image_path = \"\"\n",
    "    window.filename =  filedialog.askopenfilename(initialdir = \"/\",\n",
    "                                                  title = \"Select file\",filetypes = ((\"jpeg files\",\"*.jpg\"),(\"all files\",\"*.*\")))\n",
    "    image_path = window.filename\n",
    "    if image_path is not '':\n",
    "        print(image_path)        \n",
    "        img = cv2.imread(image_path)\n",
    "        \n",
    "        output,OD_size,OC_size,CDR = getCDR(img,crop_size)\n",
    "        #show image\n",
    "        img_H,img_W = img.shape[:2]\n",
    "        img = cv2.cvtColor(img,cv2.COLOR_BGR2RGB)\n",
    "        output = cv2.cvtColor(output,cv2.COLOR_BGR2RGB)\n",
    "        img_resized = cv2.resize(img, (int(img_W/image_show_size),int(img_H/image_show_size)), interpolation = cv2.INTER_AREA)\n",
    "        out_resized = cv2.resize(output, (int(img_W/image_show_size),int(img_H/image_show_size)), interpolation = cv2.INTER_AREA)\n",
    "        img_Tk = ImageTk.PhotoImage(image = Image.fromarray(img_resized))\n",
    "        out_Tk = ImageTk.PhotoImage(image = Image.fromarray(out_resized))\n",
    "        label_img = Label(image_frame,image=img_Tk)\n",
    "        label_out = Label(image_frame,image=out_Tk)\n",
    "        label_img.image = img_Tk # keep a reference!\n",
    "        label_out.image = out_Tk # keep a reference!\n",
    "        label_img.grid(row=0,column=1, sticky=\"en\")\n",
    "        label_out.grid(row=0,column=2, sticky=\"en\")\n",
    "        #show OD OC CDR result\n",
    "        if type(OD_size) is not type(None) and type(OC_size) is not type(None) and type(CDR) is not type(None):\n",
    "            label_OD.config(text=\"OD = \"+str(OD_size)+\" pixels\")\n",
    "            label_OC.config(text=\"OC = \"+str(OC_size)+\"50 pixels\")\n",
    "            label_CDR.config(text=\"CDR = \"+str(CDR))\n",
    "            if CDR < 0.6:\n",
    "                label_NP.config(text=\"Negative(-)\")\n",
    "            else:\n",
    "                label_NP.config(text=\"Positive(+)\")\n",
    "        else:\n",
    "            label_OD.config(text=\"OD = ERROR\")\n",
    "            label_OC.config(text=\"OC = ERROR\")\n",
    "            label_CDR.config(text=\"CDR = ERROR\")\n",
    "            label_NP.config(text=\"ERROR\")\n",
    "    \n",
    "btn_browse = Button(top_text_frame , text = 'browse',command = getPathBtn)\n",
    "btn_browse.pack()\n",
    "\n",
    "\n",
    "window.mainloop()"
   ]
  }
 ],
 "metadata": {
  "kernelspec": {
   "display_name": "Python 3",
   "language": "python",
   "name": "python3"
  },
  "language_info": {
   "codemirror_mode": {
    "name": "ipython",
    "version": 3
   },
   "file_extension": ".py",
   "mimetype": "text/x-python",
   "name": "python",
   "nbconvert_exporter": "python",
   "pygments_lexer": "ipython3",
   "version": "3.7.4"
  }
 },
 "nbformat": 4,
 "nbformat_minor": 2
}
