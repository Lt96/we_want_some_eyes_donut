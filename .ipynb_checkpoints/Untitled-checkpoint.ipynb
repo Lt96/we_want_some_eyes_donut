{
 "cells": [
  {
   "cell_type": "code",
   "execution_count": 1,
   "metadata": {},
   "outputs": [],
   "source": [
    "import numpy as np\n",
    "import cv2\n",
    "import glob\n",
    "import math"
   ]
  },
  {
   "cell_type": "code",
   "execution_count": 14,
   "metadata": {},
   "outputs": [],
   "source": [
    "def ShowResizedIm(img,windowname,scale):\n",
    "    \"\"\"\n",
    "    opencv imshow resized image on a new window\n",
    "    Parameters:\n",
    "        -img: image\n",
    "        -window: window name\n",
    "        -scale: size of the display image will be divided by this value(ex. scale=2 will make image 2 time smaller)\n",
    "    \"\"\"\n",
    "    cv2.namedWindow(windowname, cv2.WINDOW_NORMAL)        # Create window with freedom of dimensions\n",
    "    height, width = img.shape[:2]   #get image dimension\n",
    "    cv2.resizeWindow(windowname,int(width/scale) ,int(height/scale))                    # Resize image\n",
    "    cv2.imshow(windowname, img)                            # Show image"
   ]
  },
  {
   "cell_type": "code",
   "execution_count": 15,
   "metadata": {},
   "outputs": [],
   "source": [
    "def findLineCoordinate(cY, cX, canv_H, canv_W,theta):\n",
    "    \"\"\"\n",
    "    Find coordinates of both ends of a line from theta and a single point\n",
    "\n",
    "    Parameters:\n",
    "        -cY: an int of vertical coordinate of the single point\n",
    "        -cX: an int of horizontal coordinate of the single point\n",
    "        -canv_H: an int of hight of a canvas\n",
    "        -canv_W: an int of width of a canvas\n",
    "        -theta: a size of angle in degree measured form right-handed horizontal line of the point \n",
    "\n",
    "    Returns:\n",
    "        -v1,u1,v2,u2: coordinate of both end of the line(v is vertical, u is horizontal)\n",
    "    \"\"\"\n",
    "    if theta < 90:\n",
    "        #find first coordinate of the line\n",
    "        u1 = int(cY-(math.tan(math.radians(theta))*(canv_W-cX)))\n",
    "        #clip of some part of the line that extend out of the image\n",
    "        if u1 < 0:\n",
    "            v1 = int(canv_W-1+(u1/math.tan(math.radians(theta))))\n",
    "            u1 = 0\n",
    "        else:\n",
    "            v1 = canv_W-1\n",
    "        #find second coordinate of the line\n",
    "        u2 = int(cY+(math.tan(math.radians(theta))*cX))\n",
    "        #clip of some part of the line that extend out of the image\n",
    "        if u2 > canv_H-1:\n",
    "            v2 = int((u2-canv_H-1)/math.tan(math.radians(theta)))\n",
    "            u2 = canv_H-1\n",
    "        else:\n",
    "            v2 = 0\n",
    "    elif theta == 90:\n",
    "        #find first coordinate of the line\n",
    "        u1 = 0\n",
    "        v1 = cX\n",
    "        #find second coordinate of the line\n",
    "        u2 = canv_H\n",
    "        v2 = cX\n",
    "    else:\n",
    "        #find first coordinate of the line\n",
    "        u1 = int(cY+(math.tan(math.radians(theta))*(canv_W-1-cX)*(-1)))\n",
    "        #clip of some part of the line that extend out of the image\n",
    "        if u1 < 0:\n",
    "            v1 = int(u1/math.tan(math.radians(theta)))\n",
    "            u1 = 0\n",
    "        else:\n",
    "            v1 = canv_W-1\n",
    "        #find second coordinate of the line\n",
    "        u2 = int(cY-(math.tan(math.radians(theta))*cX*(-1)))\n",
    "        #clip of some part of the line that extend out of the image\n",
    "        if u2 > canv_H-1:\n",
    "            v2 = int(canv_W-1+(u2-canv_H-1)/math.tan(math.radians(theta)))\n",
    "            u2 = canv_H-1\n",
    "        else:\n",
    "            v2 = 0\n",
    "    return v1,u1,v2,u2"
   ]
  },
  {
   "cell_type": "code",
   "execution_count": 76,
   "metadata": {},
   "outputs": [],
   "source": [
    "def createLineIterator(P1, P2, img):\n",
    "    \"\"\"\n",
    "    Produces and array that consists of the coordinates and intensities of each pixel in a line between two points\n",
    "\n",
    "    Parameters:\n",
    "        -P1: a numpy array that consists of the coordinate of the first point (x,y)\n",
    "        -P2: a numpy array that consists of the coordinate of the second point (x,y)\n",
    "        -img: the image being processed\n",
    "\n",
    "    Returns:\n",
    "        -it: a numpy array that consists of the coordinates and intensities of each pixel in the radii (shape: [numPixels, 3], row = [x,y,intensity])     \n",
    "    \"\"\"\n",
    "    #define local variables for readability\n",
    "    imageH = img.shape[0]\n",
    "    imageW = img.shape[1]\n",
    "    P1X = P1[0]\n",
    "    P1Y = P1[1]\n",
    "    P2X = P2[0]\n",
    "    P2Y = P2[1]\n",
    "\n",
    "    #difference and absolute difference between points\n",
    "    #used to calculate slope and relative location between points\n",
    "    dX = P2X - P1X\n",
    "    dY = P2Y - P1Y\n",
    "    dXa = np.abs(dX)\n",
    "    dYa = np.abs(dY)\n",
    "\n",
    "    #predefine numpy array for output based on distance between points\n",
    "    itbuffer = np.empty(shape=(np.maximum(int(dYa),int(dXa)),3),dtype=np.float32)\n",
    "    itbuffer.fill(np.nan)\n",
    "\n",
    "    #Obtain coordinates along the line using a form of Bresenham's algorithm\n",
    "    negY = P1Y > P2Y\n",
    "    negX = P1X > P2X\n",
    "    if P1X == P2X: #vertical line segment\n",
    "        itbuffer[:,0] = P1X\n",
    "        if negY:\n",
    "            itbuffer[:,1] = np.arange(P1Y - 1,P1Y - dYa - 1,-1)\n",
    "        else:\n",
    "            itbuffer[:,1] = np.arange(P1Y+1,P1Y+dYa+1)              \n",
    "    elif P1Y == P2Y: #horizontal line segment\n",
    "        itbuffer[:,1] = P1Y\n",
    "        if negX:\n",
    "            itbuffer[:,0] = np.arange(P1X-1,P1X-dXa-1,-1)\n",
    "        else:\n",
    "            itbuffer[:,0] = np.arange(P1X+1,P1X+dXa+1)\n",
    "    else: #diagonal line segment\n",
    "        steepSlope = dYa > dXa\n",
    "        if steepSlope:\n",
    "            slope = dX.astype(np.float32)/dY.astype(np.float32)\n",
    "            if negY:\n",
    "                itbuffer[:,1] = np.arange(P1Y-1,P1Y-dYa-1,-1)\n",
    "            else:\n",
    "                itbuffer[:,1] = np.arange(P1Y+1,P1Y+dYa+1)\n",
    "            itbuffer[:,0] = (slope*(itbuffer[:,1]-P1Y)).astype(np.int) + P1X\n",
    "        else:\n",
    "            slope = dY.astype(np.float32)/dX.astype(np.float32)\n",
    "            if negX:\n",
    "                itbuffer[:,0] = np.arange(P1X-1,P1X-dXa-1,-1)\n",
    "            else:\n",
    "                itbuffer[:,0] = np.arange(P1X+1,P1X+dXa+1)\n",
    "            itbuffer[:,1] = (slope*(itbuffer[:,0]-P1X)).astype(np.int) + P1Y\n",
    "\n",
    "    #Remove points outside of image\n",
    "    colX = itbuffer[:,0]\n",
    "    colY = itbuffer[:,1]\n",
    "    itbuffer = itbuffer[(colX >= 0) & (colY >=0) & (colX<imageW) & (colY<imageH)]\n",
    "\n",
    "    #Get intensities from img ndarray\n",
    "    itbuffer[:,2] = img[itbuffer[:,1].astype(np.uint),itbuffer[:,0].astype(np.uint)]\n",
    "\n",
    "    return itbuffer"
   ]
  },
  {
   "cell_type": "code",
   "execution_count": 4,
   "metadata": {},
   "outputs": [],
   "source": [
    "#=========USER START================\n",
    "#folder path\n",
    "path = 'temp image/*.jpg' \n",
    "\n",
    "\n",
    "#=========USER END================"
   ]
  },
  {
   "cell_type": "code",
   "execution_count": 5,
   "metadata": {},
   "outputs": [],
   "source": [
    "image_list = []\n",
    "for filename in glob.glob(path):\n",
    "    image_list.append(filename)\n",
    "\n",
    "name_list = []"
   ]
  },
  {
   "cell_type": "code",
   "execution_count": 7,
   "metadata": {},
   "outputs": [],
   "source": [
    "img = cv2.imread(image_list[1])\n",
    "ShowResizedIm(np.hstack([img,]),\"mark\",2)\n",
    "cv2.waitKey(0)\n",
    "cv2.destroyAllWindows()"
   ]
  },
  {
   "cell_type": "code",
   "execution_count": 8,
   "metadata": {},
   "outputs": [],
   "source": [
    "edges = cv2.Canny(img,100,200)\n",
    "ShowResizedIm(np.hstack([edges,]),\"mark\",2)\n",
    "cv2.waitKey(0)\n",
    "cv2.destroyAllWindows()"
   ]
  },
  {
   "cell_type": "code",
   "execution_count": 7,
   "metadata": {},
   "outputs": [
    {
     "data": {
      "text/plain": [
       "True"
      ]
     },
     "execution_count": 7,
     "metadata": {},
     "output_type": "execute_result"
    }
   ],
   "source": [
    "cv2.imwrite(\"temp image/fungi edges.jpg\",edges)"
   ]
  },
  {
   "cell_type": "code",
   "execution_count": 9,
   "metadata": {},
   "outputs": [],
   "source": [
    "canvas = edges.copy()\n",
    "# calculate moments of binary image\n",
    "M = cv2.moments(edges)\n",
    " \n",
    "# calculate x,y coordinate of center\n",
    "cX = int(M[\"m10\"] / M[\"m00\"])\n",
    "cY = int(M[\"m01\"] / M[\"m00\"])\n",
    " \n",
    "# put text and highlight the center\n",
    "cv2.circle(canvas , (cX, cY), 5, (255, 255, 255), -1)\n",
    "cv2.putText(canvas , \"centroid\", (cX - 25, cY - 25),cv2.FONT_HERSHEY_SIMPLEX, 0.5, (255, 255, 255), 2)\n",
    "ShowResizedIm(np.hstack([canvas,]),\"mark\",2)\n",
    "cv2.waitKey(0)\n",
    "cv2.destroyAllWindows()"
   ]
  },
  {
   "cell_type": "code",
   "execution_count": 94,
   "metadata": {},
   "outputs": [],
   "source": [
    "degree_step = 5\n",
    "canv_H,canv_W = canvas.shape[:2]\n",
    "mask = np.zeros((canv_H,canv_W), dtype=np.uint8)\n",
    "for theta in range(0,180,degree_step):\n",
    "    mask_line_v1,mask_line_u1,mask_line_v2,mask_line_u2 = findLineCoordinate(cY, cX, canv_H, canv_W,theta)\n",
    "    cv2.line(mask,(mask_line_v1,mask_line_u1),(mask_line_v2,mask_line_u2),(255,255,255),1)\n",
    "    line = createLineIterator(np.array((mask_line_v1,mask_line_u1)),np.array((mask_line_v2,mask_line_u2)), mask)\n",
    "    \n",
    "    submask = np.zeros((canv_H,canv_W), dtype=np.uint8)\n",
    "    if theta < 90:\n",
    "        theta2 = theta+90\n",
    "    else:  \n",
    "        theta2 = theta-90\n",
    "    for pixel in line:\n",
    "        #pixel[0] is x, pixel[1] is y\n",
    "        sub_line_v1,sub_line_u1,sub_line_v2,sub_line_u2 = findLineCoordinate(pixel[1], pixel[0], canv_H, canv_W,theta2)\n",
    "        cv2.line(submask,(sub_line_v1,sub_line_u1),(sub_line_v2,sub_line_u2),(255,255,255),1)      \n",
    "        #crate set1 pm\n",
    "        set1 = []\n",
    "        subline = createLineIterator(np.array((sub_line_v1,sub_line_u1)),np.array((pixel[0],pixel[1])), edges)\n",
    "        for subpixel in subline:\n",
    "            if subpixel[2] == 255:\n",
    "                set1.append(math.sqrt((pixel[0] - subpixel[0])**2 + (pixel[1] - subpixel[1])**2))\n",
    "        #crate set2 pm\n",
    "        set2 = []\n",
    "        subline = createLineIterator(np.array((sub_line_v2,sub_line_u2)),np.array((pixel[0],pixel[1])), edges)\n",
    "        for subpixel in subline:\n",
    "            if subpixel[2] == 255:\n",
    "                set2.append(math.sqrt((pixel[0] - subpixel[0])**2 + (pixel[1] - subpixel[1])**2))\n",
    "        #find PHD\n",
    "        \n",
    "        \n",
    "ShowResizedIm(np.hstack([mask,submask]),\"mark\",2)\n",
    "cv2.waitKey(0)\n",
    "cv2.destroyAllWindows()\n",
    "        \n",
    "ShowResizedIm(np.hstack([canvas,mask]),\"mark\",2)\n",
    "cv2.waitKey(0)\n",
    "cv2.destroyAllWindows()\n",
    "    \n",
    "    "
   ]
  },
  {
   "cell_type": "code",
   "execution_count": 40,
   "metadata": {},
   "outputs": [
    {
     "data": {
      "text/plain": [
       "True"
      ]
     },
     "execution_count": 40,
     "metadata": {},
     "output_type": "execute_result"
    }
   ],
   "source": [
    "cv2.imwrite(\"temp image/canvas.jpg\",canvas)"
   ]
  },
  {
   "cell_type": "code",
   "execution_count": 12,
   "metadata": {
    "scrolled": true
   },
   "outputs": [
    {
     "data": {
      "text/plain": [
       "True"
      ]
     },
     "execution_count": 12,
     "metadata": {},
     "output_type": "execute_result"
    }
   ],
   "source": [
    "cv2.imwrite(\"temp image/line mask.jpg\",mask)"
   ]
  },
  {
   "cell_type": "code",
   "execution_count": 43,
   "metadata": {},
   "outputs": [],
   "source": [
    "submask = np.zeros((canv_H,canv_W), dtype=np.uint8)\n",
    "if theta < 90:\n",
    "    theta2 = theta+90\n",
    "else:  \n",
    "    theta2 = theta-90\n",
    "for i in line:\n",
    "    sub_line_v1,sub_line_u1,sub_line_v2,sub_line_u2 = findLineCoordinate(i[1], i[0], canv_H, canv_W,theta2)\n",
    "    cv2.line(submask,(sub_line_v1,sub_line_u1),(sub_line_v2,sub_line_u2),(255,255,255),1)\n",
    "#cv2.line(submask,(sub_line_v1,sub_line_u1),(sub_line_v2,sub_line_u2),(255,255,255),1)\n",
    "ShowResizedIm(np.hstack([mask,submask]),\"mark\",2)\n",
    "cv2.waitKey(0)\n",
    "cv2.destroyAllWindows()  "
   ]
  },
  {
   "cell_type": "code",
   "execution_count": 42,
   "metadata": {},
   "outputs": [
    {
     "data": {
      "text/plain": [
       "True"
      ]
     },
     "execution_count": 42,
     "metadata": {},
     "output_type": "execute_result"
    }
   ],
   "source": [
    "cv2.imwrite(\"temp image/line sub mask.jpg\",submask)"
   ]
  }
 ],
 "metadata": {
  "kernelspec": {
   "display_name": "Python 3",
   "language": "python",
   "name": "python3"
  },
  "language_info": {
   "codemirror_mode": {
    "name": "ipython",
    "version": 3
   },
   "file_extension": ".py",
   "mimetype": "text/x-python",
   "name": "python",
   "nbconvert_exporter": "python",
   "pygments_lexer": "ipython3",
   "version": "3.7.4"
  }
 },
 "nbformat": 4,
 "nbformat_minor": 2
}
