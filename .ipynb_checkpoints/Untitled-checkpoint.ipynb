{
 "cells": [
  {
   "cell_type": "code",
   "execution_count": 1,
   "metadata": {},
   "outputs": [],
   "source": [
    "import cv2\n",
    "import numpy as np\n",
    "import matplotlib.pyplot as plt\n",
    "\n",
    "%matplotlib inline\n",
    "\n",
    "display = "
   ]
  },
  {
   "cell_type": "code",
   "execution_count": 92,
   "metadata": {
    "scrolled": true
   },
   "outputs": [],
   "source": [
    "#read image\n",
    "\n",
    "\n",
    "#img_source = \"C:/Users/sunny.DESKTOP-QGFGEEK/Desktop/PannyProject/4.เม.ย 62/22.4.19/0249478/0249478-18534.jpg\"\n",
    "#img_source = \"C:\\\\Users\\\\sunny.DESKTOP-QGFGEEK\\\\Desktop\\\\PannyProject\\\\4.เม.ย 62\\\\22.4.19\\\\0249478\\\\0249478-18534.jpg\"\n",
    "img_source = \"0249478-18534.jpg\"\n",
    "\n",
    "img = cv2.imread(img_source)\n",
    "imgray = cv2.cvtColor(img,cv2.COLOR_BGR2GRAY)\n",
    "#imblur1 = cv2.medianBlur(imgray,5)\n",
    "#imblur2 = cv2.GaussianBlur(imblur1,(5,5),0)"
   ]
  },
  {
   "cell_type": "code",
   "execution_count": 93,
   "metadata": {},
   "outputs": [],
   "source": [
    "#process\n",
    "\n",
    "\n",
    "ret,thresh = cv2.threshold(imgray,180,255,cv2.THRESH_BINARY)\n",
    "contours, hierarchy = cv2.findContours(thresh,cv2.RETR_TREE,cv2.CHAIN_APPROX_SIMPLE)"
   ]
  },
  {
   "cell_type": "code",
   "execution_count": 94,
   "metadata": {},
   "outputs": [],
   "source": [
    "#show image\n",
    "\n",
    "cv2.namedWindow('image',cv2.WINDOW_NORMAL)\n",
    "img_hight = 2528\n",
    "img_width = 1936\n",
    "img_scaler = 3\n",
    "cv2.resizeWindow('image',int(img_hight/ img_scaler),int(img_width/img_scaler))\n",
    "\n",
    "cv2.drawContours(img, contours, -1, (0,255,0), 10)\n",
    "cv2.imshow('image',img)\n",
    "#cv2.imshow('image',thresh)\n",
    "cv2.waitKey(0)\n",
    "cv2.destroyAllWindows()"
   ]
  }
 ],
 "metadata": {
  "kernelspec": {
   "display_name": "Python 3",
   "language": "python",
   "name": "python3"
  },
  "language_info": {
   "codemirror_mode": {
    "name": "ipython",
    "version": 3
   },
   "file_extension": ".py",
   "mimetype": "text/x-python",
   "name": "python",
   "nbconvert_exporter": "python",
   "pygments_lexer": "ipython3",
   "version": "3.7.3"
  }
 },
 "nbformat": 4,
 "nbformat_minor": 2
}
