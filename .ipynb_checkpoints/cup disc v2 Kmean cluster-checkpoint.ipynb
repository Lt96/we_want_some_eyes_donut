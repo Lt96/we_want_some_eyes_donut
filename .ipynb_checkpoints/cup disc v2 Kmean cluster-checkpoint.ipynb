{
 "cells": [
  {
   "cell_type": "code",
   "execution_count": 14,
   "metadata": {},
   "outputs": [],
   "source": [
    "import cv2\n",
    "import numpy as np\n",
    "import matplotlib.pyplot as plt\n",
    "import os\n",
    "import imutils\n",
    "import glob\n",
    "import argparse\n",
    "%matplotlib inline"
   ]
  },
  {
   "cell_type": "code",
   "execution_count": 15,
   "metadata": {},
   "outputs": [],
   "source": [
    " def ShowResizedIm(img,windowname,scale):\n",
    "    cv2.namedWindow(windowname, cv2.WINDOW_NORMAL)        # Create window with freedom of dimensions\n",
    "    height, width = img.shape[:2]   #get image dimension\n",
    "    cv2.resizeWindow(windowname,int(width/scale) ,int(height/scale))                    # Resize image\n",
    "    cv2.imshow(windowname, img)                            # Show image"
   ]
  },
  {
   "cell_type": "code",
   "execution_count": 73,
   "metadata": {},
   "outputs": [],
   "source": [
    "def auto_contrast(img):\n",
    "    height, width = img.shape[:2] \n",
    "    a_high=0\n",
    "    a_low=255\n",
    "    for i in img:\n",
    "        for j in i:\n",
    "            if j >= a_high:\n",
    "                a_high = j\n",
    "            if j<=a_low:\n",
    "                a_low =j\n",
    "    print(a_high)\n",
    "    print(a_low)\n",
    "    for i in range(height):\n",
    "        for j in range(width):\n",
    "            img[i][j] =  (img[i][j] -a_low)*255/(a_high-a_low)\n",
    "    a_high=0\n",
    "    a_low=255\n",
    "    for i in img:\n",
    "        for j in i:\n",
    "            if j >= a_high:\n",
    "                a_high = j\n",
    "            if j<=a_low:\n",
    "                a_low =j\n",
    "    print(a_high)\n",
    "    print(a_low)\n",
    "    return img"
   ]
  },
  {
   "cell_type": "code",
   "execution_count": 91,
   "metadata": {},
   "outputs": [],
   "source": [
    "#delute blood vessel in green chanel\n",
    "def vessel_erase(scr):    \n",
    "    img = scr.copy()\n",
    "    #clahe = cv2.createCLAHE(clipLimit=2.0, tileGridSize=(8,8))\n",
    "    #cl1 = clahe.apply(img)\n",
    "    kernel15 = cv2.getStructuringElement(cv2.MORPH_ELLIPSE,(20,20))\n",
    "    img_dilation = cv2.dilate(img, kernel15, iterations=1) \n",
    "    img_dilation_erosion = cv2.erode(img_dilation, kernel15, iterations=1)\n",
    "    return img_dilation_erosion"
   ]
  },
  {
   "cell_type": "code",
   "execution_count": 16,
   "metadata": {},
   "outputs": [
    {
     "name": "stdout",
     "output_type": "stream",
     "text": [
      "source\\0249478-18534.jpg\n",
      "source\\0249478-18535.jpg\n",
      "source\\0249478-18538.jpg\n",
      "source\\0249478-18539.jpg\n",
      "source\\0249478-18541.jpg\n",
      "source\\0249478-18543.jpg\n",
      "source\\0708345-19488.jpg\n",
      "source\\1458559-22424.jpg\n",
      "source\\1458559-22425.jpg\n"
     ]
    }
   ],
   "source": [
    "#import images from a folder into list\n",
    "image_list = []\n",
    "for filename in glob.glob('source/*.jpg'):\n",
    "    image_list.append(filename)\n",
    "    print(filename)"
   ]
  },
  {
   "cell_type": "code",
   "execution_count": 146,
   "metadata": {},
   "outputs": [],
   "source": [
    "img_source = image_list[6] "
   ]
  },
  {
   "cell_type": "code",
   "execution_count": 147,
   "metadata": {},
   "outputs": [],
   "source": [
    "img = cv2.imread(img_source)\n",
    "\n",
    "#color image\n",
    "b,g,r = cv2.split(img)\n",
    "\n",
    "ShowResizedIm(np.hstack((b,g,r)),\"img1\",3)\n",
    "\n",
    "\n",
    "cv2.waitKey(0)\n",
    "cv2.destroyAllWindows()"
   ]
  },
  {
   "cell_type": "code",
   "execution_count": 148,
   "metadata": {},
   "outputs": [
    {
     "name": "stdout",
     "output_type": "stream",
     "text": [
      "(1825, 1016)\n"
     ]
    }
   ],
   "source": [
    "#find bright spot\n",
    "# apply a Gaussian blur to the image then find the brightest\n",
    "# region\n",
    "imblur = cv2.GaussianBlur(g,(5,5),0)\n",
    "(minVal, maxVal, minLoc, maxLoc) = cv2.minMaxLoc(imblur)\n",
    "print(maxLoc)\n",
    "image = g.copy()\n",
    "cir = cv2.circle(image,maxLoc,50,(255, 255, 255), 3)\n",
    "\n",
    "ShowResizedIm(np.hstack((g,cir)),\"img1\",3)\n",
    "\n",
    "\n",
    "cv2.waitKey(0)\n",
    "cv2.destroyAllWindows()"
   ]
  },
  {
   "cell_type": "code",
   "execution_count": 158,
   "metadata": {},
   "outputs": [],
   "source": [
    "# Crop image\n",
    "# https://www.learnopencv.com/how-to-select-a-bounding-box-roi-in-opencv-cpp-python/\n",
    "crop_width = 500\n",
    "imCrop = g[int(maxLoc[1]-(crop_width/2)):int(maxLoc[1]+(crop_width/2)), int(maxLoc[0]-(crop_width/2)):int(maxLoc[0]+(crop_width/2))]\n",
    "cv2.imshow(\"Image\", imCrop)\n",
    "cv2.waitKey(0)\n",
    "cv2.destroyAllWindows()"
   ]
  },
  {
   "cell_type": "code",
   "execution_count": 159,
   "metadata": {},
   "outputs": [],
   "source": [
    "# https://docs.opencv.org/3.0-beta/doc/py_tutorials/py_ml/py_kmeans/py_kmeans_opencv/py_kmeans_opencv.html\n",
    "Z = imCrop.reshape((-1,1))\n",
    "# convert to np.float32\n",
    "Z = np.float32(Z)\n",
    "# define criteria, number of clusters(K) and apply kmeans()\n",
    "criteria = (cv2.TERM_CRITERIA_EPS + cv2.TERM_CRITERIA_MAX_ITER, 10, 100)\n",
    "K = 3\n",
    "ret,label,center=cv2.kmeans(Z,K,None,criteria,10,cv2.KMEANS_RANDOM_CENTERS)\n",
    "\n",
    "# Now convert back into uint8, and make original image\n",
    "center = np.uint8(center)\n",
    "res = center[label.flatten()]\n",
    "res2 = res.reshape((imCrop.shape))\n",
    "\n",
    "cv2.imshow('res2',res2)\n",
    "cv2.waitKey(0)\n",
    "cv2.destroyAllWindows()"
   ]
  },
  {
   "cell_type": "code",
   "execution_count": 160,
   "metadata": {},
   "outputs": [],
   "source": [
    "cv2.imshow('img',np.hstack((imCrop,res2)))\n",
    "cv2.waitKey(0)\n",
    "cv2.destroyAllWindows()"
   ]
  },
  {
   "cell_type": "code",
   "execution_count": 163,
   "metadata": {},
   "outputs": [],
   "source": [
    "#morphology\n",
    "# https://docs.opencv.org/3.4/d9/d61/tutorial_py_morphological_ops.html\n",
    "kernel = np.ones((10,10),np.uint8)\n",
    "opening = cv2.morphologyEx(res2, cv2.MORPH_OPEN, kernel)\n",
    "cv2.imshow('img',np.hstack((res2,opening)))\n",
    "cv2.waitKey(0)\n",
    "cv2.destroyAllWindows()"
   ]
  },
  {
   "cell_type": "code",
   "execution_count": 194,
   "metadata": {},
   "outputs": [
    {
     "ename": "SyntaxError",
     "evalue": "invalid syntax (<ipython-input-194-f1d9687c6d55>, line 2)",
     "output_type": "error",
     "traceback": [
      "\u001b[1;36m  File \u001b[1;32m\"<ipython-input-194-f1d9687c6d55>\"\u001b[1;36m, line \u001b[1;32m2\u001b[0m\n\u001b[1;33m    disc_cluster  opening.copy()\u001b[0m\n\u001b[1;37m                        ^\u001b[0m\n\u001b[1;31mSyntaxError\u001b[0m\u001b[1;31m:\u001b[0m invalid syntax\n"
     ]
    }
   ],
   "source": [
    "#disable the third cluster\n",
    "disc_cluster = ning.copy()\n",
    "disc_cluster[disc_cluster == center[2]] = center[1]\n",
    "\n",
    "# show the image\n",
    "cv2.imshow('img',np.hstack((opening,disc_cluster)))\n",
    "cv2.waitKey(0)\n",
    "cv2.destroyAllWindows()"
   ]
  },
  {
   "cell_type": "code",
   "execution_count": null,
   "metadata": {},
   "outputs": [],
   "source": []
  }
 ],
 "metadata": {
  "kernelspec": {
   "display_name": "Python 3",
   "language": "python",
   "name": "python3"
  },
  "language_info": {
   "codemirror_mode": {
    "name": "ipython",
    "version": 3
   },
   "file_extension": ".py",
   "mimetype": "text/x-python",
   "name": "python",
   "nbconvert_exporter": "python",
   "pygments_lexer": "ipython3",
   "version": "3.7.3"
  }
 },
 "nbformat": 4,
 "nbformat_minor": 2
}
