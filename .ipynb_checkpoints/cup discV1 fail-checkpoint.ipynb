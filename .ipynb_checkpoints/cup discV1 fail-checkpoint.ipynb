{
 "cells": [
  {
   "cell_type": "code",
   "execution_count": 1,
   "metadata": {},
   "outputs": [],
   "source": [
    "import cv2\n",
    "import numpy as np\n",
    "import matplotlib.pyplot as plt\n",
    "import os\n",
    "import imutils\n",
    "import glob\n",
    "%matplotlib inline\n",
    "\n",
    "#os.chdir('..\\..\\..')\n",
    "#os.chdir('/Users/sunny.DESKTOP-QGFGEEK/Desktop/PannyProject/6.มิ.ย 62/07.06.62/0879391')\n",
    "#print(os.getcwd())"
   ]
  },
  {
   "cell_type": "code",
   "execution_count": 3,
   "metadata": {},
   "outputs": [
    {
     "ename": "KeyboardInterrupt",
     "evalue": "",
     "output_type": "error",
     "traceback": [
      "\u001b[1;31m---------------------------------------------------------------------------\u001b[0m",
      "\u001b[1;31mKeyboardInterrupt\u001b[0m                         Traceback (most recent call last)",
      "\u001b[1;32m<ipython-input-3-67f17e51c9ce>\u001b[0m in \u001b[0;36m<module>\u001b[1;34m\u001b[0m\n\u001b[0;32m     84\u001b[0m \u001b[1;33m\u001b[0m\u001b[0m\n\u001b[0;32m     85\u001b[0m \u001b[1;33m\u001b[0m\u001b[0m\n\u001b[1;32m---> 86\u001b[1;33m \u001b[0mcv2\u001b[0m\u001b[1;33m.\u001b[0m\u001b[0mwaitKey\u001b[0m\u001b[1;33m(\u001b[0m\u001b[1;36m0\u001b[0m\u001b[1;33m)\u001b[0m\u001b[1;33m\u001b[0m\u001b[1;33m\u001b[0m\u001b[0m\n\u001b[0m\u001b[0;32m     87\u001b[0m \u001b[0mcv2\u001b[0m\u001b[1;33m.\u001b[0m\u001b[0mdestroyAllWindows\u001b[0m\u001b[1;33m(\u001b[0m\u001b[1;33m)\u001b[0m\u001b[1;33m\u001b[0m\u001b[1;33m\u001b[0m\u001b[0m\n\u001b[0;32m     88\u001b[0m \u001b[1;33m\u001b[0m\u001b[0m\n",
      "\u001b[1;31mKeyboardInterrupt\u001b[0m: "
     ]
    }
   ],
   "source": [
    "#User start\n",
    "\n",
    "#img_source = \"C:/Users/sunny.DESKTOP-QGFGEEK/Desktop/PannyProject/4.เม.ย 62/22.4.19/0249478/0249478-18534.jpg\"\n",
    "#img_source = \"C:/Users/sunny.DESKTOP-QGFGEEK/Desktop/PannyProject/6.มิ.ย 62/07.06.62/0879391/0879391-22448.jpg\"\n",
    "#img_source = \"C:\\\\Users\\\\sunny.DESKTOP-QGFGEEK\\\\Desktop\\\\PannyProject\\\\4.เม.ย 62\\\\22.4.19\\\\0249478\\\\0249478-18534.jpg\"\n",
    "img_source = \"0249478-18534.jpg\"\n",
    "#img_source = \"0879391-22448.jpg\"\n",
    "inner_thresh =170\n",
    "outer_thresh = 115      #recommend 115\n",
    "\n",
    "#User end\n",
    "\n",
    "#read image\n",
    "\n",
    "\n",
    "\n",
    "\n",
    "img = cv2.imread(img_source)\n",
    "height, width = img.shape[:2]   #get image dimension\n",
    "\n",
    "\n",
    "#process\n",
    "\n",
    "imgray = cv2.cvtColor(img,cv2.COLOR_BGR2GRAY)\n",
    "#imblur1 = cv2.medianBlur(imgray,5)\n",
    "#imblur2 = cv2.GaussianBlur(imblur1,(5,5),0)\n",
    "#ret,thresh = cv2.threshold(imblur2,120,255,cv2.THRESH_BINARY)\n",
    "#contours, hierarchy = cv2.findContours(thresh,cv2.RETR_TREE ,cv2.CHAIN_APPROX_SIMPLE)\n",
    "\n",
    "\n",
    "kernel = np.ones((5,5), np.uint8) \n",
    "\n",
    "img_dilation = cv2.dilate(imgray, kernel, iterations=15) \n",
    "img_dilation_erosion = cv2.erode(img_dilation, kernel, iterations=15) \n",
    "\n",
    "ret,threshInner = cv2.threshold(img_dilation_erosion,inner_thresh,255,cv2.THRESH_BINARY)\n",
    "ret,threshOuter = cv2.threshold(img_dilation_erosion,outer_thresh,255,cv2.THRESH_BINARY)\n",
    "\n",
    "contoursInner, hierarchyInner = cv2.findContours(threshInner,cv2.RETR_TREE ,cv2.CHAIN_APPROX_SIMPLE)\n",
    "contoursOuter, hierarchyOuter = cv2.findContours(threshOuter,cv2.RETR_TREE ,cv2.CHAIN_APPROX_SIMPLE)\n",
    "\n",
    "#find max min range of some shit idk\n",
    "biggest_cnt_inner = max(contoursInner, key=cv2.contourArea)\n",
    "biggest_cnt_outer = max(contoursOuter, key=cv2.contourArea)\n",
    "\n",
    "\n",
    "inner_y_list = []\n",
    "for i in biggest_cnt_inner:\n",
    "    inner_y_list.append(i[0][1])\n",
    "    \n",
    "inner_max = max(inner_y_list)\n",
    "inner_min = min(inner_y_list)\n",
    "\n",
    "outer_y_list = []\n",
    "for i in biggest_cnt_outer:\n",
    "    outer_y_list.append(i[0][1])\n",
    "    \n",
    "outer_max = max(outer_y_list)\n",
    "outer_min = min(outer_y_list)\n",
    "\n",
    "cup_size = inner_max-inner_min\n",
    "disc_size = outer_max-outer_min\n",
    "ratio = round(disc_size/cup_size,2)\n",
    "#show image\n",
    "\n",
    "cv2.drawContours(img, contoursInner, -1, (0,255,0), 10)\n",
    "cv2.drawContours(img, contoursOuter, -1, (255,0,0), 10)\n",
    "\n",
    "if 1:\n",
    "    cv2.line(img,(0,inner_max),(width,inner_max),(0,255,255),5)\n",
    "    cv2.line(img,(0,inner_min),(width,inner_min),(0,255,255),5)\n",
    "    cv2.line(img,(0,outer_max),(width,outer_max),(255,0,255),5)\n",
    "    cv2.line(img,(0,outer_min),(width,outer_min),(255,0,255),5)\n",
    "    font = cv2.FONT_HERSHEY_SIMPLEX\n",
    "    cv2.putText(img,\"cup size: \"+str(cup_size)+\" pixel\",(10,100), font, 2.5,(255,255,255),5,cv2.LINE_AA)\n",
    "    cv2.putText(img,\"disc size: \"+str(disc_size)+\" pixel\",(10,200), font, 2.5,(255,255,255),5,cv2.LINE_AA)\n",
    "    cv2.putText(img,\"ratio d to c: \"+str(ratio),(10,300), font, 2.5,(255,255,255),5,cv2.LINE_AA)\n",
    "    \n",
    "#ShowResizedIm(img,\"A\",4)\n",
    "#ShowResizedIm(thresh,\"B\",4)\n",
    "ShowResizedIm(imgray,\"imgray\",4)\n",
    "ShowResizedIm(img_dilation_erosion,\"img_dilation_erosion\",4)\n",
    "ShowResizedIm(img,\"img\",4)\n",
    "\n",
    "\n",
    "cv2.waitKey(0)\n",
    "cv2.destroyAllWindows()\n",
    "\n"
   ]
  },
  {
   "cell_type": "code",
   "execution_count": 4,
   "metadata": {},
   "outputs": [],
   "source": [
    " def ShowResizedIm(img,windowname,scale):\n",
    "    cv2.namedWindow(windowname, cv2.WINDOW_NORMAL)        # Create window with freedom of dimensions\n",
    "    height, width = img.shape[:2]   #get image dimension\n",
    "    cv2.resizeWindow(windowname,int(width/scale) ,int(height/scale))                    # Resize image\n",
    "    cv2.imshow(windowname, img)                            # Show image"
   ]
  },
  {
   "cell_type": "code",
   "execution_count": 5,
   "metadata": {},
   "outputs": [],
   "source": [
    "def auto_canny(image, sigma=0.33):\n",
    "    # compute the median of the single channel pixel intensities\n",
    "    v = np.median(image)\n",
    "\n",
    "    # apply automatic Canny edge detection using the computed median\n",
    "    lower = int(max(0, (1.0 - sigma) * v))\n",
    "    upper = int(min(255, (1.0 + sigma) * v))\n",
    "    edged = cv2.Canny(image, lower, upper)\n",
    "\n",
    "    # return the edged image\n",
    "    return edged"
   ]
  },
  {
   "cell_type": "code",
   "execution_count": 6,
   "metadata": {},
   "outputs": [],
   "source": [
    "def auto_contrast(img):\n",
    "    height, width = img.shape[:2] \n",
    "    a_high=0\n",
    "    a_low=255\n",
    "    for i in img:\n",
    "        for j in i:\n",
    "            if j >= a_high:\n",
    "                a_high = j\n",
    "            if j<=a_low:\n",
    "                a_low =j\n",
    "    print(a_high)\n",
    "    print(a_low)\n",
    "    for i in range(height):\n",
    "        for j in range(width):\n",
    "            img[i][j] =  (img[i][j] -a_low)*255/(a_high-a_low)\n",
    "    a_high=0\n",
    "    a_low=255\n",
    "    for i in img:\n",
    "        for j in i:\n",
    "            if j >= a_high:\n",
    "                a_high = j\n",
    "            if j<=a_low:\n",
    "                a_low =j\n",
    "    print(a_high)\n",
    "    print(a_low)\n",
    "    return img"
   ]
  },
  {
   "cell_type": "code",
   "execution_count": 7,
   "metadata": {},
   "outputs": [
    {
     "name": "stdout",
     "output_type": "stream",
     "text": [
      "source\\0249478-18534.jpg\n",
      "source\\0249478-18535.jpg\n",
      "source\\0249478-18538.jpg\n",
      "source\\0249478-18539.jpg\n",
      "source\\0249478-18541.jpg\n",
      "source\\0249478-18543.jpg\n",
      "source\\0708345-19488.jpg\n",
      "source\\1458559-22424.jpg\n",
      "source\\1458559-22425.jpg\n"
     ]
    }
   ],
   "source": [
    "#import images from a folder into list\n",
    "image_list = []\n",
    "for filename in glob.glob('source/*.jpg'):\n",
    "    image_list.append(filename)\n",
    "    print(filename)"
   ]
  },
  {
   "cell_type": "code",
   "execution_count": 27,
   "metadata": {},
   "outputs": [],
   "source": [
    "#read image and gray\n",
    "img_source = image_list[3] \n",
    "img = cv2.imread(img_source)\n",
    "width = int(img.shape[1]*0.3)\n",
    "height = int(img.shape[0]*0.3)\n",
    "img = cv2.resize(img, (width,height), interpolation = cv2.INTER_AREA)\n",
    "imgray = cv2.cvtColor(img,cv2.COLOR_BGR2GRAY)"
   ]
  },
  {
   "cell_type": "code",
   "execution_count": 29,
   "metadata": {},
   "outputs": [],
   "source": [
    "#color image\n",
    "b,g,r = cv2.split(img)\n",
    "\n",
    "ShowResizedIm(np.hstack((b,g,r)),\"img1\",1)\n",
    "\n",
    "\n",
    "cv2.waitKey(0)\n",
    "cv2.destroyAllWindows()"
   ]
  },
  {
   "cell_type": "code",
   "execution_count": 73,
   "metadata": {},
   "outputs": [],
   "source": [
    "#delute blood vessel in green chanel\n",
    "def vessel_erase(scr):    \n",
    "    img = scr.copy()\n",
    "    #clahe = cv2.createCLAHE(clipLimit=2.0, tileGridSize=(8,8))\n",
    "    #cl1 = clahe.apply(img)\n",
    "    kernel15 = cv2.getStructuringElement(cv2.MORPH_ELLIPSE,(15,15))\n",
    "    img_dilation = cv2.dilate(img, kernel15, iterations=1) \n",
    "    img_dilation_erosion = cv2.erode(img_dilation, kernel15, iterations=1)\n",
    "    return img_dilation_erosion"
   ]
  },
  {
   "cell_type": "code",
   "execution_count": 31,
   "metadata": {},
   "outputs": [],
   "source": [
    "ShowResizedIm(np.hstack((g,vessel_erase(g))),\"img1\",1)\n",
    "\n",
    "\n",
    "cv2.waitKey(0)\n",
    "cv2.destroyAllWindows()"
   ]
  },
  {
   "cell_type": "code",
   "execution_count": 9,
   "metadata": {},
   "outputs": [
    {
     "ename": "NameError",
     "evalue": "name 'img_dilation_erosion' is not defined",
     "output_type": "error",
     "traceback": [
      "\u001b[1;31m---------------------------------------------------------------------------\u001b[0m",
      "\u001b[1;31mNameError\u001b[0m                                 Traceback (most recent call last)",
      "\u001b[1;32m<ipython-input-9-9bc59dfbed92>\u001b[0m in \u001b[0;36m<module>\u001b[1;34m\u001b[0m\n\u001b[0;32m      2\u001b[0m \u001b[1;33m\u001b[0m\u001b[0m\n\u001b[0;32m      3\u001b[0m \u001b[0mimblur\u001b[0m \u001b[1;33m=\u001b[0m \u001b[0mcv2\u001b[0m\u001b[1;33m.\u001b[0m\u001b[0mGaussianBlur\u001b[0m\u001b[1;33m(\u001b[0m\u001b[0mimgray\u001b[0m\u001b[1;33m,\u001b[0m\u001b[1;33m(\u001b[0m\u001b[1;36m5\u001b[0m\u001b[1;33m,\u001b[0m\u001b[1;36m5\u001b[0m\u001b[1;33m)\u001b[0m\u001b[1;33m,\u001b[0m\u001b[1;36m0\u001b[0m\u001b[1;33m)\u001b[0m\u001b[1;33m\u001b[0m\u001b[1;33m\u001b[0m\u001b[0m\n\u001b[1;32m----> 4\u001b[1;33m \u001b[0mbloodVesselImg\u001b[0m \u001b[1;33m=\u001b[0m \u001b[0mcv2\u001b[0m\u001b[1;33m.\u001b[0m\u001b[0msubtract\u001b[0m\u001b[1;33m(\u001b[0m\u001b[0mimg_dilation_erosion\u001b[0m\u001b[1;33m,\u001b[0m\u001b[0mimgray\u001b[0m\u001b[1;33m)\u001b[0m\u001b[1;33m\u001b[0m\u001b[1;33m\u001b[0m\u001b[0m\n\u001b[0m\u001b[0;32m      5\u001b[0m \u001b[0mimblur2\u001b[0m \u001b[1;33m=\u001b[0m \u001b[0mcv2\u001b[0m\u001b[1;33m.\u001b[0m\u001b[0mGaussianBlur\u001b[0m\u001b[1;33m(\u001b[0m\u001b[0mbloodVesselImg\u001b[0m\u001b[1;33m,\u001b[0m\u001b[1;33m(\u001b[0m\u001b[1;36m5\u001b[0m\u001b[1;33m,\u001b[0m\u001b[1;36m5\u001b[0m\u001b[1;33m)\u001b[0m\u001b[1;33m,\u001b[0m\u001b[1;36m0\u001b[0m\u001b[1;33m)\u001b[0m\u001b[1;33m\u001b[0m\u001b[1;33m\u001b[0m\u001b[0m\n\u001b[0;32m      6\u001b[0m \u001b[1;31m#clahe = cv2.createCLAHE(clipLimit=2.0, tileGridSize=(8,8))\u001b[0m\u001b[1;33m\u001b[0m\u001b[1;33m\u001b[0m\u001b[1;33m\u001b[0m\u001b[0m\n",
      "\u001b[1;31mNameError\u001b[0m: name 'img_dilation_erosion' is not defined"
     ]
    }
   ],
   "source": [
    "\n",
    "\n",
    "imblur = cv2.GaussianBlur(imgray,(5,5),0)\n",
    "bloodVesselImg = cv2.subtract(img_dilation_erosion,imgray)\n",
    "imblur2 = cv2.GaussianBlur(bloodVesselImg,(5,5),0)\n",
    "#clahe = cv2.createCLAHE(clipLimit=2.0, tileGridSize=(8,8))\n",
    "#clB = clahe.apply(imblur2 )\n",
    "ret,threshB = cv2.threshold(clB,20,255,cv2.THRESH_BINARY)\n",
    "\n",
    "ShowResizedIm(np.hstack((imgray,imblur2*2)),\"img\",2)\n",
    "\n",
    "\n",
    "cv2.waitKey(0)\n",
    "cv2.destroyAllWindows()"
   ]
  },
  {
   "cell_type": "code",
   "execution_count": 189,
   "metadata": {},
   "outputs": [
    {
     "name": "stdout",
     "output_type": "stream",
     "text": [
      "179\n",
      "0\n",
      "255\n",
      "0\n"
     ]
    }
   ],
   "source": [
    "\n",
    "\n",
    "\n",
    "#trials\n",
    "\n",
    "\n",
    "\n",
    "\n",
    "\n",
    "\n",
    "\n",
    "bilablur = cv2.bilateralFilter(img_dilation_erosion ,10,75,75)\n",
    "\n",
    "equ = cv2.equalizeHist(img_dilation_erosion)\n",
    "\n",
    "imblur2 = cv2.GaussianBlur(imgray,(5,5),0)\n",
    "\n",
    "edges = cv2.Canny(img_dilation_erosion , 10, 20)\n",
    "edges2 = cv2.Canny(imblur ,10,20)\n",
    "edges3 = cv2.Canny(imblur2 ,10,30)\n",
    "\n",
    "# create a CLAHE object (Arguments are optional).\n",
    "clahe = cv2.createCLAHE(clipLimit=2.0, tileGridSize=(8,8))\n",
    "cl1 = clahe.apply(img_dilation_erosion)\n",
    "cl2 = clahe.apply(imblur2)\n",
    "\n",
    "edges4 = cv2.Canny(cl2 ,10,60)\n",
    "\n",
    "edges_high_thresh = cv2.Canny(cl1 , 10, 20)\n",
    "\n",
    "\n",
    "edges5 = cv2.Canny(autocon, 10, 20)\n",
    "edges6 = cv2.Canny(edges5, 10, 20)\n",
    "\n",
    "auto1 = auto_canny(imgray,sigma = 0.1)\n",
    "auto2 = auto_canny(img_dilation_erosion)\n",
    "\n",
    "# Stacking the images to print them together\n",
    "# For comparison\n",
    "\n",
    "# Display the resulting frame\n",
    "ShowResizedIm(np.hstack((img_dilation_erosion,autocon,edges5,edges6 )),\"img\",2)\n",
    "\n",
    "    \n",
    "\n",
    "cv2.waitKey(0)\n",
    "cv2.destroyAllWindows()"
   ]
  },
  {
   "cell_type": "code",
   "execution_count": 83,
   "metadata": {},
   "outputs": [],
   "source": [
    "def circle(img,canvas_src):\n",
    "    canvas = canvas_src.copy()\n",
    "    rows = img.shape[0]\n",
    "    circles = cv2.HoughCircles(img, cv2.HOUGH_GRADIENT, 1, rows / 8,\n",
    "                               param1= 100, param2=35,\n",
    "                               minRadius=1, maxRadius=100)\n",
    "    if circles is not None:\n",
    "        circles = np.uint16(np.around(circles))\n",
    "        for i in circles[0, :]:\n",
    "            center = (i[0], i[1])\n",
    "            # circle center\n",
    "            cv2.circle(canvas, center, 1, (0, 100, 100), 3)\n",
    "            # circle outline\n",
    "            radius = i[2]\n",
    "            cv2.circle(canvas, center, radius, (255, 0, 255), 3)\n",
    "    return canvas"
   ]
  },
  {
   "cell_type": "code",
   "execution_count": 88,
   "metadata": {},
   "outputs": [],
   "source": [
    "kernel = np.ones((5,5), np.uint8)  \n",
    "img_scr = vessel_erase(g)\n",
    "\n",
    "\n",
    "\n",
    "edges5 = cv2.Canny(img_scr, 10, 30)\n",
    "#edges6 = cv2.Canny(edges5, 0, 255)\n",
    "#auto3 = auto_canny(edges5)\n",
    "\n",
    "#iterations_time2 = 2\n",
    "#img_dilation2 = cv2.dilate(edges5, kernel, iterations=iterations_time2 ) \n",
    "#img_dilation_erosion2 = cv2.erode(img_dilation2, kernel, iterations=iterations_time2 ) \n",
    "\n",
    "\n",
    "cir1 = circle(img_scr,g)\n",
    "\n",
    "#sobelx = cv2.Sobel(img_scr,cv2.CV_64F,1,0,ksize=5)  # x\n",
    "#sobely = cv2.Sobel(img_scr,cv2.CV_64F,0,1,ksize=5)  # y\n",
    "\n",
    "ShowResizedIm(np.hstack((edges5,img_scr,cir1)),\"img\",1)\n",
    "\n",
    "    \n",
    "\n",
    "cv2.waitKey(0)\n",
    "cv2.destroyAllWindows()"
   ]
  },
  {
   "cell_type": "code",
   "execution_count": 86,
   "metadata": {},
   "outputs": [
    {
     "data": {
      "text/plain": [
       "True"
      ]
     },
     "execution_count": 86,
     "metadata": {},
     "output_type": "execute_result"
    }
   ],
   "source": [
    "cv2.imwrite(\"ggray.jpg\",ggray)"
   ]
  },
  {
   "cell_type": "code",
   "execution_count": 106,
   "metadata": {},
   "outputs": [
    {
     "name": "stdout",
     "output_type": "stream",
     "text": [
      "127\n",
      "53\n",
      "255\n",
      "0\n"
     ]
    }
   ],
   "source": [
    "ggraycrop = cv2.imread(\"crop_disc/cr1.jpg\",0)\n",
    "autocon = auto_contrast(ggraycrop)\n",
    "blood_e_img2 = vessel_erase(autocon )\n",
    "\n",
    "autocrop =  cv2.Canny(blood_e_img2, 0, 10)\n",
    "ShowResizedIm(np.hstack((autocon,blood_e_img2 ,autocrop)),\"img\",1)\n",
    "cv2.waitKey(0)\n",
    "cv2.destroyAllWindows()"
   ]
  }
 ],
 "metadata": {
  "kernelspec": {
   "display_name": "Python 3",
   "language": "python",
   "name": "python3"
  },
  "language_info": {
   "codemirror_mode": {
    "name": "ipython",
    "version": 3
   },
   "file_extension": ".py",
   "mimetype": "text/x-python",
   "name": "python",
   "nbconvert_exporter": "python",
   "pygments_lexer": "ipython3",
   "version": "3.7.3"
  }
 },
 "nbformat": 4,
 "nbformat_minor": 2
}
