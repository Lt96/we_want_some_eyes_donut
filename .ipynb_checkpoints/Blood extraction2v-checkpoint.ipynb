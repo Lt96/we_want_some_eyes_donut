{
 "cells": [
  {
   "cell_type": "code",
   "execution_count": 4,
   "metadata": {
    "colab": {},
    "colab_type": "code",
    "id": "cSUXKo8XjX8U"
   },
   "outputs": [],
   "source": [
    "import cv2\n",
    "import numpy as np\n",
    "import os\n",
    "import csv\n",
    "import matplotlib.pyplot as plt\n",
    "\n",
    "def extract_bv(img):\n",
    "    b,g,r = cv2.split(img)\n",
    "    clahe = cv2.createCLAHE(clipLimit=2.0, tileGridSize=(8,8))\n",
    "    contrast_enhanced_green_fundus = clahe.apply(g)\n",
    "\n",
    " # applying alternate sequential filtering (3 times closing opening)\n",
    "    r1 = cv2.morphologyEx(contrast_enhanced_green_fundus, cv2.MORPH_OPEN, cv2.getStructuringElement(cv2.MORPH_ELLIPSE,(5,5)), iterations = 1)\n",
    "    R1 = cv2.morphologyEx(r1, cv2.MORPH_CLOSE, cv2.getStructuringElement(cv2.MORPH_ELLIPSE,(5,5)), iterations = 1)\n",
    "    r2 = cv2.morphologyEx(R1, cv2.MORPH_OPEN, cv2.getStructuringElement(cv2.MORPH_ELLIPSE,(11,11)), iterations = 1)\n",
    "    R2 = cv2.morphologyEx(r2, cv2.MORPH_CLOSE, cv2.getStructuringElement(cv2.MORPH_ELLIPSE,(11,11)), iterations = 1)\n",
    "    r3 = cv2.morphologyEx(R2, cv2.MORPH_OPEN, cv2.getStructuringElement(cv2.MORPH_ELLIPSE,(23,23)), iterations = 1)\n",
    "    R3 = cv2.morphologyEx(r3, cv2.MORPH_CLOSE, cv2.getStructuringElement(cv2.MORPH_ELLIPSE,(23,23)), iterations = 1) \n",
    "    f4 = cv2.subtract(R3,contrast_enhanced_green_fundus)\n",
    "    f5 = clahe.apply(f4)\n",
    "\n",
    "    kernel = np.ones((3,3),np.uint8)\n",
    "    dilation = cv2.dilate(f5,kernel,iterations = 1)\n",
    "    blur = cv2.GaussianBlur(dilation,(3,3),0)\n",
    "    kernels = np.ones((5,5),np.uint8)\n",
    "    opening = cv2.morphologyEx(blur, cv2.MORPH_OPEN, kernel)\n",
    "    blur1 = cv2.GaussianBlur(opening,(5,5),0)\n",
    "    full = cv2.morphologyEx(blur1, cv2.MORPH_OPEN, kernel)\n",
    "    erosion_img = cv2.erode(full,kernel,iterations = 1)\n",
    "    dilation_img = cv2.dilate(erosion_img,kernel,iterations = 1)\n",
    "    erosion_img1 = cv2.erode(dilation_img,kernels,iterations = 1)\n",
    "    closing = cv2.morphologyEx(erosion_img1, cv2.MORPH_CLOSE, kernel)\n",
    "    ret,thresh2 = cv2.threshold(closing,25,255,cv2.THRESH_BINARY_INV)\n",
    "    final =255-thresh2\n",
    "    g=closing\n",
    "    maxg = np.max(g)\n",
    "    t = maxg/2\n",
    "    epst = 0.01\n",
    "    while 1:\n",
    "        ml = g[g<=t].mean()\n",
    "        mh = g[g>t].mean()\n",
    "        t_new = (ml+mh)/2\n",
    "        if abs(t-t_new)<epst:\n",
    "            break\n",
    "        t=t_new\n",
    "        #print(t)\n",
    "        thresh=int(t)\n",
    "    ret,hee=cv2.threshold(g,thresh,255,cv2.THRESH_BINARY)\n",
    "    kernel1 = np.ones((5,5),np.uint8)\n",
    "    kernel2 = np.ones((5,5),np.uint8)\n",
    "    opening = cv2.morphologyEx(hee, cv2.MORPH_OPEN, kernel2)\n",
    "    hee = cv2.morphologyEx(opening, cv2.MORPH_CLOSE, kernel1)\n",
    "    return hee\n",
    "def ShowResizedIm(img,windowname,scale):\n",
    "    \"\"\"\n",
    "    opencv imshow resized image on a new window\n",
    "    Parameters:\n",
    "        -img: image\n",
    "        -window: window name\n",
    "        -scale: size of the display image will be divided by this value(ex. scale=2 will make image 2 time smaller)\n",
    "    \"\"\"\n",
    "    cv2.namedWindow(windowname, cv2.WINDOW_NORMAL)        # Create window with freedom of dimensions\n",
    "    height, width = img.shape[:2]   #get image dimension\n",
    "    cv2.resizeWindow(windowname,int(width/scale) ,int(height/scale))                    # Resize image\n",
    "    cv2.imshow(windowname, img)                            # Show image\n"
   ]
  },
  {
   "cell_type": "code",
   "execution_count": 5,
   "metadata": {},
   "outputs": [],
   "source": [
    "import glob\n",
    "#=========USER START================\n",
    "#folder path\n",
    "path = 'RAW_FUNDUS_INPUT/*.jpg'\n",
    "save_path = 'bv namkao v2/'\n",
    "#=========USER END================"
   ]
  },
  {
   "cell_type": "code",
   "execution_count": null,
   "metadata": {
    "colab": {},
    "colab_type": "code",
    "id": "xC6rpeySjX8c"
   },
   "outputs": [],
   "source": [
    "image_list = []\n",
    "for filename in glob.glob(path):\n",
    "    image_list.append(filename)\n",
    "for i in image_list:\n",
    "    c = cv2.imread(i)\n",
    "    #=========PUT YOUR CODE HERE==========\n",
    "    \n",
    "    #=====================================\n",
    "    x = extract_bv(c)\n",
    "    #x = cv2.bitwise_not(x)\n",
    "    kernel = np.ones((5,5),np.uint8)\n",
    "    #x = cv2.erode(x,kernel,iterations = 1)\n",
    "    x = cv2.dilate(x,kernel,iterations = 1)\n",
    "    x = cv2.erode(x,kernel,iterations = 1)\n",
    "    kernel1 = np.ones((3,3),np.uint8)\n",
    "    kernel2 = np.ones((11,11),np.uint8)\n",
    "    #x = cv2.morphologyEx(x, cv2.MORPH_OPEN, kernel2)\n",
    "    x = cv2.dilate(x,kernel,iterations = 1)\n",
    "    x = cv2.erode(x,kernel,iterations = 3)\n",
    "    x = cv2.morphologyEx(x, cv2.MORPH_CLOSE, kernel2)\n",
    "    x = cv2.dilate(x,kernel,iterations = 1)\n",
    "\n",
    "    #ShowResizedIm(x,\"หี\",2)\n",
    "    #cv2.waitKey(0)\n",
    "    #cv2.destroyAllWindows()\n",
    "    #break\n",
    "    cv2.imwrite(save_path+ i.replace(path.replace(\"/*.jpg\",\"\")+\"\\\\\",\"\"),x)"
   ]
  },
  {
   "cell_type": "code",
   "execution_count": null,
   "metadata": {},
   "outputs": [],
   "source": []
  }
 ],
 "metadata": {
  "colab": {
   "name": "Blood extraction.ipynb",
   "provenance": []
  },
  "kernelspec": {
   "display_name": "Python 3",
   "language": "python",
   "name": "python3"
  },
  "language_info": {
   "codemirror_mode": {
    "name": "ipython",
    "version": 3
   },
   "file_extension": ".py",
   "mimetype": "text/x-python",
   "name": "python",
   "nbconvert_exporter": "python",
   "pygments_lexer": "ipython3",
   "version": "3.7.4"
  }
 },
 "nbformat": 4,
 "nbformat_minor": 1
}
