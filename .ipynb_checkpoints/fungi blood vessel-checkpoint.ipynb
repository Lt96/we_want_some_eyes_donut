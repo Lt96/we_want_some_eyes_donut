{
 "cells": [
  {
   "cell_type": "code",
   "execution_count": 1,
   "metadata": {},
   "outputs": [],
   "source": [
    "import numpy as np\n",
    "import cv2\n",
    "import glob\n",
    "import imutils\n",
    "from hessian import Hessian2D\n",
    "from frangiFilter2D import eig2image,FrangiFilter2D\n",
    "import progressbar"
   ]
  },
  {
   "cell_type": "code",
   "execution_count": 2,
   "metadata": {},
   "outputs": [],
   "source": [
    "def ShowResizedIm(img,windowname,scale):\n",
    "    cv2.namedWindow(windowname, cv2.WINDOW_NORMAL)        # Create window with freedom of dimensions\n",
    "    height, width = img.shape[:2]   #get image dimension\n",
    "    cv2.resizeWindow(windowname,int(width/scale) ,int(height/scale))                    # Resize image\n",
    "    cv2.imshow(windowname, img)                            # Show image"
   ]
  },
  {
   "cell_type": "code",
   "execution_count": 37,
   "metadata": {},
   "outputs": [],
   "source": [
    "#=========USER START================\n",
    "#folder path\n",
    "path = 'RAW_FUNDUS_INPUT/*.jpg'\n",
    "\n",
    "\n",
    "#=========USER END================"
   ]
  },
  {
   "cell_type": "code",
   "execution_count": 39,
   "metadata": {
    "scrolled": true
   },
   "outputs": [
    {
     "name": "stderr",
     "output_type": "stream",
     "text": [
      "100% (540 of 540) |######################| Elapsed Time: 0:07:25 Time:  0:07:25\n"
     ]
    },
    {
     "ename": "KeyboardInterrupt",
     "evalue": "",
     "output_type": "error",
     "traceback": [
      "\u001b[1;31m---------------------------------------------------------------------------\u001b[0m",
      "\u001b[1;31mKeyboardInterrupt\u001b[0m                         Traceback (most recent call last)",
      "\u001b[1;32m<ipython-input-39-ab5b7f7cc4eb>\u001b[0m in \u001b[0;36m<module>\u001b[1;34m\u001b[0m\n\u001b[0;32m     10\u001b[0m         \u001b[0mblood\u001b[0m \u001b[1;33m=\u001b[0m \u001b[0mcv2\u001b[0m\u001b[1;33m.\u001b[0m\u001b[0mnormalize\u001b[0m\u001b[1;33m(\u001b[0m\u001b[0mg\u001b[0m\u001b[1;33m.\u001b[0m\u001b[0mastype\u001b[0m\u001b[1;33m(\u001b[0m\u001b[1;34m'double'\u001b[0m\u001b[1;33m)\u001b[0m\u001b[1;33m,\u001b[0m \u001b[1;32mNone\u001b[0m\u001b[1;33m,\u001b[0m \u001b[1;36m0.0\u001b[0m\u001b[1;33m,\u001b[0m \u001b[1;36m1.0\u001b[0m\u001b[1;33m,\u001b[0m \u001b[0mcv2\u001b[0m\u001b[1;33m.\u001b[0m\u001b[0mNORM_MINMAX\u001b[0m\u001b[1;33m)\u001b[0m \u001b[1;31m# Convert to normalized floating point\u001b[0m\u001b[1;33m\u001b[0m\u001b[1;33m\u001b[0m\u001b[0m\n\u001b[0;32m     11\u001b[0m         outIm, whatScale, direction = FrangiFilter2D(blood,FrangiScaleRange=np.array([5, 10]), FrangiScaleRatio=2,\n\u001b[1;32m---> 12\u001b[1;33m                            FrangiBetaOne=0.5, FrangiBetaTwo=15, verbose=True, BlackWhite=True)\n\u001b[0m\u001b[0;32m     13\u001b[0m         \u001b[0m_\u001b[0m\u001b[1;33m,\u001b[0m\u001b[0mthresh\u001b[0m \u001b[1;33m=\u001b[0m \u001b[0mcv2\u001b[0m\u001b[1;33m.\u001b[0m\u001b[0mthreshold\u001b[0m\u001b[1;33m(\u001b[0m\u001b[0moutIm\u001b[0m\u001b[1;33m*\u001b[0m\u001b[1;36m10000000\u001b[0m\u001b[1;33m,\u001b[0m\u001b[1;36m0.1\u001b[0m\u001b[1;33m,\u001b[0m\u001b[1;36m255\u001b[0m\u001b[1;33m,\u001b[0m\u001b[1;36m0\u001b[0m\u001b[1;33m)\u001b[0m\u001b[1;33m\u001b[0m\u001b[1;33m\u001b[0m\u001b[0m\n\u001b[0;32m     14\u001b[0m         \u001b[0mthresh\u001b[0m \u001b[1;33m=\u001b[0m \u001b[0mcv2\u001b[0m\u001b[1;33m.\u001b[0m\u001b[0mconvertScaleAbs\u001b[0m\u001b[1;33m(\u001b[0m\u001b[0mthresh\u001b[0m\u001b[1;33m)\u001b[0m\u001b[1;33m\u001b[0m\u001b[1;33m\u001b[0m\u001b[0m\n",
      "\u001b[1;32m~\\Sunny storage\\work\\glaucoma\\program\\we_want_some_eyes_donut\\frangiFilter2D.py\u001b[0m in \u001b[0;36mFrangiFilter2D\u001b[1;34m(I, FrangiScaleRange, FrangiScaleRatio, FrangiBetaOne, FrangiBetaTwo, verbose, BlackWhite)\u001b[0m\n\u001b[0;32m     87\u001b[0m \u001b[1;33m\u001b[0m\u001b[0m\n\u001b[0;32m     88\u001b[0m         \u001b[1;31m# Make 2D hessian\u001b[0m\u001b[1;33m\u001b[0m\u001b[1;33m\u001b[0m\u001b[1;33m\u001b[0m\u001b[0m\n\u001b[1;32m---> 89\u001b[1;33m         \u001b[0mDxx\u001b[0m\u001b[1;33m,\u001b[0m \u001b[0mDxy\u001b[0m\u001b[1;33m,\u001b[0m \u001b[0mDyy\u001b[0m \u001b[1;33m=\u001b[0m \u001b[0mHessian2D\u001b[0m\u001b[1;33m(\u001b[0m\u001b[0mI\u001b[0m\u001b[1;33m,\u001b[0m \u001b[0msigmas\u001b[0m\u001b[1;33m[\u001b[0m\u001b[0mi\u001b[0m\u001b[1;33m]\u001b[0m\u001b[1;33m)\u001b[0m\u001b[1;33m\u001b[0m\u001b[1;33m\u001b[0m\u001b[0m\n\u001b[0m\u001b[0;32m     90\u001b[0m \u001b[1;33m\u001b[0m\u001b[0m\n\u001b[0;32m     91\u001b[0m         \u001b[1;31m# Correct for scale\u001b[0m\u001b[1;33m\u001b[0m\u001b[1;33m\u001b[0m\u001b[1;33m\u001b[0m\u001b[0m\n",
      "\u001b[1;32m~\\Sunny storage\\work\\glaucoma\\program\\we_want_some_eyes_donut\\hessian.py\u001b[0m in \u001b[0;36mHessian2D\u001b[1;34m(I, Sigma)\u001b[0m\n\u001b[0;32m     24\u001b[0m \u001b[1;33m\u001b[0m\u001b[0m\n\u001b[0;32m     25\u001b[0m     \u001b[0mDxx\u001b[0m \u001b[1;33m=\u001b[0m \u001b[0mconvolve\u001b[0m\u001b[1;33m(\u001b[0m\u001b[0mI\u001b[0m\u001b[1;33m,\u001b[0m \u001b[0mDGaussxx\u001b[0m\u001b[1;33m,\u001b[0m \u001b[0mmode\u001b[0m\u001b[1;33m=\u001b[0m\u001b[1;34m'constant'\u001b[0m\u001b[1;33m,\u001b[0m \u001b[0mcval\u001b[0m\u001b[1;33m=\u001b[0m\u001b[1;36m0.0\u001b[0m\u001b[1;33m)\u001b[0m\u001b[1;33m\u001b[0m\u001b[1;33m\u001b[0m\u001b[0m\n\u001b[1;32m---> 26\u001b[1;33m     \u001b[0mDxy\u001b[0m \u001b[1;33m=\u001b[0m \u001b[0mconvolve\u001b[0m\u001b[1;33m(\u001b[0m\u001b[0mI\u001b[0m\u001b[1;33m,\u001b[0m \u001b[0mDGaussxy\u001b[0m\u001b[1;33m,\u001b[0m \u001b[0mmode\u001b[0m\u001b[1;33m=\u001b[0m\u001b[1;34m'constant'\u001b[0m\u001b[1;33m,\u001b[0m \u001b[0mcval\u001b[0m\u001b[1;33m=\u001b[0m\u001b[1;36m0.0\u001b[0m\u001b[1;33m)\u001b[0m\u001b[1;33m\u001b[0m\u001b[1;33m\u001b[0m\u001b[0m\n\u001b[0m\u001b[0;32m     27\u001b[0m     \u001b[0mDyy\u001b[0m \u001b[1;33m=\u001b[0m \u001b[0mconvolve\u001b[0m\u001b[1;33m(\u001b[0m\u001b[0mI\u001b[0m\u001b[1;33m,\u001b[0m \u001b[0mDGaussyy\u001b[0m\u001b[1;33m,\u001b[0m \u001b[0mmode\u001b[0m\u001b[1;33m=\u001b[0m\u001b[1;34m'constant'\u001b[0m\u001b[1;33m,\u001b[0m \u001b[0mcval\u001b[0m\u001b[1;33m=\u001b[0m\u001b[1;36m0.0\u001b[0m\u001b[1;33m)\u001b[0m\u001b[1;33m\u001b[0m\u001b[1;33m\u001b[0m\u001b[0m\n\u001b[0;32m     28\u001b[0m \u001b[1;33m\u001b[0m\u001b[0m\n",
      "\u001b[1;32m~\\Anaconda3\\envs\\opencv_image_processing\\lib\\site-packages\\scipy\\ndimage\\filters.py\u001b[0m in \u001b[0;36mconvolve\u001b[1;34m(input, weights, output, mode, cval, origin)\u001b[0m\n\u001b[0;32m    753\u001b[0m     \"\"\"\n\u001b[0;32m    754\u001b[0m     return _correlate_or_convolve(input, weights, output, mode, cval,\n\u001b[1;32m--> 755\u001b[1;33m                                   origin, True)\n\u001b[0m\u001b[0;32m    756\u001b[0m \u001b[1;33m\u001b[0m\u001b[0m\n\u001b[0;32m    757\u001b[0m \u001b[1;33m\u001b[0m\u001b[0m\n",
      "\u001b[1;32m~\\Anaconda3\\envs\\opencv_image_processing\\lib\\site-packages\\scipy\\ndimage\\filters.py\u001b[0m in \u001b[0;36m_correlate_or_convolve\u001b[1;34m(input, weights, output, mode, cval, origin, convolution)\u001b[0m\n\u001b[0;32m    620\u001b[0m     \u001b[0moutput\u001b[0m \u001b[1;33m=\u001b[0m \u001b[0m_ni_support\u001b[0m\u001b[1;33m.\u001b[0m\u001b[0m_get_output\u001b[0m\u001b[1;33m(\u001b[0m\u001b[0moutput\u001b[0m\u001b[1;33m,\u001b[0m \u001b[0minput\u001b[0m\u001b[1;33m)\u001b[0m\u001b[1;33m\u001b[0m\u001b[1;33m\u001b[0m\u001b[0m\n\u001b[0;32m    621\u001b[0m     \u001b[0mmode\u001b[0m \u001b[1;33m=\u001b[0m \u001b[0m_ni_support\u001b[0m\u001b[1;33m.\u001b[0m\u001b[0m_extend_mode_to_code\u001b[0m\u001b[1;33m(\u001b[0m\u001b[0mmode\u001b[0m\u001b[1;33m)\u001b[0m\u001b[1;33m\u001b[0m\u001b[1;33m\u001b[0m\u001b[0m\n\u001b[1;32m--> 622\u001b[1;33m     \u001b[0m_nd_image\u001b[0m\u001b[1;33m.\u001b[0m\u001b[0mcorrelate\u001b[0m\u001b[1;33m(\u001b[0m\u001b[0minput\u001b[0m\u001b[1;33m,\u001b[0m \u001b[0mweights\u001b[0m\u001b[1;33m,\u001b[0m \u001b[0moutput\u001b[0m\u001b[1;33m,\u001b[0m \u001b[0mmode\u001b[0m\u001b[1;33m,\u001b[0m \u001b[0mcval\u001b[0m\u001b[1;33m,\u001b[0m \u001b[0morigins\u001b[0m\u001b[1;33m)\u001b[0m\u001b[1;33m\u001b[0m\u001b[1;33m\u001b[0m\u001b[0m\n\u001b[0m\u001b[0;32m    623\u001b[0m     \u001b[1;32mreturn\u001b[0m \u001b[0moutput\u001b[0m\u001b[1;33m\u001b[0m\u001b[1;33m\u001b[0m\u001b[0m\n\u001b[0;32m    624\u001b[0m \u001b[1;33m\u001b[0m\u001b[0m\n",
      "\u001b[1;31mKeyboardInterrupt\u001b[0m: "
     ]
    }
   ],
   "source": [
    "image_list = []\n",
    "for filename in glob.glob(path):\n",
    "    image_list.append(filename)\n",
    "with progressbar.ProgressBar(max_value=len(image_list)) as bar:\n",
    "    progress = 0\n",
    "    bar.update(progress)\n",
    "    for i,a in enumerate(image_list):\n",
    "        img = cv2.imread(a)\n",
    "        b,g,r = cv2.split(img)\n",
    "        blood = cv2.normalize(g.astype('double'), None, 0.0, 1.0, cv2.NORM_MINMAX) # Convert to normalized floating point\n",
    "        outIm, whatScale, direction = FrangiFilter2D(blood,FrangiScaleRange=np.array([5, 10]), FrangiScaleRatio=2,\n",
    "                           FrangiBetaOne=0.5, FrangiBetaTwo=15, verbose=True, BlackWhite=True)\n",
    "        _,thresh = cv2.threshold(outIm*10000000,0.1,255,0)\n",
    "        thresh = cv2.convertScaleAbs(thresh)\n",
    "        kernel1 = np.ones((11,11),np.uint8)\n",
    "        kernel2 = np.ones((5,5),np.uint8)\n",
    "        opening = cv2.morphologyEx(thresh, cv2.MORPH_OPEN, kernel2)\n",
    "        closing = cv2.morphologyEx(opening, cv2.MORPH_CLOSE, kernel1)\n",
    "        ROImask =  getMaskROI(r)\n",
    "        closing = cv2.bitwise_and(closing,closing, mask=ROImask)\n",
    "        cv2.imwrite(\"bv image/\"+ a.replace(path.replace(\"/*.jpg\",\"\")+\"\\\\\",\"\"),closing)\n",
    "        progress = progress+1\n",
    "        bar.update(progress)\n",
    "        "
   ]
  },
  {
   "cell_type": "code",
   "execution_count": 82,
   "metadata": {},
   "outputs": [],
   "source": [
    "image_list = []\n",
    "for filename in glob.glob(path):\n",
    "    image_list.append(filename)"
   ]
  },
  {
   "cell_type": "code",
   "execution_count": 7,
   "metadata": {},
   "outputs": [
    {
     "ename": "IndexError",
     "evalue": "list index out of range",
     "output_type": "error",
     "traceback": [
      "\u001b[1;31m---------------------------------------------------------------------------\u001b[0m",
      "\u001b[1;31mIndexError\u001b[0m                                Traceback (most recent call last)",
      "\u001b[1;32m<ipython-input-7-0e7a598bffe9>\u001b[0m in \u001b[0;36m<module>\u001b[1;34m\u001b[0m\n\u001b[1;32m----> 1\u001b[1;33m \u001b[0mimg\u001b[0m \u001b[1;33m=\u001b[0m \u001b[0mcv2\u001b[0m\u001b[1;33m.\u001b[0m\u001b[0mimread\u001b[0m\u001b[1;33m(\u001b[0m\u001b[0mimage_list\u001b[0m\u001b[1;33m[\u001b[0m\u001b[1;36m0\u001b[0m\u001b[1;33m]\u001b[0m\u001b[1;33m)\u001b[0m\u001b[1;33m\u001b[0m\u001b[1;33m\u001b[0m\u001b[0m\n\u001b[0m\u001b[0;32m      2\u001b[0m \u001b[0mShowResizedIm\u001b[0m\u001b[1;33m(\u001b[0m\u001b[0mnp\u001b[0m\u001b[1;33m.\u001b[0m\u001b[0mhstack\u001b[0m\u001b[1;33m(\u001b[0m\u001b[1;33m[\u001b[0m\u001b[0mimg\u001b[0m\u001b[1;33m,\u001b[0m\u001b[1;33m]\u001b[0m\u001b[1;33m)\u001b[0m\u001b[1;33m,\u001b[0m\u001b[1;34m\"mark\"\u001b[0m\u001b[1;33m,\u001b[0m\u001b[1;36m2\u001b[0m\u001b[1;33m)\u001b[0m\u001b[1;33m\u001b[0m\u001b[1;33m\u001b[0m\u001b[0m\n\u001b[0;32m      3\u001b[0m \u001b[0mcv2\u001b[0m\u001b[1;33m.\u001b[0m\u001b[0mwaitKey\u001b[0m\u001b[1;33m(\u001b[0m\u001b[1;36m0\u001b[0m\u001b[1;33m)\u001b[0m\u001b[1;33m\u001b[0m\u001b[1;33m\u001b[0m\u001b[0m\n\u001b[0;32m      4\u001b[0m \u001b[0mcv2\u001b[0m\u001b[1;33m.\u001b[0m\u001b[0mdestroyAllWindows\u001b[0m\u001b[1;33m(\u001b[0m\u001b[1;33m)\u001b[0m\u001b[1;33m\u001b[0m\u001b[1;33m\u001b[0m\u001b[0m\n",
      "\u001b[1;31mIndexError\u001b[0m: list index out of range"
     ]
    }
   ],
   "source": [
    "img = cv2.imread(image_list[0])\n",
    "ShowResizedIm(np.hstack([img,]),\"mark\",2)\n",
    "cv2.waitKey(0)\n",
    "cv2.destroyAllWindows()"
   ]
  },
  {
   "cell_type": "code",
   "execution_count": 6,
   "metadata": {},
   "outputs": [],
   "source": [
    "b,g,r = cv2.split(img)\n",
    "blood = cv2.normalize(g.astype('double'), None, 0.0, 1.0, cv2.NORM_MINMAX) # Convert to normalized floating point\n",
    "outIm, whatScale, direction = FrangiFilter2D(blood,FrangiScaleRange=np.array([5, 10]), FrangiScaleRatio=2,\n",
    "                   FrangiBetaOne=0.5, FrangiBetaTwo=15, verbose=True, BlackWhite=True)\n",
    "ShowResizedIm(np.hstack([outIm,]),\"out\",2)\n",
    "cv2.waitKey(0)\n",
    "cv2.destroyAllWindows()"
   ]
  },
  {
   "cell_type": "code",
   "execution_count": 61,
   "metadata": {},
   "outputs": [],
   "source": [
    "test = outIm.copy()*10000000\n",
    "_,thresh = cv2.threshold(test,0.1,255,0)\n",
    "threah = cv2.convertScaleAbs(thresh)\n",
    "kernel1 = np.ones((11,11),np.uint8)\n",
    "kernel2 = np.ones((5,5),np.uint8)\n",
    "opening = cv2.morphologyEx(thresh, cv2.MORPH_OPEN, kernel2)\n",
    "closing = cv2.morphologyEx(opening, cv2.MORPH_CLOSE, kernel1)\n",
    "ShowResizedIm(np.hstack([thresh,opening,closing]),\"out\",3)\n",
    "cv2.waitKey(0)\n",
    "cv2.destroyAllWindows()\n"
   ]
  },
  {
   "cell_type": "code",
   "execution_count": 63,
   "metadata": {},
   "outputs": [
    {
     "data": {
      "text/plain": [
       "True"
      ]
     },
     "execution_count": 63,
     "metadata": {},
     "output_type": "execute_result"
    }
   ],
   "source": [
    "cv2.imwrite(\"bv image/\"+ image_list[0].replace(path.replace(\"/*.jpg\",\"\")+\"\\\\\",\"\"),closing)"
   ]
  },
  {
   "cell_type": "code",
   "execution_count": 26,
   "metadata": {},
   "outputs": [],
   "source": [
    "mask = np.ones((thresh.shape[:2]), dtype=np.uint8)*255\n",
    "__,contours, hierarchy = cv2.findContours(cv2.convertScaleAbs(thresh), cv2.RETR_LIST, cv2.CHAIN_APPROX_SIMPLE)\n",
    "if len(contours) != 0:\n",
    "    c = max(contours, key = cv2.contourArea)\n",
    "    cv2.drawContours(mask, [c], -1, 0,  -1)\n",
    "    thresh = cv2.bitwise_and(thresh, thresh, mask=mask)\n",
    "ShowResizedIm(np.hstack([thresh,mask]),\"out\",3)\n",
    "cv2.waitKey(0)\n",
    "cv2.destroyAllWindows()"
   ]
  },
  {
   "cell_type": "code",
   "execution_count": 79,
   "metadata": {
    "scrolled": true
   },
   "outputs": [
    {
     "name": "stdout",
     "output_type": "stream",
     "text": [
      "hey\n",
      "hey\n",
      "hey\n",
      "hey\n",
      "hey\n"
     ]
    }
   ],
   "source": [
    "__,cut_edge_mask = cv2.threshold(r,10,255,0)\n",
    "cut_edge_mask = cv2.Canny(cut_edge_mask,100,200)\n",
    "circles = cv2.HoughCircles(cut_edge_mask,cv2.HOUGH_GRADIENT,1,1000,\n",
    "                            param1=2,param2=4,minRadius=800,maxRadius=1000)\n",
    "r2 = r.copy()\n",
    "if circles is not None:\n",
    "    circles = np.uint16(np.around(circles))\n",
    "    for i in circles[0,:]:\n",
    "        print(\"hey\")\n",
    "        # draw the outer circle\n",
    "        cv2.circle(g2,(i[0],i[1]),i[2],(255,255,255),2)\n",
    "        # draw the center of the circle\n",
    "        cv2.circle(g2,(i[0],i[1]),2,(255,255,255),3)\n",
    "\n",
    "thresh = cv2.bitwise_and(thresh,thresh, mask=cut_edge_mask)\n",
    "ShowResizedIm(np.hstack([r2,]),\"out\",3)\n",
    "cv2.waitKey(0)\n",
    "cv2.destroyAllWindows()"
   ]
  },
  {
   "cell_type": "code",
   "execution_count": 67,
   "metadata": {},
   "outputs": [],
   "source": [
    "ShowResizedIm(np.hstack([cut_edge_mask,]),\"out\",3)\n",
    "cv2.waitKey(0)\n",
    "cv2.destroyAllWindows()"
   ]
  },
  {
   "cell_type": "code",
   "execution_count": 12,
   "metadata": {},
   "outputs": [],
   "source": [
    "#=========USER START================\n",
    "#folder path\n",
    "path2 = 'error  image/*.jpg'\n",
    "\n",
    "\n",
    "#=========USER END================"
   ]
  },
  {
   "cell_type": "code",
   "execution_count": 13,
   "metadata": {},
   "outputs": [],
   "source": [
    "image_list = []\n",
    "for filename in glob.glob(path2):\n",
    "    image_list.append(filename)"
   ]
  },
  {
   "cell_type": "code",
   "execution_count": 25,
   "metadata": {
    "scrolled": true
   },
   "outputs": [
    {
     "name": "stderr",
     "output_type": "stream",
     "text": [
      "100% (10 of 10) |########################| Elapsed Time: 0:00:05 Time:  0:00:05\n"
     ]
    }
   ],
   "source": [
    "with progressbar.ProgressBar(max_value=len(image_list)) as bar:\n",
    "    progress = 0\n",
    "    bar.update(progress)\n",
    "    for i,a in enumerate(image_list):\n",
    "        img = cv2.imread(a)\n",
    "        b,g,r = cv2.split(img)\n",
    "        __,cut_edge_mask = cv2.threshold(r,10,255,0)\n",
    "        cut_edge_mask = cv2.Canny(cut_edge_mask,100,200)\n",
    "        circles = cv2.HoughCircles(cut_edge_mask,cv2.HOUGH_GRADIENT,1,10000,\n",
    "                                    param1=2,param2=4,minRadius=800,maxRadius=1000)\n",
    "        if circles is not None:\n",
    "            if len(circles) == 1:\n",
    "                mask = np.zeros((r.shape[:2]), dtype=np.uint8)\n",
    "                circles = np.uint16(np.around(circles))\n",
    "                # draw the outer circle\n",
    "                cv2.circle(mask,(circles[0][0][0],circles[0][0][1]),circles[0][0][2]-20,255,-1)\n",
    "                # draw the center of the circle\n",
    "                #cv2.circle(r2,(circles[0][0][0],circles[0][0][1]),2,(255,255,255),3)\n",
    "        cv2.imwrite(\"cut edge image/\"+ a.replace(path2.replace(\"/*.jpg\",\"\")+\"\\\\\",\"\"),mask)\n",
    "        progress = progress+1\n",
    "        bar.update(progress)"
   ]
  },
  {
   "cell_type": "code",
   "execution_count": 36,
   "metadata": {},
   "outputs": [],
   "source": [
    "def getMaskROI(r,minR=800,maxR=1000):\n",
    "    __,cut_edge_mask = cv2.threshold(r,10,255,0)\n",
    "    cut_edge_mask = cv2.Canny(cut_edge_mask,100,200)\n",
    "    circles = cv2.HoughCircles(cut_edge_mask,cv2.HOUGH_GRADIENT,1,10000,\n",
    "                                param1=2,param2=4,minRadius=minR,maxRadius=maxR)\n",
    "    if circles is not None:\n",
    "        if len(circles) == 1:\n",
    "            mask = np.zeros((r.shape[:2]), dtype=np.uint8)\n",
    "            circles = np.uint16(np.around(circles))\n",
    "            # draw the outer circle\n",
    "            cv2.circle(mask,(circles[0][0][0],circles[0][0][1]),circles[0][0][2]-20,255,-1)\n",
    "            return mask\n",
    "        else:\n",
    "            print(\"error more than one ROI\")\n",
    "            return None\n",
    "    else:\n",
    "        print(\"error detecting ROI\")\n",
    "        return None"
   ]
  }
 ],
 "metadata": {
  "kernelspec": {
   "display_name": "Python 3",
   "language": "python",
   "name": "python3"
  },
  "language_info": {
   "codemirror_mode": {
    "name": "ipython",
    "version": 3
   },
   "file_extension": ".py",
   "mimetype": "text/x-python",
   "name": "python",
   "nbconvert_exporter": "python",
   "pygments_lexer": "ipython3",
   "version": "3.7.4"
  }
 },
 "nbformat": 4,
 "nbformat_minor": 2
}
