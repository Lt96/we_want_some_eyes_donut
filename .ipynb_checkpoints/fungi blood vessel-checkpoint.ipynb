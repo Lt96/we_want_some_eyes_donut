{
 "cells": [
  {
   "cell_type": "code",
   "execution_count": 1,
   "metadata": {},
   "outputs": [],
   "source": [
    "import numpy as np\n",
    "import cv2\n",
    "import glob\n",
    "import imutils\n",
    "from hessian import Hessian2D\n",
    "from frangiFilter2D import eig2image,FrangiFilter2D\n",
    "import progressbar"
   ]
  },
  {
   "cell_type": "code",
   "execution_count": 2,
   "metadata": {},
   "outputs": [],
   "source": [
    "def ShowResizedIm(img,windowname,scale):\n",
    "    \"\"\"\n",
    "    opencv imshow resized image on a new window\n",
    "    Parameters:\n",
    "        -img: image\n",
    "        -window: window name\n",
    "        -scale: size of the display image will be divided by this value(ex. scale=2 will make image 2 time smaller)\n",
    "    \"\"\"\n",
    "    cv2.namedWindow(windowname, cv2.WINDOW_NORMAL)        # Create window with freedom of dimensions\n",
    "    height, width = img.shape[:2]   #get image dimension\n",
    "    cv2.resizeWindow(windowname,int(width/scale) ,int(height/scale))                    # Resize image\n",
    "    cv2.imshow(windowname, img)                            # Show image"
   ]
  },
  {
   "cell_type": "code",
   "execution_count": 3,
   "metadata": {},
   "outputs": [],
   "source": [
    "def getMaskROI(r,minR=800,maxR=1000):\n",
    "    \"\"\"\n",
    "    get ROI mask with thresholding and hough circle\n",
    "    Parameters:\n",
    "        -r: red chennel image\n",
    "        -minR: min radius of hough circle\n",
    "        -maxR: max radius of hough circle\n",
    "    Returns:\n",
    "        -mark: binary circular mask\n",
    "    \"\"\"\n",
    "    __,cut_edge_mask = cv2.threshold(r,10,255,0)\n",
    "    cut_edge_mask = cv2.Canny(cut_edge_mask,100,200)\n",
    "    circles = cv2.HoughCircles(cut_edge_mask,cv2.HOUGH_GRADIENT,1,10000,\n",
    "                                param1=2,param2=4,minRadius=minR,maxRadius=maxR)\n",
    "    if circles is not None:\n",
    "        if len(circles) == 1:\n",
    "            mask = np.zeros((r.shape[:2]), dtype=np.uint8)\n",
    "            circles = np.uint16(np.around(circles))\n",
    "            # draw the outer circle\n",
    "            cv2.circle(mask,(circles[0][0][0],circles[0][0][1]),circles[0][0][2]-20,255,-1)\n",
    "            return mask\n",
    "        else:\n",
    "            print(\"error more than one ROI\")\n",
    "            return None\n",
    "    else:\n",
    "        print(\"error detecting ROI\")\n",
    "        return None"
   ]
  },
  {
   "cell_type": "code",
   "execution_count": 4,
   "metadata": {},
   "outputs": [],
   "source": [
    "#=========USER START================\n",
    "#folder path\n",
    "path = 'RAW_FUNDUS_INPUT/*.jpg'\n",
    "save_path = 'bv image/'\n",
    "\n",
    "#=========USER END================"
   ]
  },
  {
   "cell_type": "code",
   "execution_count": null,
   "metadata": {
    "scrolled": true
   },
   "outputs": [
    {
     "name": "stderr",
     "output_type": "stream",
     "text": [
      " 23% (126 of 540) |#####                 | Elapsed Time: 2:55:41 ETA:   9:35:03"
     ]
    }
   ],
   "source": [
    "image_list = []\n",
    "for filename in glob.glob(path):\n",
    "    image_list.append(filename)\n",
    "#show progress bar\n",
    "with progressbar.ProgressBar(max_value=len(image_list)) as bar:\n",
    "    progress = 0\n",
    "    bar.update(progress)\n",
    "    #run along image_list\n",
    "    for i,a in enumerate(image_list):\n",
    "        #read image\n",
    "        img = cv2.imread(a)\n",
    "        #split color channel\n",
    "        b,g,r = cv2.split(img)\n",
    "        # Convert to normalized floating point\n",
    "        blood = cv2.normalize(g.astype('double'), None, 0.0, 1.0, cv2.NORM_MINMAX)\n",
    "        #apply fungi filter\n",
    "        outIm, whatScale, direction = FrangiFilter2D(blood,FrangiScaleRange=np.array([5, 10]), FrangiScaleRatio=2,\n",
    "                           FrangiBetaOne=0.5, FrangiBetaTwo=15, verbose=True, BlackWhite=True)\n",
    "        #threshold output\n",
    "        _,thresh = cv2.threshold(outIm*10000000,0.1,255,0)\n",
    "        thresh = cv2.convertScaleAbs(thresh)\n",
    "        #morphology\n",
    "        kernel1 = np.ones((11,11),np.uint8)\n",
    "        kernel2 = np.ones((5,5),np.uint8)\n",
    "        opening = cv2.morphologyEx(thresh, cv2.MORPH_OPEN, kernel2)\n",
    "        closing = cv2.morphologyEx(opening, cv2.MORPH_CLOSE, kernel1)\n",
    "        #create ROI mask to remove circular edge\n",
    "        ROImask =  getMaskROI(r)\n",
    "        closing = cv2.bitwise_and(closing,closing, mask=ROImask)\n",
    "        #write image\n",
    "        cv2.imwrite(save_path+ a.replace(path.replace(\"/*.jpg\",\"\")+\"\\\\\",\"\"),closing)\n",
    "        progress = progress+1\n",
    "        bar.update(progress)\n",
    "        "
   ]
  }
 ],
 "metadata": {
  "kernelspec": {
   "display_name": "Python 3",
   "language": "python",
   "name": "python3"
  },
  "language_info": {
   "codemirror_mode": {
    "name": "ipython",
    "version": 3
   },
   "file_extension": ".py",
   "mimetype": "text/x-python",
   "name": "python",
   "nbconvert_exporter": "python",
   "pygments_lexer": "ipython3",
   "version": "3.7.4"
  }
 },
 "nbformat": 4,
 "nbformat_minor": 2
}
