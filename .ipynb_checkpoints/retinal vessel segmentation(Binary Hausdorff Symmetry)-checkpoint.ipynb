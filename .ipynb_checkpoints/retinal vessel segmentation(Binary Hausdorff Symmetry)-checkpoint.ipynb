{
 "cells": [
  {
   "cell_type": "code",
   "execution_count": 8,
   "metadata": {},
   "outputs": [],
   "source": [
    "import cv2\n",
    "import numpy as np\n",
    "import matplotlib.pyplot as plt\n",
    "import imutils\n",
    "import glob\n",
    "import math\n",
    "import progressbar\n",
    "from scipy.spatial.distance import directed_hausdorff"
   ]
  },
  {
   "cell_type": "code",
   "execution_count": 2,
   "metadata": {},
   "outputs": [],
   "source": [
    "def ShowResizedIm(img,windowname,scale):\n",
    "    cv2.namedWindow(windowname, cv2.WINDOW_NORMAL)        # Create window with freedom of dimensions\n",
    "    height, width = img.shape[:2]   #get image dimension\n",
    "    cv2.resizeWindow(windowname,int(width/scale) ,int(height/scale))                    # Resize image\n",
    "    cv2.imshow(windowname, img)                            # Show image"
   ]
  },
  {
   "cell_type": "code",
   "execution_count": 3,
   "metadata": {},
   "outputs": [],
   "source": [
    "#=========USER START================\n",
    "#folder path\n",
    "path = 'source2/*.jpg' \n",
    "\n",
    "\n",
    "#=========USER END================"
   ]
  },
  {
   "cell_type": "code",
   "execution_count": 4,
   "metadata": {},
   "outputs": [],
   "source": [
    "image_list = []\n",
    "for filename in glob.glob(path):\n",
    "    image_list.append(filename)\n",
    "\n",
    "name_list = []"
   ]
  },
  {
   "cell_type": "code",
   "execution_count": 5,
   "metadata": {},
   "outputs": [],
   "source": [
    "img = cv2.imread(image_list[4])\n",
    "ShowResizedIm(np.hstack([img,]),\"mark\",2)\n",
    "cv2.waitKey(0)\n",
    "cv2.destroyAllWindows()"
   ]
  },
  {
   "cell_type": "code",
   "execution_count": 6,
   "metadata": {},
   "outputs": [],
   "source": [
    "#color image\n",
    "b,g,r = cv2.split(img)\n",
    "\n",
    "ShowResizedIm(np.hstack((b,g,r)),\"img1\",3)\n",
    "\n",
    "\n",
    "cv2.waitKey(0)\n",
    "cv2.destroyAllWindows()"
   ]
  },
  {
   "cell_type": "code",
   "execution_count": 11,
   "metadata": {},
   "outputs": [],
   "source": [
    "#highboost filtering\n",
    "#https://theailearner.com/2019/05/14/unsharp-masking-and-highboost-filtering/\n",
    "\n",
    "# Blur the image\n",
    "kernel = np.ones((21,21),np.float32)/441\n",
    "dst = cv2.filter2D(g,-1,kernel)\n",
    "# Apply Unsharp masking\n",
    "k = 5\n",
    "unsharp_image = cv2.addWeighted(g, k+1, dst, -k, 0)\n",
    "\n",
    "\n",
    "ShowResizedIm(np.hstack((g,unsharp_image)),\"img1\",3)\n",
    "cv2.waitKey(0)\n",
    "cv2.destroyAllWindows()"
   ]
  },
  {
   "cell_type": "code",
   "execution_count": 15,
   "metadata": {},
   "outputs": [],
   "source": [
    "imgcopy = unsharp_image.copy()\n",
    "\n",
    "height, width = imgcopy.shape[:2]   #get image dimension\n",
    "scaler = 1\n",
    "imgcopy = cv2.resize(imgcopy,(int(width*scaler),int(height*scaler)))\n",
    "\n",
    "#canny edge\n",
    "imgcopy = cv2.GaussianBlur(imgcopy,(15,15),0)\n",
    "\n",
    "edges = cv2.Canny(imgcopy,80,100)\n",
    "edges = cv2.Canny(imgcopy,80,100)\n",
    "\n",
    "cv2.imwrite(\"img.jpg\",edges)\n",
    "ShowResizedIm(np.hstack((imgcopy,edges)),\"img1\",2)\n",
    "cv2.waitKey(0)\n",
    "cv2.destroyAllWindows()"
   ]
  },
  {
   "cell_type": "code",
   "execution_count": 5,
   "metadata": {},
   "outputs": [],
   "source": [
    "canvas = np.zeros((100,100), dtype=np.uint8)\n",
    "canv_H,canv_W = canvas.shape[:2]\n",
    "cv2.line(canvas,(0,0),(100,100),(255,255,255),2)\n",
    "cv2.line(canvas,(0,15),(85,100),(255,255,255),2)\n",
    "cv2.line(canvas,(50,0),(50,100),(255,255,255),2)\n",
    "window_size = 19\n",
    "half_window_size = int(window_size/2)\n",
    "alpha = 5\n",
    "M = int(360/alpha) #72"
   ]
  },
  {
   "cell_type": "code",
   "execution_count": 9,
   "metadata": {
    "scrolled": true
   },
   "outputs": [
    {
     "name": "stderr",
     "output_type": "stream",
     "text": [
      "100% (82 of 82) |########################| Elapsed Time: 0:00:00 ETA:  00:00:00\n"
     ]
    },
    {
     "ename": "IndexError",
     "evalue": "tuple index out of range",
     "output_type": "error",
     "traceback": [
      "\u001b[1;31m---------------------------------------------------------------------------\u001b[0m",
      "\u001b[1;31mIndexError\u001b[0m                                Traceback (most recent call last)",
      "\u001b[1;32m<ipython-input-9-541d4f78a977>\u001b[0m in \u001b[0;36m<module>\u001b[1;34m\u001b[0m\n\u001b[0;32m     46\u001b[0m                 \u001b[1;32mfor\u001b[0m \u001b[0mj\u001b[0m \u001b[1;32min\u001b[0m \u001b[0mrange\u001b[0m\u001b[1;33m(\u001b[0m\u001b[1;36m1\u001b[0m\u001b[1;33m,\u001b[0m\u001b[0mint\u001b[0m\u001b[1;33m(\u001b[0m\u001b[0mM\u001b[0m\u001b[1;33m/\u001b[0m\u001b[1;36m2\u001b[0m\u001b[1;33m)\u001b[0m\u001b[1;33m+\u001b[0m\u001b[1;36m2\u001b[0m\u001b[1;33m)\u001b[0m\u001b[1;33m:\u001b[0m\u001b[1;33m\u001b[0m\u001b[1;33m\u001b[0m\u001b[0m\n\u001b[0;32m     47\u001b[0m                     \u001b[1;32mif\u001b[0m \u001b[1;32mnot\u001b[0m \u001b[0mbool\u001b[0m\u001b[1;33m(\u001b[0m\u001b[0mSk\u001b[0m\u001b[1;33m[\u001b[0m\u001b[0mj\u001b[0m\u001b[1;33m]\u001b[0m\u001b[1;33m)\u001b[0m \u001b[1;32mand\u001b[0m \u001b[1;32mnot\u001b[0m \u001b[0mbool\u001b[0m\u001b[1;33m(\u001b[0m\u001b[0mSk\u001b[0m\u001b[1;33m[\u001b[0m\u001b[0mj\u001b[0m\u001b[1;33m+\u001b[0m\u001b[0mint\u001b[0m\u001b[1;33m(\u001b[0m\u001b[0mM\u001b[0m\u001b[1;33m/\u001b[0m\u001b[1;36m2\u001b[0m\u001b[1;33m)\u001b[0m\u001b[1;33m]\u001b[0m\u001b[1;33m)\u001b[0m\u001b[1;33m:\u001b[0m\u001b[1;33m\u001b[0m\u001b[1;33m\u001b[0m\u001b[0m\n\u001b[1;32m---> 48\u001b[1;33m                         \u001b[0mprint\u001b[0m\u001b[1;33m(\u001b[0m\u001b[0mdirected_hausdorff\u001b[0m\u001b[1;33m(\u001b[0m\u001b[0mSk\u001b[0m\u001b[1;33m[\u001b[0m\u001b[0mj\u001b[0m\u001b[1;33m]\u001b[0m\u001b[1;33m,\u001b[0m \u001b[0mSk\u001b[0m\u001b[1;33m[\u001b[0m\u001b[0mj\u001b[0m\u001b[1;33m+\u001b[0m\u001b[0mint\u001b[0m\u001b[1;33m(\u001b[0m\u001b[0mM\u001b[0m\u001b[1;33m/\u001b[0m\u001b[1;36m2\u001b[0m\u001b[1;33m)\u001b[0m\u001b[1;33m]\u001b[0m\u001b[1;33m,\u001b[0m\u001b[1;33m[\u001b[0m\u001b[1;36m0\u001b[0m\u001b[1;33m]\u001b[0m\u001b[1;33m)\u001b[0m\u001b[1;33m)\u001b[0m\u001b[1;33m\u001b[0m\u001b[1;33m\u001b[0m\u001b[0m\n\u001b[0m\u001b[0;32m     49\u001b[0m \u001b[1;33m\u001b[0m\u001b[0m\n\u001b[0;32m     50\u001b[0m \u001b[1;33m\u001b[0m\u001b[0m\n",
      "\u001b[1;32m~\\Anaconda3\\envs\\opencv_image_processing\\lib\\site-packages\\scipy\\spatial\\distance.py\u001b[0m in \u001b[0;36mdirected_hausdorff\u001b[1;34m(u, v, seed)\u001b[0m\n\u001b[0;32m    451\u001b[0m     \u001b[0mu\u001b[0m \u001b[1;33m=\u001b[0m \u001b[0mnp\u001b[0m\u001b[1;33m.\u001b[0m\u001b[0masarray\u001b[0m\u001b[1;33m(\u001b[0m\u001b[0mu\u001b[0m\u001b[1;33m,\u001b[0m \u001b[0mdtype\u001b[0m\u001b[1;33m=\u001b[0m\u001b[0mnp\u001b[0m\u001b[1;33m.\u001b[0m\u001b[0mfloat64\u001b[0m\u001b[1;33m,\u001b[0m \u001b[0morder\u001b[0m\u001b[1;33m=\u001b[0m\u001b[1;34m'c'\u001b[0m\u001b[1;33m)\u001b[0m\u001b[1;33m\u001b[0m\u001b[1;33m\u001b[0m\u001b[0m\n\u001b[0;32m    452\u001b[0m     \u001b[0mv\u001b[0m \u001b[1;33m=\u001b[0m \u001b[0mnp\u001b[0m\u001b[1;33m.\u001b[0m\u001b[0masarray\u001b[0m\u001b[1;33m(\u001b[0m\u001b[0mv\u001b[0m\u001b[1;33m,\u001b[0m \u001b[0mdtype\u001b[0m\u001b[1;33m=\u001b[0m\u001b[0mnp\u001b[0m\u001b[1;33m.\u001b[0m\u001b[0mfloat64\u001b[0m\u001b[1;33m,\u001b[0m \u001b[0morder\u001b[0m\u001b[1;33m=\u001b[0m\u001b[1;34m'c'\u001b[0m\u001b[1;33m)\u001b[0m\u001b[1;33m\u001b[0m\u001b[1;33m\u001b[0m\u001b[0m\n\u001b[1;32m--> 453\u001b[1;33m     \u001b[1;32mif\u001b[0m \u001b[0mu\u001b[0m\u001b[1;33m.\u001b[0m\u001b[0mshape\u001b[0m\u001b[1;33m[\u001b[0m\u001b[1;36m1\u001b[0m\u001b[1;33m]\u001b[0m \u001b[1;33m!=\u001b[0m \u001b[0mv\u001b[0m\u001b[1;33m.\u001b[0m\u001b[0mshape\u001b[0m\u001b[1;33m[\u001b[0m\u001b[1;36m1\u001b[0m\u001b[1;33m]\u001b[0m\u001b[1;33m:\u001b[0m\u001b[1;33m\u001b[0m\u001b[1;33m\u001b[0m\u001b[0m\n\u001b[0m\u001b[0;32m    454\u001b[0m         raise ValueError('u and v need to have the same '\n\u001b[0;32m    455\u001b[0m                          'number of columns')\n",
      "\u001b[1;31mIndexError\u001b[0m: tuple index out of range"
     ]
    }
   ],
   "source": [
    "with progressbar.ProgressBar(max_value=(canv_H-half_window_size)-half_window_size) as bar:\n",
    "    progress = 0\n",
    "    for u in range(half_window_size,canv_H-half_window_size):\n",
    "        for v in range(half_window_size,canv_W-half_window_size):\n",
    "            if canvas[u][v] == 0:\n",
    "                imCrop = canvas[int(v-half_window_size):int(v+half_window_size+1),\n",
    "                                int(u-half_window_size):int(u+half_window_size+1)]\n",
    "                \n",
    "                #construct set Sk , k = 1,2,3,...,M  \n",
    "\n",
    "                Sk = {}\n",
    "                for k in range(1,M+1):\n",
    "                    \n",
    "                    Di = []\n",
    "                    for theta in range((k-1)*alpha,k*alpha):\n",
    "                        #create mask\n",
    "                        mask = np.zeros((window_size,window_size), dtype=np.uint8)\n",
    "                        if theta < 90:\n",
    "                            mask_line_u = int(half_window_size-(math.tan(math.radians(theta))*half_window_size))\n",
    "                            mask_line_v = window_size-1\n",
    "                        elif theta == 90:\n",
    "                            mask_line_u = 0\n",
    "                            mask_line_v = half_window_size\n",
    "                        elif theta < 270:\n",
    "                            mask_line_u = int(half_window_size-(math.tan(math.radians(180-theta))*half_window_size))\n",
    "                            mask_line_v = 0\n",
    "                        elif theta == 270:\n",
    "                            mask_line_u = window_size-1\n",
    "                            mask_line_v = half_window_size\n",
    "                        else:\n",
    "                            mask_line_u = int(half_window_size-(math.tan(math.radians(theta))*half_window_size))\n",
    "                            mask_line_v = window_size-1\n",
    "                            \n",
    "                        cv2.line(mask,(half_window_size,half_window_size),(mask_line_v,mask_line_u),(255,255,255),1)\n",
    "                        #do and operation to mask and imcrop\n",
    "                        bit_and = cv2.bitwise_and(imCrop,mask)\n",
    "                        \n",
    "                        if np.any(bit_and):\n",
    "                            Di.append(find_nearest_distance(bit_and,(half_window_size,half_window_size))) \n",
    "                        ShowResizedIm(np.hstack((imCrop,mask,bit_and)),\"img1\",0.1)\n",
    "                        cv2.waitKey(0)\n",
    "                        cv2.destroyAllWindows()\n",
    "                    Sk[k] = Di\n",
    "\n",
    "                #construct set Hd\n",
    "                for j in range(1,int(M/2)+2):\n",
    "                    if not bool(Sk[j]) and not bool(Sk[j+int(M/2)]):\n",
    "                        print(directed_hausdorff(Sk[j], Sk[j+int(M/2)],[0]))\n",
    "                        \n",
    "                        \n",
    "        bar.update(progress)\n",
    "        progress = progress+1\n",
    "                \n"
   ]
  },
  {
   "cell_type": "code",
   "execution_count": 6,
   "metadata": {},
   "outputs": [],
   "source": [
    "def find_nearest_distance(img, target):\n",
    "    nonzero = cv2.findNonZero(img)\n",
    "    distances = np.sqrt((nonzero[:,:,0] - target[0]) ** 2 + (nonzero[:,:,1] - target[1]) ** 2)\n",
    "    return distances[0][0]"
   ]
  },
  {
   "cell_type": "code",
   "execution_count": 83,
   "metadata": {
    "scrolled": true
   },
   "outputs": [
    {
     "name": "stdout",
     "output_type": "stream",
     "text": [
      "1\n",
      "(9.96388503503976, 0, 0)\n",
      "2\n",
      "(11.518346403089604, 0, 0)\n",
      "3\n",
      "(11.394198284085071, 0, 0)\n",
      "4\n",
      "(8.812031923655118, 0, 0)\n",
      "5\n",
      "(10.181057457698605, 0, 0)\n",
      "6\n",
      "(8.37206086662711, 0, 0)\n",
      "7\n",
      "(5.849046478427454, 0, 0)\n",
      "8\n",
      "(4.166007277307156, 0, 0)\n",
      "9\n",
      "(4.111395848141508, 0, 0)\n",
      "10\n",
      "(4.830988082771216, 0, 0)\n",
      "11\n",
      "(2.903697213050322, 0, 0)\n",
      "12\n",
      "(1.922131016860273, 0, 0)\n",
      "13\n",
      "(3.0982308490124097, 0, 0)\n",
      "14\n",
      "(2.070975591229081, 0, 0)\n",
      "15\n",
      "(2.3767098764632664, 0, 0)\n",
      "16\n",
      "(2.1213785841796593, 0, 0)\n",
      "17\n",
      "(1.7443258457259743, 0, 0)\n",
      "18\n",
      "(2.590619640514847, 0, 0)\n",
      "19\n",
      "(1.983653345276878, 0, 0)\n",
      "20\n",
      "(1.0349023557167751, 0, 0)\n",
      "21\n",
      "22\n",
      "23\n",
      "24\n",
      "25\n",
      "26\n",
      "27\n",
      "28\n",
      "29\n",
      "30\n",
      "31\n",
      "32\n",
      "33\n",
      "34\n",
      "35\n",
      "36\n",
      "(13.54025279881722, 0, 0)\n",
      "37\n",
      "(13.416407864998739, 0, 0)\n"
     ]
    }
   ],
   "source": [
    "#construct set Hd\n",
    "for j in range(1,int(M/2)+2):\n",
    "    print(j)\n",
    "    if len(Sk[j]) is len(Sk[j+int(M/2)-1]):\n",
    "        if bool(Sk[j]) and bool(Sk[j+int(M/2)-1]):\n",
    "            print(directed_hausdorff([Sk[j]], [Sk[j+int(M/2)-1]],[0]))\n",
    "\n"
   ]
  },
  {
   "cell_type": "code",
   "execution_count": 98,
   "metadata": {
    "scrolled": true
   },
   "outputs": [],
   "source": [
    "!jt -t chesterish -fs 13 -ofs 11 -cellw 1300 -T"
   ]
  }
 ],
 "metadata": {
  "kernelspec": {
   "display_name": "Python 3",
   "language": "python",
   "name": "python3"
  },
  "language_info": {
   "codemirror_mode": {
    "name": "ipython",
    "version": 3
   },
   "file_extension": ".py",
   "mimetype": "text/x-python",
   "name": "python",
   "nbconvert_exporter": "python",
   "pygments_lexer": "ipython3",
   "version": "3.7.4"
  }
 },
 "nbformat": 4,
 "nbformat_minor": 2
}
