{
 "cells": [
  {
   "cell_type": "code",
   "execution_count": 2,
   "metadata": {},
   "outputs": [],
   "source": [
    "import cv2\n",
    "import numpy as np\n",
    "import matplotlib.pyplot as plt\n",
    "import os\n",
    "import imutils\n",
    "import glob\n",
    "import argparse\n",
    "%matplotlib inline"
   ]
  },
  {
   "cell_type": "code",
   "execution_count": 3,
   "metadata": {},
   "outputs": [],
   "source": [
    " def ShowResizedIm(img,windowname,scale):\n",
    "    cv2.namedWindow(windowname, cv2.WINDOW_NORMAL)        # Create window with freedom of dimensions\n",
    "    height, width = img.shape[:2]   #get image dimension\n",
    "    cv2.resizeWindow(windowname,int(width/scale) ,int(height/scale))                    # Resize image\n",
    "    cv2.imshow(windowname, img)                            # Show image"
   ]
  },
  {
   "cell_type": "code",
   "execution_count": 4,
   "metadata": {},
   "outputs": [],
   "source": [
    "def auto_contrast(img):\n",
    "    height, width = img.shape[:2] \n",
    "    a_high=0\n",
    "    a_low=255\n",
    "    for i in img:\n",
    "        for j in i:\n",
    "            if j >= a_high:\n",
    "                a_high = j\n",
    "            if j<=a_low:\n",
    "                a_low =j\n",
    "    print(a_high)\n",
    "    print(a_low)\n",
    "    for i in range(height):\n",
    "        for j in range(width):\n",
    "            img[i][j] =  (img[i][j] -a_low)*255/(a_high-a_low)\n",
    "    a_high=0\n",
    "    a_low=255\n",
    "    for i in img:\n",
    "        for j in i:\n",
    "            if j >= a_high:\n",
    "                a_high = j\n",
    "            if j<=a_low:\n",
    "                a_low =j\n",
    "    print(a_high)\n",
    "    print(a_low)\n",
    "    return img"
   ]
  },
  {
   "cell_type": "code",
   "execution_count": 5,
   "metadata": {},
   "outputs": [],
   "source": [
    "#delute blood vessel in green chanel\n",
    "def vessel_erase(scr):    \n",
    "    img = scr.copy()\n",
    "    #clahe = cv2.createCLAHE(clipLimit=2.0, tileGridSize=(8,8))\n",
    "    #cl1 = clahe.apply(img)\n",
    "    kernel15 = cv2.getStructuringElement(cv2.MORPH_ELLIPSE,(50,50))\n",
    "    img_dilation = cv2.dilate(img, kernel15, iterations=1) \n",
    "    img_dilation_erosion = cv2.erode(img_dilation, kernel15, iterations=1)\n",
    "    return img_dilation_erosion"
   ]
  },
  {
   "cell_type": "code",
   "execution_count": 6,
   "metadata": {},
   "outputs": [],
   "source": [
    "def drawEllipse(img,contours):\n",
    "    displayimg = img.copy()\n",
    "    # Find the rotated rectangles and ellipses for each contour\n",
    "    # https://docs.opencv.org/3.4/de/d62/tutorial_bounding_rotated_ellipses.html\n",
    "    minEllipse = [None]*len(contours)\n",
    "    for i, c in enumerate(contours):\n",
    "        if c.shape[0] > 5:\n",
    "            minEllipse[i] = cv2.fitEllipse(c)\n",
    "\n",
    "    for i, c in enumerate(contours):\n",
    "        color = (255,255,255)\n",
    "        # ellipse\n",
    "        if c.shape[0] > 5:\n",
    "            cv2.ellipse(displayimg, minEllipse[i], color, 1)\n",
    "\n",
    "    return displayimg"
   ]
  },
  {
   "cell_type": "code",
   "execution_count": 7,
   "metadata": {},
   "outputs": [],
   "source": [
    "def drawRect(img,contours):\n",
    "    displayimg = img.copy()\n",
    "    # Find the rotated rectangles and ellipses for each contour\n",
    "    # https://docs.opencv.org/3.4/de/d62/tutorial_bounding_rotated_ellipses.html\n",
    "    minRect = [None]*len(contours)\n",
    "    for i, c in enumerate(contours):\n",
    "        minRect[i] = cv2.minAreaRect(c)\n",
    "\n",
    "    for i, c in enumerate(contours):\n",
    "        color = (255,255,255)\n",
    "        # rotated rectangle\n",
    "        box = cv2.boxPoints(minRect[i])\n",
    "        box = np.intp(box) #np.intp: Integer used for indexing (same as C ssize_t; normally either int32 or int64)\n",
    "        cv2.drawContours(displayimg, [box], 0, color)\n",
    "\n",
    "    return displayimg"
   ]
  },
  {
   "cell_type": "code",
   "execution_count": 8,
   "metadata": {},
   "outputs": [],
   "source": [
    "def biggestContour(contours):\n",
    "    contours_sizes = [(cv2.contourArea(cnt), cnt) for cnt in contours]\n",
    "    biggest_contour = max(contours_sizes, key=lambda x: x[0])[1]\n",
    "    return biggest_contour"
   ]
  },
  {
   "cell_type": "code",
   "execution_count": 83,
   "metadata": {},
   "outputs": [
    {
     "name": "stdout",
     "output_type": "stream",
     "text": [
      "source2\\001.jpg\n",
      "source2\\002.jpg\n",
      "source2\\003.jpg\n",
      "source2\\004.jpg\n",
      "source2\\005.jpg\n",
      "source2\\006.jpg\n",
      "source2\\007.jpg\n",
      "source2\\008.jpg\n",
      "source2\\009.jpg\n",
      "source2\\010.jpg\n",
      "source2\\011.jpg\n",
      "source2\\012.jpg\n",
      "source2\\013.jpg\n",
      "source2\\014.jpg\n",
      "source2\\015.jpg\n",
      "source2\\016.jpg\n",
      "source2\\017.jpg\n",
      "source2\\018.jpg\n",
      "source2\\019.jpg\n",
      "source2\\020.jpg\n"
     ]
    }
   ],
   "source": [
    "#import images from a folder into list\n",
    "\n",
    "\n",
    "path = 'source2/*.jpg'\n",
    "#path = 'healthy/*.jpg'\n",
    "#path = 'glaucoma/*.jpg'\n",
    "image_list = []\n",
    "for filename in glob.glob(path):\n",
    "    image_list.append(filename)\n",
    "    print(filename)"
   ]
  },
  {
   "cell_type": "code",
   "execution_count": 164,
   "metadata": {},
   "outputs": [],
   "source": [
    "img_source = image_list[2]"
   ]
  },
  {
   "cell_type": "code",
   "execution_count": 175,
   "metadata": {},
   "outputs": [],
   "source": [
    "img = cv2.imread(img_source)\n",
    "width = int(img.shape[1])\n",
    "height = int(img.shape[0])\n",
    "img = cv2.resize(img, (width,height), interpolation = cv2.INTER_AREA)\n",
    "\n",
    "#color image\n",
    "#cut out white text\n",
    "img = img[int(100):int(-1), int(0):int(-1)]\n",
    "\n",
    "#color image\n",
    "b,g,r = cv2.split(img)\n",
    "\n",
    "ShowResizedIm(np.hstack((b,g,r)),\"img1\",3)\n",
    "\n",
    "\n",
    "cv2.waitKey(0)\n",
    "cv2.destroyAllWindows()"
   ]
  },
  {
   "cell_type": "code",
   "execution_count": 176,
   "metadata": {},
   "outputs": [],
   "source": [
    "#g = vessel_erase(g)\n",
    "ShowResizedIm(g,\"img1\",3)\n",
    "\n",
    "\n",
    "cv2.waitKey(0)\n",
    "cv2.destroyAllWindows()"
   ]
  },
  {
   "cell_type": "code",
   "execution_count": 177,
   "metadata": {},
   "outputs": [
    {
     "name": "stdout",
     "output_type": "stream",
     "text": [
      "(1744, 926)\n"
     ]
    }
   ],
   "source": [
    "#find bright spot\n",
    "# apply a Gaussian blur to the image then find the brightest\n",
    "# region\n",
    "imblur = cv2.GaussianBlur(g,(21,21),0)\n",
    "(minVal, maxVal, minLoc, maxLoc) = cv2.minMaxLoc(imblur)\n",
    "print(maxLoc)\n",
    "image = g.copy()\n",
    "cir = cv2.circle(image,maxLoc,50,(255, 255, 255), 3)\n",
    "\n",
    "ShowResizedIm(np.hstack((g,cir)),\"img1\",3)\n",
    "\n",
    "\n",
    "cv2.waitKey(0)\n",
    "cv2.destroyAllWindows()"
   ]
  },
  {
   "cell_type": "code",
   "execution_count": 178,
   "metadata": {},
   "outputs": [],
   "source": [
    "# Crop image\n",
    "# https://www.learnopencv.com/how-to-select-a-bounding-box-roi-in-opencv-cpp-python/\n",
    "crop_width =380\n",
    "imCrop = g[int(maxLoc[1]-(crop_width/2)):int(maxLoc[1]+(crop_width/2)), int(maxLoc[0]-(crop_width/2)):int(maxLoc[0]+(crop_width/2))]\n",
    "cv2.imshow(\"Image\", imCrop)\n",
    "cv2.waitKey(0)\n",
    "cv2.destroyAllWindows()"
   ]
  },
  {
   "cell_type": "code",
   "execution_count": 179,
   "metadata": {},
   "outputs": [],
   "source": [
    "#imCrop = auto_contrast(imCrop)"
   ]
  },
  {
   "cell_type": "code",
   "execution_count": 180,
   "metadata": {},
   "outputs": [],
   "source": [
    "# Apply K mean\n",
    "# https://docs.opencv.org/3.0-beta/doc/py_tutorials/py_ml/py_kmeans/py_kmeans_opencv/py_kmeans_opencv.html\n",
    "imCrop = cv2.GaussianBlur(imCrop,(21,21),0)\n",
    "Z = imCrop.reshape((-1,1))\n",
    "# convert to np.float32\n",
    "Z = np.float32(Z)\n",
    "# define criteria, number of clusters(K) and apply kmeans()\n",
    "criteria = (cv2.TERM_CRITERIA_EPS + cv2.TERM_CRITERIA_MAX_ITER, 1000, 0.001)\n",
    "K = 3\n",
    "ret,label,center=cv2.kmeans(Z,K,None,criteria,10,cv2.KMEANS_RANDOM_CENTERS)\n",
    "\n",
    "# Now convert back into uint8, and make original image\n",
    "center = np.uint8(center)\n",
    "res = center[label.flatten()]\n",
    "res2 = res.reshape((imCrop.shape))\n",
    "\n",
    "#collect intesity value of background, disc, and cup\n",
    "inten_bg = center.min()\n",
    "inten_cup = center.max()\n",
    "for i in center:\n",
    "    if i > center.min() and i < center.max():\n",
    "        inten_disc = i[0]\n",
    "    \n",
    "\n",
    "\n",
    "cv2.imshow('img',np.hstack((imCrop,res2)))\n",
    "cv2.waitKey(0)\n",
    "cv2.destroyAllWindows()"
   ]
  },
  {
   "cell_type": "code",
   "execution_count": 181,
   "metadata": {},
   "outputs": [],
   "source": [
    "#morphology\n",
    "# https://docs.opencv.org/3.4/d9/d61/tutorial_py_morphological_ops.html\n",
    "kernel = np.ones((10,10),np.uint8)\n",
    "opening = cv2.morphologyEx(res2, cv2.MORPH_CLOSE, kernel)\n",
    "opening = cv2.morphologyEx(opening, cv2.MORPH_CLOSE, kernel)\n",
    "cv2.imshow('img',np.hstack((res2,opening)))\n",
    "cv2.waitKey(0)\n",
    "cv2.destroyAllWindows()"
   ]
  },
  {
   "cell_type": "code",
   "execution_count": 182,
   "metadata": {},
   "outputs": [],
   "source": [
    "#disable the cup cluster\n",
    "disc_cluster = opening.copy()\n",
    "disc_cluster[disc_cluster == inten_cup] = inten_disc\n",
    "ret, disc_thresh = cv2.threshold(disc_cluster, inten_bg , 255, 0)\n",
    "disc_contours, disc_hierarchy = cv2.findContours(disc_thresh, cv2.RETR_TREE,  cv2.CHAIN_APPROX_SIMPLE)\n",
    "\n",
    "disc_contours2 = [biggestContour(disc_contours)]\n",
    "cv2.drawContours(disc_cluster, disc_contours2, -1, (0,255,0), 3)\n",
    "\n",
    "# show the image\n",
    "cv2.imshow('img',disc_cluster)\n",
    "cv2.waitKey(0)\n",
    "cv2.destroyAllWindows()"
   ]
  },
  {
   "cell_type": "code",
   "execution_count": 183,
   "metadata": {},
   "outputs": [],
   "source": [
    "#disable the disc cluster\n",
    "cup_cluster = opening.copy()\n",
    "cup_cluster[cup_cluster == inten_disc] = inten_bg\n",
    "ret, cup_thresh = cv2.threshold(cup_cluster, inten_bg , 255, 0)\n",
    "cup_contours, cup_hierarchy = cv2.findContours(cup_thresh, cv2.RETR_TREE, cv2.CHAIN_APPROX_SIMPLE)\n",
    "\n",
    "cup_contours2 = [biggestContour(cup_contours)]\n",
    "cv2.drawContours(cup_cluster, cup_contours2, -1, (0,255,0), 3)\n",
    "\n",
    "# show the image\n",
    "cv2.imshow('img',cup_cluster)\n",
    "cv2.waitKey(0)\n",
    "cv2.destroyAllWindows()"
   ]
  },
  {
   "cell_type": "code",
   "execution_count": 184,
   "metadata": {},
   "outputs": [],
   "source": [
    "cv2.imshow('img',np.hstack((opening,drawEllipse(drawEllipse(imCrop,disc_contours2),cup_contours2))))\n",
    "cv2.waitKey(0)\n",
    "cv2.destroyAllWindows()"
   ]
  },
  {
   "cell_type": "code",
   "execution_count": null,
   "metadata": {},
   "outputs": [],
   "source": []
  },
  {
   "cell_type": "code",
   "execution_count": null,
   "metadata": {},
   "outputs": [],
   "source": []
  }
 ],
 "metadata": {
  "kernelspec": {
   "display_name": "Python 3",
   "language": "python",
   "name": "python3"
  },
  "language_info": {
   "codemirror_mode": {
    "name": "ipython",
    "version": 3
   },
   "file_extension": ".py",
   "mimetype": "text/x-python",
   "name": "python",
   "nbconvert_exporter": "python",
   "pygments_lexer": "ipython3",
   "version": "3.7.4"
  }
 },
 "nbformat": 4,
 "nbformat_minor": 2
}
