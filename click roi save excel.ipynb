{
 "cells": [
  {
   "cell_type": "code",
   "execution_count": 1,
   "metadata": {},
   "outputs": [],
   "source": [
    "import cv2\n",
    "import glob\n",
    "import numpy as np\n",
    "import pandas as pd\n",
    "from pandas import ExcelWriter\n",
    "from pandas import ExcelFile"
   ]
  },
  {
   "cell_type": "code",
   "execution_count": 2,
   "metadata": {},
   "outputs": [],
   "source": [
    "def findClickCoordinate(img,dot,dot_size = 5):\n",
    "    \"\"\"\n",
    "    Find coordinate of clicked location\n",
    "    Parameters:\n",
    "        -img: input image\n",
    "        -dot: amount of output dot\n",
    "        -dot_size: size of dot\n",
    "    Returns:\n",
    "        -circles: list of clicked coordinate [(x,y),...]\n",
    "        -img: output image\n",
    "    \"\"\"\n",
    "    def mouse_drawing(event, x, y, flags, params):\n",
    "        if event == cv2.EVENT_LBUTTONDOWN:\n",
    "            #print(\"Left click\")\n",
    "            circles.append((x, y))\n",
    "    #create window\n",
    "    cv2.namedWindow(\"Frame\")\n",
    "    #set mouse call back\n",
    "    cv2.setMouseCallback(\"Frame\", mouse_drawing)\n",
    "    #create lit to contain coordinate\n",
    "    circles = []\n",
    "    while True:\n",
    "        for center_position in circles:\n",
    "            cv2.circle(img, center_position, dot_size, (0, 0, 255), -1)\n",
    "\n",
    "        cv2.imshow(\"Frame\", img)\n",
    "        if len(circles) == dot:\n",
    "            break\n",
    "        key = cv2.waitKey(30)\n",
    "        if key == 27:\n",
    "            print(\"esc\")\n",
    "            circles = \"esc\"\n",
    "            break\n",
    "        elif key == ord(\"d\"):\n",
    "            circles = []\n",
    "    cv2.destroyAllWindows()#test\n",
    "    return circles,img"
   ]
  },
  {
   "cell_type": "code",
   "execution_count": 3,
   "metadata": {},
   "outputs": [],
   "source": [
    "def resizeHalf(img):\n",
    "    \"\"\"\n",
    "    opencv resized image in half\n",
    "    Parameters:\n",
    "        -img: image\n",
    "    Returns:\n",
    "        -resized: resized image\n",
    "    \"\"\"\n",
    "    width = int(img.shape[1]/2)\n",
    "    height = int(img.shape[0]/2)\n",
    "    dim = (width, height)\n",
    "    resized = cv2.resize(img, dim, interpolation = cv2.INTER_AREA)\n",
    "    return resized"
   ]
  },
  {
   "cell_type": "code",
   "execution_count": 4,
   "metadata": {},
   "outputs": [],
   "source": [
    "import glob\n",
    "def readImgFolder(path):\n",
    "    image_list = []\n",
    "    for filename in glob.glob(path):\n",
    "        image_list.append(filename)\n",
    "    return image_list"
   ]
  },
  {
   "cell_type": "code",
   "execution_count": 5,
   "metadata": {},
   "outputs": [
    {
     "name": "stdout",
     "output_type": "stream",
     "text": [
      "1818\n",
      "1020\n",
      "1784\n",
      "1032\n",
      "804\n",
      "940\n",
      "870\n",
      "944\n",
      "1880\n",
      "990\n",
      "840\n",
      "1050\n",
      "1800\n",
      "1026\n",
      "1894\n",
      "1102\n",
      "1762\n",
      "1020\n",
      "832\n",
      "1104\n",
      "esc\n"
     ]
    }
   ],
   "source": [
    "#=========USER START================\n",
    "#folder path\n",
    "path = 'RAW_FUNDUS_INPUT/*.jpg'\n",
    "#=========USER END================\n",
    "name_list = []\n",
    "x_list = []\n",
    "y_list = []\n",
    "#read image\n",
    "for name in readImgFolder(path):\n",
    "    img = cv2.imread(name)\n",
    "    img = resizeHalf(img)\n",
    "    #find clicked coordinate\n",
    "    coor,out= findClickCoordinate(img,1,dot_size = 5)\n",
    "    #print coordinate\n",
    "    if coor is not \"esc\":\n",
    "        name_list.append(name.replace(path.replace(\"/*.jpg\",\"\")+\"\\\\\",\"\"))\n",
    "        x = coor[0][0]*2\n",
    "        x_list.append(x)\n",
    "        print(x)\n",
    "        y = coor[0][1]*2\n",
    "        y_list.append(y)\n",
    "        print(y)\n",
    "    else:\n",
    "        break\n",
    "    #show image\n",
    "    #cv2.imshow(\"Output\", out)\n",
    "    #cv2.waitKey(0)\n",
    "    #cv2.destroyAllWindows()\n",
    "if 1:  \n",
    "    df = pd.DataFrame({'file name':name_list,\n",
    "                           'x center':x_list,\n",
    "                           'y center':y_list,\n",
    "                          })\n",
    "    writer = ExcelWriter('ROI.xlsx')\n",
    "    df.to_excel(writer,'Sheet1',index=False)\n",
    "    writer.save()"
   ]
  }
 ],
 "metadata": {
  "kernelspec": {
   "display_name": "Python 3",
   "language": "python",
   "name": "python3"
  },
  "language_info": {
   "codemirror_mode": {
    "name": "ipython",
    "version": 3
   },
   "file_extension": ".py",
   "mimetype": "text/x-python",
   "name": "python",
   "nbconvert_exporter": "python",
   "pygments_lexer": "ipython3",
   "version": "3.7.4"
  }
 },
 "nbformat": 4,
 "nbformat_minor": 2
}
