{
 "cells": [
  {
   "cell_type": "code",
   "execution_count": 131,
   "metadata": {},
   "outputs": [],
   "source": [
    "import cv2\n",
    "import numpy as np\n",
    "import matplotlib.pyplot as plt\n",
    "import imutils\n",
    "import glob\n",
    "import math\n",
    "import progressbar"
   ]
  },
  {
   "cell_type": "code",
   "execution_count": 1,
   "metadata": {},
   "outputs": [],
   "source": [
    "def ShowResizedIm(img,windowname,scale):\n",
    "    cv2.namedWindow(windowname, cv2.WINDOW_NORMAL)        # Create window with freedom of dimensions\n",
    "    height, width = img.shape[:2]   #get image dimension\n",
    "    cv2.resizeWindow(windowname,int(width/scale) ,int(height/scale))                    # Resize image\n",
    "    cv2.imshow(windowname, img)                            # Show image"
   ]
  },
  {
   "cell_type": "code",
   "execution_count": 3,
   "metadata": {},
   "outputs": [],
   "source": [
    "#=========USER START================\n",
    "#folder path\n",
    "path = 'source2/*.jpg' \n",
    "\n",
    "\n",
    "#=========USER END================"
   ]
  },
  {
   "cell_type": "code",
   "execution_count": 4,
   "metadata": {},
   "outputs": [],
   "source": [
    "image_list = []\n",
    "for filename in glob.glob(path):\n",
    "    image_list.append(filename)\n",
    "\n",
    "name_list = []"
   ]
  },
  {
   "cell_type": "code",
   "execution_count": 5,
   "metadata": {},
   "outputs": [],
   "source": [
    "img = cv2.imread(image_list[4])\n",
    "ShowResizedIm(np.hstack([img,]),\"mark\",2)\n",
    "cv2.waitKey(0)\n",
    "cv2.destroyAllWindows()"
   ]
  },
  {
   "cell_type": "code",
   "execution_count": 6,
   "metadata": {},
   "outputs": [],
   "source": [
    "#color image\n",
    "b,g,r = cv2.split(img)\n",
    "\n",
    "ShowResizedIm(np.hstack((b,g,r)),\"img1\",3)\n",
    "\n",
    "\n",
    "cv2.waitKey(0)\n",
    "cv2.destroyAllWindows()"
   ]
  },
  {
   "cell_type": "code",
   "execution_count": 11,
   "metadata": {},
   "outputs": [],
   "source": [
    "#highboost filtering\n",
    "#https://theailearner.com/2019/05/14/unsharp-masking-and-highboost-filtering/\n",
    "\n",
    "# Blur the image\n",
    "kernel = np.ones((21,21),np.float32)/441\n",
    "dst = cv2.filter2D(g,-1,kernel)\n",
    "# Apply Unsharp masking\n",
    "k = 5\n",
    "unsharp_image = cv2.addWeighted(g, k+1, dst, -k, 0)\n",
    "\n",
    "\n",
    "ShowResizedIm(np.hstack((g,unsharp_image)),\"img1\",3)\n",
    "cv2.waitKey(0)\n",
    "cv2.destroyAllWindows()"
   ]
  },
  {
   "cell_type": "code",
   "execution_count": 15,
   "metadata": {},
   "outputs": [],
   "source": [
    "imgcopy = unsharp_image.copy()\n",
    "\n",
    "height, width = imgcopy.shape[:2]   #get image dimension\n",
    "scaler = 1\n",
    "imgcopy = cv2.resize(imgcopy,(int(width*scaler),int(height*scaler)))\n",
    "\n",
    "#canny edge\n",
    "imgcopy = cv2.GaussianBlur(imgcopy,(15,15),0)\n",
    "\n",
    "edges = cv2.Canny(imgcopy,80,100)\n",
    "edges = cv2.Canny(imgcopy,80,100)\n",
    "\n",
    "cv2.imwrite(\"img.jpg\",edges)\n",
    "ShowResizedIm(np.hstack((imgcopy,edges)),\"img1\",2)\n",
    "cv2.waitKey(0)\n",
    "cv2.destroyAllWindows()"
   ]
  },
  {
   "cell_type": "code",
   "execution_count": 141,
   "metadata": {},
   "outputs": [
    {
     "name": "stderr",
     "output_type": "stream",
     "text": [
      "100% (1982 of 1982) |####################| Elapsed Time: 0:12:46 Time:  0:12:46\n"
     ]
    },
    {
     "ename": "KeyboardInterrupt",
     "evalue": "",
     "output_type": "error",
     "traceback": [
      "\u001b[1;31m---------------------------------------------------------------------------\u001b[0m",
      "\u001b[1;31mKeyboardInterrupt\u001b[0m                         Traceback (most recent call last)",
      "\u001b[1;32m<ipython-input-141-8010a9e1f5de>\u001b[0m in \u001b[0;36m<module>\u001b[1;34m\u001b[0m\n\u001b[0;32m     32\u001b[0m                     \u001b[1;32melse\u001b[0m\u001b[1;33m:\u001b[0m\u001b[1;33m\u001b[0m\u001b[1;33m\u001b[0m\u001b[0m\n\u001b[0;32m     33\u001b[0m                         \u001b[0mmask_line_v\u001b[0m \u001b[1;33m=\u001b[0m \u001b[1;36m0\u001b[0m\u001b[1;33m\u001b[0m\u001b[1;33m\u001b[0m\u001b[0m\n\u001b[1;32m---> 34\u001b[1;33m                     \u001b[0mcv2\u001b[0m\u001b[1;33m.\u001b[0m\u001b[0mline\u001b[0m\u001b[1;33m(\u001b[0m\u001b[0mmask\u001b[0m\u001b[1;33m,\u001b[0m\u001b[1;33m(\u001b[0m\u001b[0mhalf_window_size\u001b[0m\u001b[1;33m,\u001b[0m\u001b[0mhalf_window_size\u001b[0m\u001b[1;33m)\u001b[0m\u001b[1;33m,\u001b[0m\u001b[1;33m(\u001b[0m\u001b[0mmask_line_v\u001b[0m\u001b[1;33m,\u001b[0m\u001b[0mmask_line_u\u001b[0m\u001b[1;33m)\u001b[0m\u001b[1;33m,\u001b[0m\u001b[1;33m(\u001b[0m\u001b[1;36m255\u001b[0m\u001b[1;33m,\u001b[0m\u001b[1;36m255\u001b[0m\u001b[1;33m,\u001b[0m\u001b[1;36m255\u001b[0m\u001b[1;33m)\u001b[0m\u001b[1;33m,\u001b[0m\u001b[1;36m1\u001b[0m\u001b[1;33m)\u001b[0m\u001b[1;33m\u001b[0m\u001b[1;33m\u001b[0m\u001b[0m\n\u001b[0m\u001b[0;32m     35\u001b[0m         \u001b[0mbar\u001b[0m\u001b[1;33m.\u001b[0m\u001b[0mupdate\u001b[0m\u001b[1;33m(\u001b[0m\u001b[0mprogress\u001b[0m\u001b[1;33m)\u001b[0m\u001b[1;33m\u001b[0m\u001b[1;33m\u001b[0m\u001b[0m\n\u001b[0;32m     36\u001b[0m         \u001b[0mprogress\u001b[0m \u001b[1;33m=\u001b[0m \u001b[0mprogress\u001b[0m\u001b[1;33m+\u001b[0m\u001b[1;36m1\u001b[0m\u001b[1;33m\u001b[0m\u001b[1;33m\u001b[0m\u001b[0m\n",
      "\u001b[1;31mKeyboardInterrupt\u001b[0m: "
     ]
    }
   ],
   "source": [
    "canvas = np.zeros((2000,1500), dtype=np.uint8)\n",
    "canv_H,canv_W = canvas.shape[:2]\n",
    "cv2.line(canvas,(0,0),(500,500),(255,255,255),1)\n",
    "cv2.line(canvas,(0,50),(480,500),(255,255,255),1)\n",
    "window_size = 19\n",
    "half_window_size = int(window_size/2)\n",
    "alpha = 5\n",
    "M = int(360/alpha) #72\n",
    "\n",
    "with progressbar.ProgressBar(max_value=(canv_H-half_window_size)-half_window_size) as bar:\n",
    "    progress = 0\n",
    "    for u in range(half_window_size,canv_H-half_window_size):\n",
    "        for v in range(half_window_size,canv_W-half_window_size):\n",
    "            if canvas[u][v] == 0:\n",
    "                \n",
    "                for k in range(1,M):\n",
    "                    for theta in range((k-1)*alpha,k*alpha):\n",
    "                        mask = np.zeros((window_size,window_size), dtype=np.uint8)\n",
    "                        half_window_size = int(window_size/2)\n",
    "\n",
    "                        theta = 90\n",
    "                        if theta == 90:\n",
    "                            mask_line_u = 0\n",
    "                        elif theta == 270:\n",
    "                            mask_line_u = window_size-1\n",
    "                        else:\n",
    "                            mask_line_u = int(half_window_size-(math.tan(math.radians(theta))*half_window_size))\n",
    "\n",
    "                        if theta == 90 or theta == 270:\n",
    "                            mask_line_v = half_window_size\n",
    "                        elif theta < 90 or theta > 270:\n",
    "                            mask_line_v = window_size-1\n",
    "                        else:\n",
    "                            mask_line_v = 0\n",
    "                        cv2.line(mask,(half_window_size,half_window_size),(mask_line_v,mask_line_u),(255,255,255),1)\n",
    "        bar.update(progress)\n",
    "        progress = progress+1\n",
    "                \n"
   ]
  },
  {
   "cell_type": "code",
   "execution_count": 142,
   "metadata": {},
   "outputs": [
    {
     "data": {
      "text/plain": [
       "255"
      ]
     },
     "execution_count": 142,
     "metadata": {},
     "output_type": "execute_result"
    }
   ],
   "source": [
    "canvas[1][1]\n"
   ]
  },
  {
   "cell_type": "code",
   "execution_count": 127,
   "metadata": {},
   "outputs": [
    {
     "name": "stdout",
     "output_type": "stream",
     "text": [
      "0\n",
      "9\n"
     ]
    }
   ],
   "source": [
    "mask = np.zeros((window_size,window_size), dtype=np.uint8)\n",
    "half_window_size = int(window_size/2)\n",
    "\n",
    "theta = 90\n",
    "if theta == 90:\n",
    "    mask_line_u = 0\n",
    "elif theta == 270:\n",
    "    mask_line_u = window_size-1\n",
    "else:\n",
    "    mask_line_u = int(half_window_size-(math.tan(math.radians(theta))*half_window_size))\n",
    "\n",
    "if theta == 90 or theta == 270:\n",
    "    mask_line_v = half_window_size\n",
    "elif theta < 90 or theta > 270:\n",
    "    mask_line_v = window_size-1\n",
    "else:\n",
    "    mask_line_v = 0\n",
    "print(mask_line_u)\n",
    "print(mask_line_v)\n",
    "cv2.line(mask,(half_window_size,half_window_size),(mask_line_v,mask_line_u),(255,255,255),1)\n",
    "cv2.imwrite(\"mask.jpg\",mask)\n",
    "ShowResizedIm(np.hstack((mask,)),\"img1\",2)\n",
    "cv2.waitKey(0)\n",
    "cv2.destroyAllWindows()"
   ]
  },
  {
   "cell_type": "code",
   "execution_count": 120,
   "metadata": {},
   "outputs": [
    {
     "data": {
      "text/plain": [
       "9.0"
      ]
     },
     "execution_count": 120,
     "metadata": {},
     "output_type": "execute_result"
    }
   ],
   "source": [
    "theta = \n",
    "round(half_window_size-(math.tan(math.radians(theta))*half_window_size),2)"
   ]
  },
  {
   "cell_type": "code",
   "execution_count": 79,
   "metadata": {},
   "outputs": [
    {
     "data": {
      "text/plain": [
       "-1.4698115417875834e+17"
      ]
     },
     "execution_count": 79,
     "metadata": {},
     "output_type": "execute_result"
    }
   ],
   "source": [
    "\n",
    "round(half_window_size-(math.tan(math.radians(theta))*half_window_size),0)"
   ]
  },
  {
   "cell_type": "code",
   "execution_count": 30,
   "metadata": {},
   "outputs": [],
   "source": [
    "ShowResizedIm(np.hstack((canvas,)),\"img1\",2)\n",
    "cv2.waitKey(0)\n",
    "cv2.destroyAllWindows()\n",
    "        "
   ]
  }
 ],
 "metadata": {
  "kernelspec": {
   "display_name": "Python 3",
   "language": "python",
   "name": "python3"
  },
  "language_info": {
   "codemirror_mode": {
    "name": "ipython",
    "version": 3
   },
   "file_extension": ".py",
   "mimetype": "text/x-python",
   "name": "python",
   "nbconvert_exporter": "python",
   "pygments_lexer": "ipython3",
   "version": "3.7.4"
  }
 },
 "nbformat": 4,
 "nbformat_minor": 2
}
