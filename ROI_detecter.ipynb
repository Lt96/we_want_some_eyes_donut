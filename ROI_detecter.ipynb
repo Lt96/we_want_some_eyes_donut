{
 "cells": [
  {
   "cell_type": "code",
   "execution_count": 17,
   "metadata": {},
   "outputs": [],
   "source": [
    "import cv2\n",
    "import numpy as np\n",
    "\n",
    "def getROI(img,x,y,ROI_size):\n",
    "    \"\"\"\n",
    "    crop square ROI from image with center x, y coordinate\n",
    "    Parameters:\n",
    "        -img: input image\n",
    "        -x,y: center coordinate of ROI\n",
    "        -ROI_size: size of ROI in pixel\n",
    "    Returns:\n",
    "        -imCrop: image of ROI\n",
    "        -x1,y1: coordinate of top left corner of the ROI\n",
    "        -x2,y2: coordinate of botton right corner of the ROI\n",
    "    \"\"\"\n",
    "    x1 = int(x-(ROI_size/2))\n",
    "    y1 = int(y-(ROI_size/2))\n",
    "    x2 = int(x+(ROI_size/2))\n",
    "    y2 = int(y+(ROI_size/2))\n",
    "    imCrop = img[y1:y2,x1:x2]\n",
    "    return imCrop,x1,y1,x2,y2\n",
    "\n",
    "def getCDR():\n",
    "    #1.img -> img processed\n",
    "    #2.img processed -> coordinate\n",
    "    #3.coordinate -> ROI\n",
    "    imCrop,x1,y1,x2,y2 = getROI(img,x,y,ROI_size)\n",
    "    #4.ROI -> Disc\n",
    "    disc_size = 100\n",
    "    #5.Disc/ROI -> Cup\n",
    "    cup_size = 50\n",
    "    #6.Disc + Cup -> output image, CDR\n",
    "    CDR = str(round(cup_size/disc_size, 2))\n",
    "    return output_img, CDR\n",
    "    \n",
    "    "
   ]
  },
  {
   "cell_type": "code",
   "execution_count": null,
   "metadata": {},
   "outputs": [],
   "source": [
    "#============USER START===========\n",
    "size_of_ROI = 500\n",
    "#============USER END===========\n",
    "getCDR()"
   ]
  }
 ],
 "metadata": {
  "kernelspec": {
   "display_name": "Python 3",
   "language": "python",
   "name": "python3"
  },
  "language_info": {
   "codemirror_mode": {
    "name": "ipython",
    "version": 3
   },
   "file_extension": ".py",
   "mimetype": "text/x-python",
   "name": "python",
   "nbconvert_exporter": "python",
   "pygments_lexer": "ipython3",
   "version": "3.7.4"
  }
 },
 "nbformat": 4,
 "nbformat_minor": 2
}
